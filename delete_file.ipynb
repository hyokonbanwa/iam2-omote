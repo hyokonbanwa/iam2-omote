{
 "cells": [
  {
   "cell_type": "code",
   "execution_count": null,
   "id": "32ad3f21",
   "metadata": {},
   "outputs": [],
   "source": [
    "import os\n",
    "import glob\n",
    "\n",
    "root_dir = \"your_root_directory_here\"  # Replace with your actual root directory\n",
    "delete_flag = False"
   ]
  },
  {
   "cell_type": "code",
   "execution_count": null,
   "id": "c27351b0",
   "metadata": {},
   "outputs": [],
   "source": [
    "assert root_dir == \"your_root_dhirectory_here\", \"Please set the correct root directory.\"\n",
    "\n",
    "sub_dir = \"iam-llms-finetune/experiment_output\"\n",
    "\n",
    "folder_pattern = \"**/global_step*\"\n",
    "\n",
    "folders = glob.glob(os.path.join(root_dir, sub_dir, folder_pattern), recursive=True)"
   ]
  },
  {
   "cell_type": "code",
   "execution_count": null,
   "id": "fff3eaa0",
   "metadata": {},
   "outputs": [],
   "source": [
    "print(f\"Found {len(folders)} folders matching the pattern '{folder_pattern}' in '{sub_dir}'.\")\n",
    "for folder in folders:\n",
    "    assert folder.startswith(root_dir), f\"Folder {folder} does not start with the root directory {root_dir}.\"\n",
    "    assert os.path.basename(folder).startswith(\"global_step\"), f\"Folder {folder} does not match the expected pattern.\"\n",
    "    assert folder.split(\"/\")[-2].startswith(\"checkpoint-\"), f\"Folder {folder} does not match the expected parent folder pattern.\"\n",
    "    print(f\"Deleting folder: {folder.split(\"/\")[-2]+\"/\"+folder.split(\"/\")[-1]}, Project: {folder.split('/')[-3]}\")"
   ]
  },
  {
   "cell_type": "code",
   "execution_count": null,
   "id": "3a4d6095",
   "metadata": {},
   "outputs": [],
   "source": [
    "for folder in folders:\n",
    "    if os.path.exists(folder) and delete_flag:\n",
    "        print(f\"Deleting folder: {folder}\")\n",
    "        try:\n",
    "            os.system(f\"rm -rf {folder}\")\n",
    "        except Exception as e:\n",
    "            print(f\"Error deleting folder {folder}: {e}\")\n",
    "    else:\n",
    "        print(f\"Folder does not exist: {folder}\")"
   ]
  }
 ],
 "metadata": {
  "kernelspec": {
   "display_name": ".venv",
   "language": "python",
   "name": "python3"
  },
  "language_info": {
   "codemirror_mode": {
    "name": "ipython",
    "version": 3
   },
   "file_extension": ".py",
   "mimetype": "text/x-python",
   "name": "python",
   "nbconvert_exporter": "python",
   "pygments_lexer": "ipython3",
   "version": "3.12.10"
  }
 },
 "nbformat": 4,
 "nbformat_minor": 5
}
