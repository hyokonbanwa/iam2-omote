{
 "cells": [
  {
   "cell_type": "markdown",
   "id": "916fcd35",
   "metadata": {},
   "source": [
    "# mscoco mapの仕様\n",
    "* idは多分見ていないが、evalを通した後にidの割り振りが変わる\n",
    "* image_idは見ており、昇順にsortされる\n",
    "* 画像順(image_id)順にソートはするが、画像内部ではsortしない"
   ]
  },
  {
   "cell_type": "code",
   "execution_count": 1,
   "id": "a387c347",
   "metadata": {},
   "outputs": [],
   "source": [
    "from copy import deepcopy"
   ]
  },
  {
   "cell_type": "code",
   "execution_count": 2,
   "id": "df3bd68f",
   "metadata": {},
   "outputs": [],
   "source": [
    "def create_dummy_coco_dataset(num_images=10, num_annotations=20,image_height=100, image_width=100, bbox_height=10, bbox_width=10):\n",
    "    images = []\n",
    "    annotations = []\n",
    "    categories = [{\"id\": 1, \"name\": \"object\"}]\n",
    "\n",
    "    for i in range(num_images):\n",
    "        image = {\n",
    "            \"id\": i,\n",
    "            \"width\": image_width,\n",
    "            \"height\": image_height,\n",
    "            \"file_name\": f\"image_{i}.jpg\"\n",
    "        }\n",
    "        images.append(image)#\n",
    "\n",
    "        assert image_height * image_width >= num_annotations * bbox_height * bbox_width, \"Not enough space for annotations in the image.\"\n",
    "        for j in range(num_annotations):\n",
    "            height_index  = j // (image_width // bbox_width)\n",
    "            width_index = j % (image_width // bbox_width)\n",
    "            annotation = {\n",
    "                \"id\": i * num_annotations + j,\n",
    "                \"image_id\": i,\n",
    "                \"category_id\": categories[0][\"id\"],\n",
    "                \"bbox\": [width_index * bbox_width, height_index * bbox_height, bbox_width, bbox_height],\n",
    "                \"bbox_xyxy\": [width_index * bbox_width, height_index * bbox_height, (width_index + 1) * bbox_width, (height_index + 1) * bbox_height],\n",
    "                \"area\": bbox_width * bbox_height,\n",
    "                \"iscrowd\": 0\n",
    "            }\n",
    "            annotations.append(annotation)\n",
    "\n",
    "    return {\"images\": images, \"annotations\": annotations, \"categories\": categories}"
   ]
  },
  {
   "cell_type": "code",
   "execution_count": 3,
   "id": "e3754bca",
   "metadata": {},
   "outputs": [],
   "source": [
    "bbox_height = 10\n",
    "bbox_width = 10\n",
    "dummy_data = create_dummy_coco_dataset(num_images=1,num_annotations=100,bbox_height=bbox_height, bbox_width=bbox_width)\n",
    "#dummy_data = create_dummy_coco_dataset(num_images=100,num_annotations=1,bbox_height=bbox_height, bbox_width=bbox_width)"
   ]
  },
  {
   "cell_type": "code",
   "execution_count": 4,
   "id": "1016577b",
   "metadata": {},
   "outputs": [],
   "source": [
    "dummy_images = dummy_data[\"images\"]\n",
    "dummy_annotations = dummy_data[\"annotations\"]\n",
    "dummy_categories = dummy_data[\"categories\"]"
   ]
  },
  {
   "cell_type": "code",
   "execution_count": 5,
   "id": "ef0b2d58",
   "metadata": {},
   "outputs": [
    {
     "name": "stdout",
     "output_type": "stream",
     "text": [
      "{'id': 0, 'image_id': 0, 'category_id': 1, 'bbox': [0, 0, 10, 10], 'bbox_xyxy': [0, 0, 10, 10], 'area': 100, 'iscrowd': 0}\n",
      "{'id': 9, 'image_id': 0, 'category_id': 1, 'bbox': [90, 0, 10, 10], 'bbox_xyxy': [90, 0, 100, 10], 'area': 100, 'iscrowd': 0}\n",
      "{'id': 19, 'image_id': 0, 'category_id': 1, 'bbox': [90, 10, 10, 10], 'bbox_xyxy': [90, 10, 100, 20], 'area': 100, 'iscrowd': 0}\n",
      "{'id': 99, 'image_id': 0, 'category_id': 1, 'bbox': [90, 90, 10, 10], 'bbox_xyxy': [90, 90, 100, 100], 'area': 100, 'iscrowd': 0}\n"
     ]
    }
   ],
   "source": [
    "annotations = dummy_annotations\n",
    "print(annotations[0])\n",
    "print(annotations[9])\n",
    "print(annotations[19])\n",
    "print(annotations[99])"
   ]
  },
  {
   "cell_type": "code",
   "execution_count": 6,
   "id": "87427127",
   "metadata": {},
   "outputs": [
    {
     "name": "stdout",
     "output_type": "stream",
     "text": [
      "{'id': 0, 'image_id': 0, 'category_id': 1, 'bbox': [0, 0, 10, 10], 'bbox_xyxy': [0, 0, 10, 10], 'area': 100, 'iscrowd': 0}\n",
      "{'id': 9, 'image_id': 0, 'category_id': 1, 'bbox': [90, 0, 10, 10], 'bbox_xyxy': [90, 0, 100, 10], 'area': 100, 'iscrowd': 0}\n",
      "{'id': 19, 'image_id': 0, 'category_id': 1, 'bbox': [90, 10, 10, 10], 'bbox_xyxy': [90, 10, 100, 20], 'area': 100, 'iscrowd': 0}\n",
      "{'id': 99, 'image_id': 0, 'category_id': 1, 'bbox': [90, 90, 10, 10], 'bbox_xyxy': [90, 90, 100, 100], 'area': 100, 'iscrowd': 0}\n"
     ]
    }
   ],
   "source": [
    "gt_dummy_annotations = deepcopy(dummy_annotations)\n",
    "# for annotation in gt_dummy_annotations:\n",
    "#     annotation[\"score\"] = 1.0\n",
    "annotations = gt_dummy_annotations\n",
    "print(annotations[0])\n",
    "print(annotations[9])\n",
    "print(annotations[19])\n",
    "print(annotations[99])"
   ]
  },
  {
   "cell_type": "code",
   "execution_count": 7,
   "id": "dd498290",
   "metadata": {},
   "outputs": [
    {
     "name": "stdout",
     "output_type": "stream",
     "text": [
      "{'id': 0, 'image_id': 0, 'category_id': 1, 'bbox': [0, 0, 10, 10], 'bbox_xyxy': [0, 0, 10, 10], 'area': 100, 'iscrowd': 0, 'score': 1.0}\n",
      "{'id': 9, 'image_id': 0, 'category_id': 1, 'bbox': [90, 0, 10, 10], 'bbox_xyxy': [90, 0, 100, 10], 'area': 100, 'iscrowd': 0, 'score': 1.0}\n",
      "{'id': 19, 'image_id': 0, 'category_id': 1, 'bbox': [90, 10, 10, 10], 'bbox_xyxy': [90, 10, 100, 20], 'area': 100, 'iscrowd': 0, 'score': 1.0}\n",
      "{'id': 99, 'image_id': 0, 'category_id': 1, 'bbox': [90, 90, 10, 10], 'bbox_xyxy': [90, 90, 100, 100], 'area': 100, 'iscrowd': 0, 'score': 1.0}\n"
     ]
    }
   ],
   "source": [
    "\n",
    "correct_dummy_annotations = deepcopy(dummy_annotations)\n",
    "for annotation in correct_dummy_annotations:\n",
    "    annotation[\"score\"] = 1.0\n",
    "annotations = correct_dummy_annotations\n",
    "print(annotations[0])\n",
    "print(annotations[9])\n",
    "print(annotations[19])\n",
    "print(annotations[99])\n"
   ]
  },
  {
   "cell_type": "code",
   "execution_count": 8,
   "id": "43e13ea4",
   "metadata": {},
   "outputs": [
    {
     "name": "stdout",
     "output_type": "stream",
     "text": [
      "{'id': 0, 'image_id': 0, 'category_id': 1, 'bbox': [0, 0, 10, 10], 'bbox_xyxy': [0, 0, 10, 10], 'area': 100, 'iscrowd': 0, 'score': 1.0}\n",
      "{'id': 9, 'image_id': 0, 'category_id': 1, 'bbox': [90, 0, 10, 10], 'bbox_xyxy': [90, 0, 100, 10], 'area': 100, 'iscrowd': 0, 'score': 1.0}\n",
      "{'id': 19, 'image_id': 0, 'category_id': 1, 'bbox': [90, 10, 10, 10], 'bbox_xyxy': [90, 10, 100, 20], 'area': 100, 'iscrowd': 0, 'score': 1.0}\n",
      "{'id': 99, 'image_id': 0, 'category_id': 1, 'bbox': [90, 90, 1.0, 1.0], 'bbox_xyxy': [90, 90, 91.0, 91.0], 'area': 1.0, 'iscrowd': 0, 'score': 1.0}\n"
     ]
    }
   ],
   "source": [
    "#annotation[\"bbox\"] = [annotation[\"bbox\"][0], annotation[\"bbox\"][1], annotation[\"bbox\"][2], annotation[\"bbox\"][3]]\n",
    "tp50_fp50_dummy_annotations = deepcopy(dummy_annotations)\n",
    "for index,annotation in enumerate(tp50_fp50_dummy_annotations):\n",
    "    annotation[\"score\"] = 1.0\n",
    "    if index < 50:\n",
    "        # annotation[\"score\"] = 1.0\n",
    "        pass\n",
    "    else:\n",
    "        # annotation[\"score\"] = 0.0\n",
    "        annotation[\"bbox\"] = [annotation[\"bbox\"][0], annotation[\"bbox\"][1], annotation[\"bbox\"][2]*0.1, annotation[\"bbox\"][3]*0.1]\n",
    "        annotation[\"bbox_xyxy\"] = [annotation[\"bbox_xyxy\"][0], annotation[\"bbox_xyxy\"][1], annotation[\"bbox_xyxy\"][0] + bbox_width*0.1, annotation[\"bbox_xyxy\"][1] + bbox_height*0.1]\n",
    "        annotation[\"area\"] = annotation[\"bbox\"][2] * annotation[\"bbox\"][3]\n",
    "annotations = tp50_fp50_dummy_annotations\n",
    "print(annotations[0])\n",
    "print(annotations[9])\n",
    "print(annotations[19])\n",
    "print(annotations[99])"
   ]
  },
  {
   "cell_type": "code",
   "execution_count": 9,
   "id": "d394783a",
   "metadata": {},
   "outputs": [
    {
     "name": "stdout",
     "output_type": "stream",
     "text": [
      "{'id': 0, 'image_id': 0, 'category_id': 1, 'bbox': [0, 0, 1.0, 1.0], 'bbox_xyxy': [0, 0, 1.0, 1.0], 'area': 1.0, 'iscrowd': 0, 'score': 1.0}\n",
      "{'id': 9, 'image_id': 0, 'category_id': 1, 'bbox': [90, 0, 1.0, 1.0], 'bbox_xyxy': [90, 0, 91.0, 1.0], 'area': 1.0, 'iscrowd': 0, 'score': 1.0}\n",
      "{'id': 19, 'image_id': 0, 'category_id': 1, 'bbox': [90, 10, 1.0, 1.0], 'bbox_xyxy': [90, 10, 91.0, 11.0], 'area': 1.0, 'iscrowd': 0, 'score': 1.0}\n",
      "{'id': 99, 'image_id': 0, 'category_id': 1, 'bbox': [90, 90, 10, 10], 'bbox_xyxy': [90, 90, 100, 100], 'area': 100, 'iscrowd': 0, 'score': 1.0}\n"
     ]
    }
   ],
   "source": [
    "fp50_tp50_dummy_annotations = deepcopy(dummy_annotations)\n",
    "for index,annotation in enumerate(fp50_tp50_dummy_annotations):\n",
    "    annotation[\"score\"] = 1.0\n",
    "    #annotation[\"image_id\"] = 99-index\n",
    "    if index < 50:\n",
    "        annotation[\"bbox\"] = [annotation[\"bbox\"][0], annotation[\"bbox\"][1], annotation[\"bbox\"][2]*0.1, annotation[\"bbox\"][3]*0.1]\n",
    "        annotation[\"bbox_xyxy\"] = [annotation[\"bbox_xyxy\"][0], annotation[\"bbox_xyxy\"][1], annotation[\"bbox_xyxy\"][0] + bbox_width*0.1, annotation[\"bbox_xyxy\"][1] + bbox_height*0.1]\n",
    "        annotation[\"area\"] = annotation[\"bbox\"][2] * annotation[\"bbox\"][3]\n",
    "annotations = fp50_tp50_dummy_annotations\n",
    "print(annotations[0])\n",
    "print(annotations[9])\n",
    "print(annotations[19])\n",
    "print(annotations[99])"
   ]
  },
  {
   "cell_type": "code",
   "execution_count": 10,
   "id": "47ef8262",
   "metadata": {},
   "outputs": [
    {
     "name": "stdout",
     "output_type": "stream",
     "text": [
      "{'id': 0, 'image_id': 0, 'category_id': 1, 'bbox': [0, 0, 1.0, 1.0], 'bbox_xyxy': [0, 0, 1.0, 1.0], 'area': 1.0, 'iscrowd': 0, 'score': 1.0}\n",
      "{'id': 9, 'image_id': 0, 'category_id': 1, 'bbox': [90, 0, 10, 10], 'bbox_xyxy': [90, 0, 100, 10], 'area': 100, 'iscrowd': 0, 'score': 1.0}\n",
      "{'id': 19, 'image_id': 0, 'category_id': 1, 'bbox': [90, 10, 10, 10], 'bbox_xyxy': [90, 10, 100, 20], 'area': 100, 'iscrowd': 0, 'score': 1.0}\n",
      "{'id': 99, 'image_id': 0, 'category_id': 1, 'bbox': [90, 90, 10, 10], 'bbox_xyxy': [90, 90, 100, 100], 'area': 100, 'iscrowd': 0, 'score': 1.0}\n"
     ]
    }
   ],
   "source": [
    "even_tp_od_fp_dummy_annotations = deepcopy(dummy_annotations)\n",
    "for index,annotation in enumerate(even_tp_od_fp_dummy_annotations):\n",
    "    annotation[\"score\"] = 1.0\n",
    "    if (index+1) % 2 == 0:\n",
    "        pass\n",
    "    else:\n",
    "        annotation[\"bbox\"] = [annotation[\"bbox\"][0], annotation[\"bbox\"][1], annotation[\"bbox\"][2]*0.1, annotation[\"bbox\"][3]*0.1]\n",
    "        annotation[\"bbox_xyxy\"] = [annotation[\"bbox_xyxy\"][0], annotation[\"bbox_xyxy\"][1], annotation[\"bbox_xyxy\"][0] + bbox_width*0.1, annotation[\"bbox_xyxy\"][1] + bbox_height*0.1]\n",
    "        annotation[\"area\"] = annotation[\"bbox\"][2] * annotation[\"bbox\"][3]\n",
    "        \n",
    "annotations = even_tp_od_fp_dummy_annotations\n",
    "print(annotations[0])\n",
    "print(annotations[9])\n",
    "print(annotations[19])\n",
    "print(annotations[99])"
   ]
  },
  {
   "cell_type": "code",
   "execution_count": 11,
   "id": "80a06328",
   "metadata": {},
   "outputs": [
    {
     "name": "stdout",
     "output_type": "stream",
     "text": [
      "{'id': 0, 'image_id': 0, 'category_id': 1, 'bbox': [0, 0, 10, 10], 'bbox_xyxy': [0, 0, 10, 10], 'area': 100, 'iscrowd': 0, 'score': 1.0}\n",
      "{'id': 9, 'image_id': 0, 'category_id': 1, 'bbox': [90, 0, 10, 10], 'bbox_xyxy': [90, 0, 100, 10], 'area': 100, 'iscrowd': 0, 'score': 1.0}\n",
      "{'id': 19, 'image_id': 0, 'category_id': 1, 'bbox': [90, 10, 10, 10], 'bbox_xyxy': [90, 10, 100, 20], 'area': 100, 'iscrowd': 0, 'score': 1.0}\n",
      "{'id': 99, 'image_id': 0, 'category_id': 1, 'bbox': [90, 90, 10, 10], 'bbox_xyxy': [90, 90, 100, 100], 'area': 100, 'iscrowd': 0, 'score': 1.0}\n"
     ]
    }
   ],
   "source": [
    "fp_30_80_dummy_annotations = deepcopy(dummy_annotations)\n",
    "for index,annotation in enumerate(fp_30_80_dummy_annotations):\n",
    "    annotation[\"score\"] = 1.0\n",
    "    if (index+1) > 30 and (index+1) <= 80:\n",
    "        annotation[\"bbox\"] = [annotation[\"bbox\"][0], annotation[\"bbox\"][1], annotation[\"bbox\"][2]*0.1, annotation[\"bbox\"][3]*0.1]\n",
    "        annotation[\"bbox_xyxy\"] = [annotation[\"bbox_xyxy\"][0], annotation[\"bbox_xyxy\"][1], annotation[\"bbox_xyxy\"][0] + bbox_width*0.1, annotation[\"bbox_xyxy\"][1] + bbox_height*0.1]\n",
    "        annotation[\"area\"] = annotation[\"bbox\"][2] * annotation[\"bbox\"][3]\n",
    "        \n",
    "annotations = fp_30_80_dummy_annotations\n",
    "print(annotations[0])\n",
    "print(annotations[9])\n",
    "print(annotations[19])\n",
    "print(annotations[99])"
   ]
  },
  {
   "cell_type": "code",
   "execution_count": 12,
   "id": "452406aa",
   "metadata": {},
   "outputs": [
    {
     "name": "stdout",
     "output_type": "stream",
     "text": [
      "{'id': 42, 'image_id': 0, 'category_id': 1, 'bbox': [20, 40, 10, 10], 'bbox_xyxy': [20, 40, 30, 50], 'area': 100, 'iscrowd': 0, 'score': 1.0}\n",
      "{'id': 78, 'image_id': 0, 'category_id': 1, 'bbox': [80, 70, 1.0, 1.0], 'bbox_xyxy': [80, 70, 81.0, 71.0], 'area': 1.0, 'iscrowd': 0, 'score': 1.0}\n",
      "{'id': 37, 'image_id': 0, 'category_id': 1, 'bbox': [70, 30, 10, 10], 'bbox_xyxy': [70, 30, 80, 40], 'area': 100, 'iscrowd': 0, 'score': 1.0}\n",
      "{'id': 81, 'image_id': 0, 'category_id': 1, 'bbox': [10, 80, 1.0, 1.0], 'bbox_xyxy': [10, 80, 11.0, 81.0], 'area': 1.0, 'iscrowd': 0, 'score': 1.0}\n"
     ]
    }
   ],
   "source": [
    "random_tp50_fp50_dummy_annotations = deepcopy(tp50_fp50_dummy_annotations)\n",
    "import random\n",
    "random.seed(42)  # For reproducibility\n",
    "random.shuffle(random_tp50_fp50_dummy_annotations)\n",
    "# for index,annotation in enumerate(random_tp50_fp50_dummy_annotations):\n",
    "#     annotation[\"id\"] = index\n",
    "annotations = random_tp50_fp50_dummy_annotations\n",
    "print(annotations[0])\n",
    "print(annotations[9])\n",
    "print(annotations[19])\n",
    "print(annotations[99])"
   ]
  },
  {
   "cell_type": "code",
   "execution_count": 13,
   "id": "77f1ac2f",
   "metadata": {},
   "outputs": [
    {
     "name": "stdout",
     "output_type": "stream",
     "text": [
      "{'id': 0, 'image_id': 0, 'category_id': 1, 'bbox': [0, 0, 10, 10], 'bbox_xyxy': [0, 0, 10, 10], 'area': 100, 'iscrowd': 0, 'score': 1.0}\n"
     ]
    }
   ],
   "source": [
    "sorted_random_tp50_fp50_dummy_annotations = sorted(random_tp50_fp50_dummy_annotations, key=lambda x: (x[\"bbox\"][0], x[\"bbox\"][1]))\n",
    "print(sorted_random_tp50_fp50_dummy_annotations[0])"
   ]
  },
  {
   "cell_type": "code",
   "execution_count": 14,
   "id": "ee8b3326",
   "metadata": {},
   "outputs": [],
   "source": [
    "from pycocotools.coco import COCO\n",
    "from pycocotools.cocoeval import COCOeval\n",
    "import pycocotools.mask as mask_util"
   ]
  },
  {
   "cell_type": "code",
   "execution_count": 15,
   "id": "1d8a2f8d",
   "metadata": {},
   "outputs": [],
   "source": [
    "# def evaluate_coco(gt_annotations, pred_annotations, iou_type=\"bbox\", area_rng=\"all\", max_dets=100):\n",
    "#     \"\"\"\n",
    "#     Evaluate COCO-style annotations.\n",
    "    \n",
    "#     Args:\n",
    "#         gt_annotations (list): Ground truth annotations.\n",
    "#         pred_annotations (list): Predicted annotations.\n",
    "#         iou_type (str): Type of IoU to evaluate ('bbox', 'segm', 'keypoints').\n",
    "#         area_rng (str): Area range for evaluation ('all', 'small', 'medium', 'large').\n",
    "#         max_dets (int): Maximum number of detections to consider.\n",
    "    \n",
    "#     Returns:\n",
    "#         COCOeval: Evaluated COCO object.\n",
    "#     \"\"\"\n",
    "#     coco_gt = COCO()\n",
    "#     coco_gt.dataset['annotations'] = gt_annotations\n",
    "#     coco_gt.createIndex()\n",
    "\n",
    "#     coco_dt = coco_gt.loadRes(pred_annotations)\n",
    "\n",
    "#     coco_eval = COCOeval(coco_gt, coco_dt, iouType=iou_type)\n",
    "#     coco_eval.params.areaRng = [coco_eval.params.areaRng[0]]  # Set area range to all\n",
    "#     coco_eval.params.maxDets = [max_dets]  # Set max detections\n",
    "\n",
    "#     coco_eval.evaluate()\n",
    "#     coco_eval.accumulate()\n",
    "#     coco_eval.summarize()\n",
    "\n",
    "#     return coco_eval\n",
    "def evaluate_coco(categories, images, pred_annotations, gt_annotations, iou_type=\"bbox\"):\n",
    "    \"\"\"\n",
    "    Evaluate COCO-style annotations.\n",
    "    \n",
    "    Args:\n",
    "        categories (list): List of categories.\n",
    "        images (list): List of images.\n",
    "        pred_annotations (list): Predicted annotations.\n",
    "        gt_annotations (list): Ground truth annotations.\n",
    "        iou_type (str): Type of IoU to evaluate ('bbox', 'segm', 'keypoints').\n",
    "        area_rng (str): Area range for evaluation ('all', 'small', 'medium', 'large').\n",
    "        max_dets (int): Maximum number of detections to consider.\n",
    "    \n",
    "    Returns:\n",
    "        COCOeval: Evaluated COCO object.\n",
    "    \"\"\"\n",
    "    coco_gt = COCO()\n",
    "    coco_gt.dataset['categories'] = categories\n",
    "    coco_gt.dataset['images'] = images\n",
    "    coco_gt.dataset['annotations'] = gt_annotations\n",
    "    coco_gt.dataset[\"info\"] = {}\n",
    "    coco_gt.dataset[\"licenses\"] = []\n",
    "    coco_gt.createIndex()\n",
    "\n",
    "    coco_dt = coco_gt.loadRes(pred_annotations)\n",
    "\n",
    "    coco_eval = COCOeval(coco_gt, coco_dt, iouType=iou_type)\n",
    "    # print(coco_eval.params.areaRng)\n",
    "    # print( coco_eval.params.maxDets)\n",
    "    # coco_eval.params.areaRng = [coco_eval.params.areaRng[0] for i in range(4)]  # Set area range to all\n",
    "    # coco_eval.params.maxDets = [0, 1, 10]\n",
    "\n",
    "    coco_eval.evaluate()\n",
    "    coco_eval.accumulate()\n",
    "    coco_eval.summarize()\n",
    "\n",
    "    return coco_eval"
   ]
  },
  {
   "cell_type": "code",
   "execution_count": 16,
   "id": "8e0a3e17",
   "metadata": {},
   "outputs": [
    {
     "name": "stdout",
     "output_type": "stream",
     "text": [
      "creating index...\n",
      "index created!\n",
      "Loading and preparing results...\n",
      "DONE (t=0.00s)\n",
      "creating index...\n",
      "index created!\n",
      "Running per image evaluation...\n",
      "Evaluate annotation type *bbox*\n",
      "DONE (t=0.23s).\n",
      "Accumulating evaluation results...\n",
      "DONE (t=0.00s).\n",
      " Average Precision  (AP) @[ IoU=0.50:0.95 | area=   all | maxDets=100 ] = 0.980\n",
      " Average Precision  (AP) @[ IoU=0.50      | area=   all | maxDets=100 ] = 0.980\n",
      " Average Precision  (AP) @[ IoU=0.75      | area=   all | maxDets=100 ] = 0.980\n",
      " Average Precision  (AP) @[ IoU=0.50:0.95 | area= small | maxDets=100 ] = 0.980\n",
      " Average Precision  (AP) @[ IoU=0.50:0.95 | area=medium | maxDets=100 ] = -1.000\n",
      " Average Precision  (AP) @[ IoU=0.50:0.95 | area= large | maxDets=100 ] = -1.000\n",
      " Average Recall     (AR) @[ IoU=0.50:0.95 | area=   all | maxDets=  1 ] = 0.000\n",
      " Average Recall     (AR) @[ IoU=0.50:0.95 | area=   all | maxDets= 10 ] = 0.090\n",
      " Average Recall     (AR) @[ IoU=0.50:0.95 | area=   all | maxDets=100 ] = 0.990\n",
      " Average Recall     (AR) @[ IoU=0.50:0.95 | area= small | maxDets=100 ] = 0.990\n",
      " Average Recall     (AR) @[ IoU=0.50:0.95 | area=medium | maxDets=100 ] = -1.000\n",
      " Average Recall     (AR) @[ IoU=0.50:0.95 | area= large | maxDets=100 ] = -1.000\n"
     ]
    }
   ],
   "source": [
    "coco_eval = evaluate_coco(dummy_categories, dummy_images, correct_dummy_annotations, gt_dummy_annotations, iou_type=\"bbox\")"
   ]
  },
  {
   "cell_type": "code",
   "execution_count": 17,
   "id": "b76364ab",
   "metadata": {},
   "outputs": [
    {
     "name": "stdout",
     "output_type": "stream",
     "text": [
      "[ 0.98019802  0.98019802  0.98019802  0.98019802 -1.         -1.\n",
      "  0.          0.09        0.99        0.99       -1.         -1.        ]\n"
     ]
    }
   ],
   "source": [
    "print(coco_eval.stats)"
   ]
  },
  {
   "cell_type": "code",
   "execution_count": 18,
   "id": "84408425",
   "metadata": {},
   "outputs": [
    {
     "name": "stdout",
     "output_type": "stream",
     "text": [
      "creating index...\n",
      "index created!\n",
      "Loading and preparing results...\n",
      "DONE (t=0.00s)\n",
      "creating index...\n",
      "index created!\n",
      "Running per image evaluation...\n",
      "Evaluate annotation type *bbox*\n",
      "DONE (t=0.21s).\n",
      "Accumulating evaluation results...\n",
      "DONE (t=0.00s).\n",
      " Average Precision  (AP) @[ IoU=0.50:0.95 | area=   all | maxDets=100 ] = 0.485\n",
      " Average Precision  (AP) @[ IoU=0.50      | area=   all | maxDets=100 ] = 0.485\n",
      " Average Precision  (AP) @[ IoU=0.75      | area=   all | maxDets=100 ] = 0.485\n",
      " Average Precision  (AP) @[ IoU=0.50:0.95 | area= small | maxDets=100 ] = 0.485\n",
      " Average Precision  (AP) @[ IoU=0.50:0.95 | area=medium | maxDets=100 ] = -1.000\n",
      " Average Precision  (AP) @[ IoU=0.50:0.95 | area= large | maxDets=100 ] = -1.000\n",
      " Average Recall     (AR) @[ IoU=0.50:0.95 | area=   all | maxDets=  1 ] = 0.000\n",
      " Average Recall     (AR) @[ IoU=0.50:0.95 | area=   all | maxDets= 10 ] = 0.090\n",
      " Average Recall     (AR) @[ IoU=0.50:0.95 | area=   all | maxDets=100 ] = 0.490\n",
      " Average Recall     (AR) @[ IoU=0.50:0.95 | area= small | maxDets=100 ] = 0.490\n",
      " Average Recall     (AR) @[ IoU=0.50:0.95 | area=medium | maxDets=100 ] = -1.000\n",
      " Average Recall     (AR) @[ IoU=0.50:0.95 | area= large | maxDets=100 ] = -1.000\n"
     ]
    }
   ],
   "source": [
    "coco_eval = evaluate_coco(dummy_categories, dummy_images,tp50_fp50_dummy_annotations, gt_dummy_annotations, iou_type=\"bbox\")"
   ]
  },
  {
   "cell_type": "code",
   "execution_count": 19,
   "id": "1a056bcb",
   "metadata": {},
   "outputs": [
    {
     "name": "stdout",
     "output_type": "stream",
     "text": [
      "creating index...\n",
      "index created!\n",
      "Loading and preparing results...\n",
      "DONE (t=0.00s)\n",
      "creating index...\n",
      "index created!\n",
      "Running per image evaluation...\n",
      "Evaluate annotation type *bbox*\n",
      "DONE (t=0.21s).\n",
      "Accumulating evaluation results...\n",
      "DONE (t=0.00s).\n",
      " Average Precision  (AP) @[ IoU=0.50:0.95 | area=   all | maxDets=100 ] = 0.278\n",
      " Average Precision  (AP) @[ IoU=0.50      | area=   all | maxDets=100 ] = 0.278\n",
      " Average Precision  (AP) @[ IoU=0.75      | area=   all | maxDets=100 ] = 0.278\n",
      " Average Precision  (AP) @[ IoU=0.50:0.95 | area= small | maxDets=100 ] = 0.278\n",
      " Average Precision  (AP) @[ IoU=0.50:0.95 | area=medium | maxDets=100 ] = -1.000\n",
      " Average Precision  (AP) @[ IoU=0.50:0.95 | area= large | maxDets=100 ] = -1.000\n",
      " Average Recall     (AR) @[ IoU=0.50:0.95 | area=   all | maxDets=  1 ] = 0.010\n",
      " Average Recall     (AR) @[ IoU=0.50:0.95 | area=   all | maxDets= 10 ] = 0.050\n",
      " Average Recall     (AR) @[ IoU=0.50:0.95 | area=   all | maxDets=100 ] = 0.490\n",
      " Average Recall     (AR) @[ IoU=0.50:0.95 | area= small | maxDets=100 ] = 0.490\n",
      " Average Recall     (AR) @[ IoU=0.50:0.95 | area=medium | maxDets=100 ] = -1.000\n",
      " Average Recall     (AR) @[ IoU=0.50:0.95 | area= large | maxDets=100 ] = -1.000\n"
     ]
    }
   ],
   "source": [
    "coco_eval = evaluate_coco(dummy_categories, dummy_images,random_tp50_fp50_dummy_annotations, gt_dummy_annotations, iou_type=\"bbox\")"
   ]
  },
  {
   "cell_type": "code",
   "execution_count": 20,
   "id": "316327f1",
   "metadata": {},
   "outputs": [
    {
     "name": "stdout",
     "output_type": "stream",
     "text": [
      "creating index...\n",
      "index created!\n",
      "Loading and preparing results...\n",
      "DONE (t=0.00s)\n",
      "creating index...\n",
      "index created!\n",
      "Running per image evaluation...\n",
      "Evaluate annotation type *bbox*\n"
     ]
    },
    {
     "name": "stdout",
     "output_type": "stream",
     "text": [
      "DONE (t=0.20s).\n",
      "Accumulating evaluation results...\n",
      "DONE (t=0.00s).\n",
      " Average Precision  (AP) @[ IoU=0.50:0.95 | area=   all | maxDets=100 ] = 0.252\n",
      " Average Precision  (AP) @[ IoU=0.50      | area=   all | maxDets=100 ] = 0.252\n",
      " Average Precision  (AP) @[ IoU=0.75      | area=   all | maxDets=100 ] = 0.252\n",
      " Average Precision  (AP) @[ IoU=0.50:0.95 | area= small | maxDets=100 ] = 0.252\n",
      " Average Precision  (AP) @[ IoU=0.50:0.95 | area=medium | maxDets=100 ] = -1.000\n",
      " Average Precision  (AP) @[ IoU=0.50:0.95 | area= large | maxDets=100 ] = -1.000\n",
      " Average Recall     (AR) @[ IoU=0.50:0.95 | area=   all | maxDets=  1 ] = 0.000\n",
      " Average Recall     (AR) @[ IoU=0.50:0.95 | area=   all | maxDets= 10 ] = 0.000\n",
      " Average Recall     (AR) @[ IoU=0.50:0.95 | area=   all | maxDets=100 ] = 0.500\n",
      " Average Recall     (AR) @[ IoU=0.50:0.95 | area= small | maxDets=100 ] = 0.500\n",
      " Average Recall     (AR) @[ IoU=0.50:0.95 | area=medium | maxDets=100 ] = -1.000\n",
      " Average Recall     (AR) @[ IoU=0.50:0.95 | area= large | maxDets=100 ] = -1.000\n"
     ]
    }
   ],
   "source": [
    "coco_eval = evaluate_coco(dummy_categories, dummy_images,fp50_tp50_dummy_annotations, gt_dummy_annotations, iou_type=\"bbox\")"
   ]
  },
  {
   "cell_type": "code",
   "execution_count": 21,
   "id": "ff788490",
   "metadata": {},
   "outputs": [
    {
     "name": "stdout",
     "output_type": "stream",
     "text": [
      "creating index...\n",
      "index created!\n",
      "Loading and preparing results...\n",
      "DONE (t=0.00s)\n",
      "creating index...\n",
      "index created!\n",
      "Running per image evaluation...\n",
      "Evaluate annotation type *bbox*\n",
      "DONE (t=0.21s).\n",
      "Accumulating evaluation results...\n",
      "DONE (t=0.00s).\n",
      " Average Precision  (AP) @[ IoU=0.50:0.95 | area=   all | maxDets=100 ] = 0.252\n",
      " Average Precision  (AP) @[ IoU=0.50      | area=   all | maxDets=100 ] = 0.252\n",
      " Average Precision  (AP) @[ IoU=0.75      | area=   all | maxDets=100 ] = 0.252\n",
      " Average Precision  (AP) @[ IoU=0.50:0.95 | area= small | maxDets=100 ] = 0.252\n",
      " Average Precision  (AP) @[ IoU=0.50:0.95 | area=medium | maxDets=100 ] = -1.000\n",
      " Average Precision  (AP) @[ IoU=0.50:0.95 | area= large | maxDets=100 ] = -1.000\n",
      " Average Recall     (AR) @[ IoU=0.50:0.95 | area=   all | maxDets=  1 ] = 0.000\n",
      " Average Recall     (AR) @[ IoU=0.50:0.95 | area=   all | maxDets= 10 ] = 0.050\n",
      " Average Recall     (AR) @[ IoU=0.50:0.95 | area=   all | maxDets=100 ] = 0.500\n",
      " Average Recall     (AR) @[ IoU=0.50:0.95 | area= small | maxDets=100 ] = 0.500\n",
      " Average Recall     (AR) @[ IoU=0.50:0.95 | area=medium | maxDets=100 ] = -1.000\n",
      " Average Recall     (AR) @[ IoU=0.50:0.95 | area= large | maxDets=100 ] = -1.000\n"
     ]
    }
   ],
   "source": [
    "coco_eval = evaluate_coco(dummy_categories, dummy_images,even_tp_od_fp_dummy_annotations, gt_dummy_annotations, iou_type=\"bbox\")"
   ]
  },
  {
   "cell_type": "code",
   "execution_count": 22,
   "id": "4a3671f4",
   "metadata": {},
   "outputs": [
    {
     "name": "stdout",
     "output_type": "stream",
     "text": [
      "creating index...\n",
      "index created!\n",
      "Loading and preparing results...\n",
      "DONE (t=0.00s)\n",
      "creating index...\n",
      "index created!\n",
      "Running per image evaluation...\n",
      "Evaluate annotation type *bbox*\n",
      "DONE (t=0.21s).\n",
      "Accumulating evaluation results...\n",
      "DONE (t=0.00s).\n",
      " Average Precision  (AP) @[ IoU=0.50:0.95 | area=   all | maxDets=100 ] = 0.384\n",
      " Average Precision  (AP) @[ IoU=0.50      | area=   all | maxDets=100 ] = 0.384\n",
      " Average Precision  (AP) @[ IoU=0.75      | area=   all | maxDets=100 ] = 0.384\n",
      " Average Precision  (AP) @[ IoU=0.50:0.95 | area= small | maxDets=100 ] = 0.384\n",
      " Average Precision  (AP) @[ IoU=0.50:0.95 | area=medium | maxDets=100 ] = -1.000\n",
      " Average Precision  (AP) @[ IoU=0.50:0.95 | area= large | maxDets=100 ] = -1.000\n",
      " Average Recall     (AR) @[ IoU=0.50:0.95 | area=   all | maxDets=  1 ] = 0.000\n",
      " Average Recall     (AR) @[ IoU=0.50:0.95 | area=   all | maxDets= 10 ] = 0.090\n",
      " Average Recall     (AR) @[ IoU=0.50:0.95 | area=   all | maxDets=100 ] = 0.490\n",
      " Average Recall     (AR) @[ IoU=0.50:0.95 | area= small | maxDets=100 ] = 0.490\n",
      " Average Recall     (AR) @[ IoU=0.50:0.95 | area=medium | maxDets=100 ] = -1.000\n",
      " Average Recall     (AR) @[ IoU=0.50:0.95 | area= large | maxDets=100 ] = -1.000\n"
     ]
    }
   ],
   "source": [
    "coco_eval = evaluate_coco(dummy_categories, dummy_images,fp_30_80_dummy_annotations, gt_dummy_annotations, iou_type=\"bbox\")"
   ]
  },
  {
   "cell_type": "code",
   "execution_count": 23,
   "id": "23f575a2",
   "metadata": {},
   "outputs": [],
   "source": [
    "sorted_random_tp50_fp50_dummy_annotations = sorted(random_tp50_fp50_dummy_annotations, key=lambda x: (x[\"bbox\"][1], x[\"bbox\"][0]))"
   ]
  },
  {
   "cell_type": "code",
   "execution_count": 24,
   "id": "d877bb9a",
   "metadata": {},
   "outputs": [
    {
     "name": "stdout",
     "output_type": "stream",
     "text": [
      "{'id': 1, 'image_id': 0, 'category_id': 1, 'bbox': [20, 40, 10, 10], 'bbox_xyxy': [20, 40, 30, 50], 'area': 100, 'iscrowd': 0, 'score': 1.0, 'segmentation': [[20, 40, 20, 50, 30, 50, 30, 40]]}\n"
     ]
    }
   ],
   "source": [
    "print(random_tp50_fp50_dummy_annotations[0])"
   ]
  },
  {
   "cell_type": "code",
   "execution_count": 25,
   "id": "77aea0ae",
   "metadata": {},
   "outputs": [
    {
     "name": "stdout",
     "output_type": "stream",
     "text": [
      "{'id': 1, 'image_id': 0, 'category_id': 1, 'bbox': [0, 0, 10, 10], 'bbox_xyxy': [0, 0, 10, 10], 'area': 100, 'iscrowd': 0, 'score': 1.0, 'segmentation': [[0, 0, 0, 10, 10, 10, 10, 0]]}\n",
      "{'id': 71, 'image_id': 0, 'category_id': 1, 'bbox': [0, 0, 10, 10], 'bbox_xyxy': [0, 0, 10, 10], 'area': 100, 'iscrowd': 0, 'score': 1.0, 'segmentation': [[0, 0, 0, 10, 10, 10, 10, 0]]}\n"
     ]
    }
   ],
   "source": [
    "print(tp50_fp50_dummy_annotations[0])\n",
    "print(sorted_random_tp50_fp50_dummy_annotations[0])"
   ]
  },
  {
   "cell_type": "code",
   "execution_count": 26,
   "id": "9940af83",
   "metadata": {},
   "outputs": [],
   "source": [
    "for s_r_a,t_a in zip(sorted_random_tp50_fp50_dummy_annotations, tp50_fp50_dummy_annotations):\n",
    "    assert s_r_a[\"bbox\"] == t_a[\"bbox\"], f\"BBox mismatch: {s_r_a['bbox']} != {t_a['bbox']}\"\n",
    "    assert s_r_a[\"bbox_xyxy\"] == t_a[\"bbox_xyxy\"], f\"BBox XYXY mismatch: {s_r_a['bbox_xyxy']} != {t_a['bbox_xyxy']}\""
   ]
  },
  {
   "cell_type": "code",
   "execution_count": 27,
   "id": "934a0a05",
   "metadata": {},
   "outputs": [
    {
     "ename": "SyntaxError",
     "evalue": "invalid syntax (3398930631.py, line 5)",
     "output_type": "error",
     "traceback": [
      "  \u001b[36mCell\u001b[39m\u001b[36m \u001b[39m\u001b[32mIn[27]\u001b[39m\u001b[32m, line 5\u001b[39m\n\u001b[31m    \u001b[39m\u001b[31mfor image_id in\u001b[39m\n                    ^\n\u001b[31mSyntaxError\u001b[39m\u001b[31m:\u001b[39m invalid syntax\n"
     ]
    }
   ],
   "source": [
    "# Compute COCO AP\n",
    "images = []\n",
    "gt_anns = []\n",
    "dt_anns = []\n",
    "for image_id in "
   ]
  },
  {
   "cell_type": "code",
   "execution_count": null,
   "id": "bfaeef80",
   "metadata": {},
   "outputs": [],
   "source": [
    "import json\n",
    "def load_json(file_path):\n",
    "    \"\"\"\n",
    "    Load a JSON file and return its content as a Python dictionary.\n",
    "\n",
    "    Parameters:\n",
    "        file_path (str): The path to the JSON file.\n",
    "\n",
    "    Returns:\n",
    "        dict: The content of the JSON file as a dictionary.\n",
    "    \"\"\"\n",
    "    with open(file_path, 'r', encoding='utf-8') as file:\n",
    "        data = json.load(file)\n",
    "    return data\n",
    "def save_json(data, file_path):\n",
    "    \"\"\"\n",
    "    Save a Python dictionary to a JSON file.\n",
    "\n",
    "    Parameters:\n",
    "        data (dict): The data to save.\n",
    "        file_path (str): The path where the JSON file will be saved.\n",
    "    \"\"\"\n",
    "    with open(file_path, 'w', encoding='utf-8') as file:\n",
    "        json.dump(data, file, ensure_ascii=False, indent=4)"
   ]
  }
 ],
 "metadata": {
  "kernelspec": {
   "display_name": ".venv",
   "language": "python",
   "name": "python3"
  },
  "language_info": {
   "codemirror_mode": {
    "name": "ipython",
    "version": 3
   },
   "file_extension": ".py",
   "mimetype": "text/x-python",
   "name": "python",
   "nbconvert_exporter": "python",
   "pygments_lexer": "ipython3",
   "version": "3.12.10"
  }
 },
 "nbformat": 4,
 "nbformat_minor": 5
}
