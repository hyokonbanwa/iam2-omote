{
 "cells": [
  {
   "cell_type": "code",
   "execution_count": 17,
   "id": "af375cd6",
   "metadata": {},
   "outputs": [],
   "source": [
    "import glob\n",
    "import os\n",
    "\n",
    "root_dir = \"/data_ssd/USER_DATA/omote\"\n",
    "\n",
    "sub_dir = \"iam-llms-finetune/experiment_output/kosmos-2_pascalvoc-one-class_epoch20\"\n",
    "\n",
    "folder_pattern = \"without-delim_*\"\n",
    "\n",
    "# not_in_pattern = \"noline\"\n",
    "\n"
   ]
  },
  {
   "cell_type": "code",
   "execution_count": 18,
   "id": "ba961cee",
   "metadata": {},
   "outputs": [
    {
     "name": "stdout",
     "output_type": "stream",
     "text": [
      "/data_ssd/USER_DATA/omote/iam-llms-finetune/experiment_output/kosmos-2_pascalvoc-one-class_epoch20/without-delim_*\n",
      "24\n"
     ]
    }
   ],
   "source": [
    "folders = glob.glob(os.path.join(root_dir, sub_dir, folder_pattern), recursive=False)\n",
    "print(os.path.join(root_dir, sub_dir, folder_pattern))\n",
    "print(len(folders))\n",
    "\n"
   ]
  },
  {
   "cell_type": "code",
   "execution_count": 19,
   "id": "60b4410c",
   "metadata": {},
   "outputs": [
    {
     "name": "stdout",
     "output_type": "stream",
     "text": [
      "/data_ssd/USER_DATA/omote/iam-llms-finetune/experiment_output/kosmos-2_pascalvoc-one-class_epoch20/without-delim_train-vision-proj-llm_cross-entropy_2025-07-16T19_07_33\n",
      "/data_ssd/USER_DATA/omote/iam-llms-finetune/experiment_output/kosmos-2_pascalvoc-one-class_epoch20/without-delim_train-vision-proj-llm_distance-loss_2025-07-16T19_09_23\n",
      "/data_ssd/USER_DATA/omote/iam-llms-finetune/experiment_output/kosmos-2_pascalvoc-one-class_epoch20/without-delim_train-vision-proj-llm_distance-forward-kl-loss_2025-07-16T20_52_19\n",
      "/data_ssd/USER_DATA/omote/iam-llms-finetune/experiment_output/kosmos-2_pascalvoc-one-class_epoch20/without-delim_include-input-tokens_train-vision-proj-llm_cross-entropy_2025-07-16T20_57_36\n",
      "/data_ssd/USER_DATA/omote/iam-llms-finetune/experiment_output/kosmos-2_pascalvoc-one-class_epoch20/without-delim_include-input-tokens_train-vision-proj-llm_distance-loss_2025-07-16T22_40_06\n",
      "/data_ssd/USER_DATA/omote/iam-llms-finetune/experiment_output/kosmos-2_pascalvoc-one-class_epoch20/without-delim_include-input-tokens_train-vision-proj-llm_distance-forward-kl-loss_2025-07-16T22_41_39\n",
      "/data_ssd/USER_DATA/omote/iam-llms-finetune/experiment_output/kosmos-2_pascalvoc-one-class_epoch20/without-delim_train-proj-llm_cross-entropy_2025-07-17T10_54_59\n",
      "/data_ssd/USER_DATA/omote/iam-llms-finetune/experiment_output/kosmos-2_pascalvoc-one-class_epoch20/without-delim_train-proj-llm_distance-loss_2025-07-17T10_59_59\n",
      "/data_ssd/USER_DATA/omote/iam-llms-finetune/experiment_output/kosmos-2_pascalvoc-one-class_epoch20/without-delim_train-proj-llm_distance-forward-kl-loss_2025-07-17T12_19_46\n",
      "/data_ssd/USER_DATA/omote/iam-llms-finetune/experiment_output/kosmos-2_pascalvoc-one-class_epoch20/without-delim_include-input-tokens_train-proj-llm_cross-entropy_2025-07-17T12_29_00\n",
      "/data_ssd/USER_DATA/omote/iam-llms-finetune/experiment_output/kosmos-2_pascalvoc-one-class_epoch20/without-delim_include-input-tokens_train-proj-llm_distance-loss_2025-07-17T13_48_04\n",
      "/data_ssd/USER_DATA/omote/iam-llms-finetune/experiment_output/kosmos-2_pascalvoc-one-class_epoch20/without-delim_include-input-tokens_train-proj-llm_distance-forward-kl-loss_2025-07-17T13_52_56\n",
      "/data_ssd/USER_DATA/omote/iam-llms-finetune/experiment_output/kosmos-2_pascalvoc-one-class_epoch20/without-delim_train-vision-proj-llm_cross-entropy_2025-07-18T00_38_06\n",
      "/data_ssd/USER_DATA/omote/iam-llms-finetune/experiment_output/kosmos-2_pascalvoc-one-class_epoch20/without-delim_train-vision-proj-llm_distance-loss_2025-07-18T00_51_04\n",
      "/data_ssd/USER_DATA/omote/iam-llms-finetune/experiment_output/kosmos-2_pascalvoc-one-class_epoch20/without-delim_train-vision-proj-llm_distance-forward-kl-loss_2025-07-18T02_25_37\n",
      "/data_ssd/USER_DATA/omote/iam-llms-finetune/experiment_output/kosmos-2_pascalvoc-one-class_epoch20/without-delim_include-input-tokens_train-vision-proj-llm_cross-entropy_2025-07-18T02_40_04\n",
      "/data_ssd/USER_DATA/omote/iam-llms-finetune/experiment_output/kosmos-2_pascalvoc-one-class_epoch20/without-delim_include-input-tokens_train-vision-proj-llm_distance-loss_2025-07-18T04_14_33\n",
      "/data_ssd/USER_DATA/omote/iam-llms-finetune/experiment_output/kosmos-2_pascalvoc-one-class_epoch20/without-delim_include-input-tokens_train-vision-proj-llm_distance-forward-kl-loss_2025-07-18T04_26_36\n",
      "/data_ssd/USER_DATA/omote/iam-llms-finetune/experiment_output/kosmos-2_pascalvoc-one-class_epoch20/without-delim_train-proj-llm_cross-entropy_2025-07-18T15_51_19\n",
      "/data_ssd/USER_DATA/omote/iam-llms-finetune/experiment_output/kosmos-2_pascalvoc-one-class_epoch20/without-delim_train-proj-llm_distance-loss_2025-07-18T16_03_26\n",
      "/data_ssd/USER_DATA/omote/iam-llms-finetune/experiment_output/kosmos-2_pascalvoc-one-class_epoch20/without-delim_train-proj-llm_distance-forward-kl-loss_2025-07-18T17_17_56\n",
      "/data_ssd/USER_DATA/omote/iam-llms-finetune/experiment_output/kosmos-2_pascalvoc-one-class_epoch20/without-delim_include-input-tokens_train-proj-llm_cross-entropy_2025-07-18T17_32_26\n",
      "/data_ssd/USER_DATA/omote/iam-llms-finetune/experiment_output/kosmos-2_pascalvoc-one-class_epoch20/without-delim_include-input-tokens_train-proj-llm_distance-loss_2025-07-18T18_46_30\n",
      "/data_ssd/USER_DATA/omote/iam-llms-finetune/experiment_output/kosmos-2_pascalvoc-one-class_epoch20/without-delim_include-input-tokens_train-proj-llm_distance-forward-kl-loss_2025-07-18T18_59_17\n"
     ]
    }
   ],
   "source": [
    "for folder in folders:\n",
    "    print(folder)"
   ]
  },
  {
   "cell_type": "code",
   "execution_count": null,
   "id": "6faaa9dc",
   "metadata": {},
   "outputs": [],
   "source": []
  }
 ],
 "metadata": {
  "kernelspec": {
   "display_name": ".venv",
   "language": "python",
   "name": "python3"
  },
  "language_info": {
   "codemirror_mode": {
    "name": "ipython",
    "version": 3
   },
   "file_extension": ".py",
   "mimetype": "text/x-python",
   "name": "python",
   "nbconvert_exporter": "python",
   "pygments_lexer": "ipython3",
   "version": "3.12.10"
  }
 },
 "nbformat": 4,
 "nbformat_minor": 5
}
