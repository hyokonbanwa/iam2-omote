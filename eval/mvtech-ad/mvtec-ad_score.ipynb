{
 "cells": [
  {
   "cell_type": "code",
   "execution_count": 1,
   "id": "c34b5d9d",
   "metadata": {},
   "outputs": [],
   "source": [
    "import json\n",
    "\n",
    "def save_json(file_path, data):\n",
    "    \"\"\"\n",
    "    Save data to a JSON file.\n",
    "\n",
    "    Args:\n",
    "        file_path (str): Path to the JSON file.\n",
    "        data (dict): Data to save.\n",
    "    \"\"\"\n",
    "    with open(file_path, 'w') as f:\n",
    "        json.dump(data, f, indent=4)\n",
    "\n",
    "def load_json(file_path):\n",
    "    \"\"\"\n",
    "    Load data from a JSON file.\n",
    "\n",
    "    Args:\n",
    "        file_path (str): Path to the JSON file.\n",
    "\n",
    "    Returns:\n",
    "        dict: Data loaded from the file.\n",
    "    \"\"\"\n",
    "    with open(file_path, 'r') as f:\n",
    "        return json.load(f)"
   ]
  },
  {
   "cell_type": "code",
   "execution_count": 2,
   "id": "bfbeea24",
   "metadata": {},
   "outputs": [],
   "source": [
    "def sort_list_of_dicts(data, key, reverse=False):\n",
    "    \"\"\"\n",
    "    Sort a list of dictionaries by the specified key.\n",
    "\n",
    "    Args:\n",
    "        data (list): List of dictionaries to sort.\n",
    "        key (str): Key to sort by.\n",
    "        reverse (bool): Sort in descending order if True, ascending if False.\n",
    "\n",
    "    Returns:\n",
    "        list: Sorted list of dictionaries.\n",
    "    \"\"\"\n",
    "    return sorted(data, key=lambda x: x[key], reverse=reverse)"
   ]
  },
  {
   "cell_type": "code",
   "execution_count": 3,
   "id": "5bc37619",
   "metadata": {},
   "outputs": [],
   "source": [
    "correct_json_path = \"/data_ssd/mvtec_ad/mvtec-test_llava-onevision.json\"\n",
    "correct_data = load_json(correct_json_path)\n",
    "\n",
    "generated_json_path = \"/home/omote/experiment_only_program/iam-lmms-finetune/eval_output/eval_llava-onevision_mvtec-ad_2025-05-26T20_43_52/eval_output.json\"\n",
    "generated_data = load_json(generated_json_path)\n",
    "\n",
    "assert len(correct_data) == len(generated_data), \"Length of correct and generated data does not match.\"\n",
    "\n",
    "correct_data = sort_list_of_dicts(correct_data, \"id\")\n",
    "generated_data = sort_list_of_dicts(generated_data, \"id\")\n"
   ]
  },
  {
   "cell_type": "code",
   "execution_count": 4,
   "id": "5161de87",
   "metadata": {},
   "outputs": [],
   "source": [
    "\n",
    "\n",
    "total_data_num = len(correct_data)\n",
    "anomaly_data_num = 0\n",
    "normal_data_num = 0\n",
    "\n",
    "model_predict_anomaly_data_num = 0\n",
    "model_predict_normal_data_num = 0\n",
    "\n",
    "matched_data_num = 0\n",
    "anomaly_matched_data_num = 0\n",
    "\n",
    "\n",
    "\n",
    "for i in range(total_data_num):\n",
    "    assert correct_data[i][\"id\"] == generated_data[i][\"id\"], f\"ID mismatch at index {i}.\"\n",
    "    if correct_data[i][\"conversations\"][-1][\"value\"] == \"None\":\n",
    "        normal_data_num += 1\n",
    "    else:\n",
    "        anomaly_data_num += 1\n",
    "    \n",
    "    if generated_data[i][\"conversations\"][-1][\"value\"] != \"None\":\n",
    "        model_predict_anomaly_data_num += 1\n",
    "    else:\n",
    "        model_predict_normal_data_num += 1\n",
    "\n",
    "    #正常画像の検出判定\n",
    "    if (correct_data[i][\"conversations\"][-1][\"value\"] == \"None\") and  (generated_data[i][\"conversations\"][-1][\"value\"] == \"None\"):\n",
    "        matched_data_num += 1\n",
    "    # 異常画像の検出判定\n",
    "    elif (correct_data[i][\"conversations\"][-1][\"value\"] != \"None\") and (generated_data[i][\"conversations\"][-1][\"value\"] != \"None\"):\n",
    "        matched_data_num += 1\n",
    "        anomaly_matched_data_num += 1"
   ]
  },
  {
   "cell_type": "code",
   "execution_count": 5,
   "id": "cbd677f4",
   "metadata": {},
   "outputs": [
    {
     "name": "stdout",
     "output_type": "stream",
     "text": [
      "Total data number: 1725\n",
      "Normal data number: 467\n",
      "Anomaly data number: 1258\n",
      "Model predict normal data number: 1582\n",
      "Model predict anomaly data number: 143\n",
      "Matched data number: 610\n",
      "Anomaly matched data number: 143\n"
     ]
    }
   ],
   "source": [
    "print(f\"Total data number: {total_data_num}\")\n",
    "print(f\"Normal data number: {normal_data_num}\")\n",
    "print(f\"Anomaly data number: {anomaly_data_num}\")\n",
    "\n",
    "print(f\"Model predict normal data number: {model_predict_normal_data_num}\")\n",
    "print(f\"Model predict anomaly data number: {model_predict_anomaly_data_num}\")\n",
    "\n",
    "print(f\"Matched data number: {matched_data_num}\")\n",
    "print(f\"Anomaly matched data number: {anomaly_matched_data_num}\")"
   ]
  },
  {
   "cell_type": "code",
   "execution_count": 6,
   "id": "c0ccbd34",
   "metadata": {},
   "outputs": [
    {
     "name": "stdout",
     "output_type": "stream",
     "text": [
      "Accuracy: 0.3536231884057971\n",
      "Precision: 1.0\n",
      "Recall: 0.1136724960254372\n",
      "F1 Score: 0.2041399000713776\n"
     ]
    }
   ],
   "source": [
    "accuracy = matched_data_num / total_data_num\n",
    "print(f\"Accuracy: {accuracy}\")\n",
    "precision = anomaly_matched_data_num / model_predict_anomaly_data_num\n",
    "print(f\"Precision: {precision}\")\n",
    "recall = anomaly_matched_data_num / anomaly_data_num\n",
    "print(f\"Recall: {recall}\")\n",
    "f1_score = 2 * (precision * recall) / (precision + recall)\n",
    "print(f\"F1 Score: {f1_score}\")"
   ]
  },
  {
   "cell_type": "code",
   "execution_count": null,
   "id": "f30716bb",
   "metadata": {},
   "outputs": [],
   "source": []
  }
 ],
 "metadata": {
  "kernelspec": {
   "display_name": ".venv",
   "language": "python",
   "name": "python3"
  },
  "language_info": {
   "codemirror_mode": {
    "name": "ipython",
    "version": 3
   },
   "file_extension": ".py",
   "mimetype": "text/x-python",
   "name": "python",
   "nbconvert_exporter": "python",
   "pygments_lexer": "ipython3",
   "version": "3.12.10"
  }
 },
 "nbformat": 4,
 "nbformat_minor": 5
}
