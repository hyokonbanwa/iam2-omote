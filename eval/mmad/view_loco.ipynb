{
 "cells": [
  {
   "cell_type": "code",
   "execution_count": 1,
   "id": "8302c3ec",
   "metadata": {},
   "outputs": [],
   "source": [
    "import json\n",
    "\n",
    "def load_jsonl(file_path):\n",
    "    \"\"\"\n",
    "    Load a JSON Lines file and return a list of dictionaries.\n",
    "    \n",
    "    :param file_path: Path to the JSON Lines file.\n",
    "    :return: List of dictionaries loaded from the file.\n",
    "    \"\"\"\n",
    "    data = []\n",
    "    with open(file_path, 'r', encoding='utf-8') as file:\n",
    "        for line in file:\n",
    "            data.append(json.loads(line.strip()))\n",
    "    return data"
   ]
  },
  {
   "cell_type": "code",
   "execution_count": 77,
   "id": "7de38e75",
   "metadata": {},
   "outputs": [],
   "source": [
    "path = \"/home/omote/omote-data-ssd/iam-llms-finetune/experiment_output/llava-onevision/train_continual-natural-100k_proj-llm_2025-06-21T13_30_37/checkpoint-785/eval_output/MMAD_for_llava-onevision/2025-06-22T16_52_33/eval_output_converted.jsonl\"\n",
    "#path = \"/home/omote/omote-data-ssd/iam-llms-finetune/original_model_weight/llava-onevision-qwen2-7b-ov-hf/eval_output/MMAD-fewshot-1_for_llava-onevision/2025-06-20T11_09_18/eval_output_converted.jsonl\"\n",
    "#path = \"/home/omote/omote-data-ssd/iam-llms-finetune/original_model_weight/llava-onevision-qwen2-7b-ov-hf/eval_output/MMAD_for_llava-onevision/2025-06-15T14_20_40/eval_output_converted.jsonl\""
   ]
  },
  {
   "cell_type": "code",
   "execution_count": 78,
   "id": "e037482d",
   "metadata": {},
   "outputs": [],
   "source": [
    "data = load_jsonl(path)"
   ]
  },
  {
   "cell_type": "code",
   "execution_count": 79,
   "id": "50d3af99",
   "metadata": {},
   "outputs": [
    {
     "name": "stdout",
     "output_type": "stream",
     "text": [
      "Total number of items: 78\n",
      "Number of correct answers: 47\n",
      "Accuracy: 60.26%\n"
     ]
    }
   ],
   "source": [
    "question_type = \"Defect Localization\" \n",
    "key = \"MVTec-LOCO/pushpins/test/structural_anomalies\" #\"MVTec-LOCO/pushpins/test/logical_anomalies\" #\"MVTec-LOCO/pushpins/test/structural_anomalies\"\n",
    "\n",
    "correct_num = 0\n",
    "total_num = 0\n",
    "\n",
    "for item in data:\n",
    "    if key in item[\"image\"] and item[\"question_type\"] == question_type:\n",
    "        total_num += 1\n",
    "        if item[\"gpt_answer\"] == item[\"correct_answer\"]:\n",
    "            correct_num += 1\n",
    "\n",
    "print(f\"Total number of items: {total_num}\")\n",
    "print(f\"Number of correct answers: {correct_num}\")\n",
    "print(f\"Accuracy: {correct_num / total_num if total_num > 0 else 0:.2%}\")"
   ]
  },
  {
   "cell_type": "code",
   "execution_count": null,
   "id": "dc1f646a",
   "metadata": {},
   "outputs": [],
   "source": []
  }
 ],
 "metadata": {
  "kernelspec": {
   "display_name": ".venv",
   "language": "python",
   "name": "python3"
  },
  "language_info": {
   "codemirror_mode": {
    "name": "ipython",
    "version": 3
   },
   "file_extension": ".py",
   "mimetype": "text/x-python",
   "name": "python",
   "nbconvert_exporter": "python",
   "pygments_lexer": "ipython3",
   "version": "3.12.10"
  }
 },
 "nbformat": 4,
 "nbformat_minor": 5
}
