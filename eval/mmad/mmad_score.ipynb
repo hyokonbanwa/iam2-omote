{
 "cells": [
  {
   "cell_type": "code",
   "execution_count": 1,
   "id": "b76323ba",
   "metadata": {},
   "outputs": [],
   "source": [
    "import json\n",
    "from tqdm import tqdm\n",
    "import os\n",
    "\n",
    "def load_json(file_path):\n",
    "    \"\"\"\n",
    "    Load a JSON file and return its content as a Python dictionary.\n",
    "\n",
    "    Parameters:\n",
    "        file_path (str): The path to the JSON file.\n",
    "\n",
    "    Returns:\n",
    "        dict: The content of the JSON file as a dictionary.\n",
    "    \"\"\"\n",
    "    with open(file_path, 'r', encoding='utf-8') as file:\n",
    "        data = json.load(file)\n",
    "    return data\n",
    "\n",
    "def save_jsonl(data, file_path):\n",
    "    \"\"\"\n",
    "    Save a list of dictionaries to a JSON Lines file.\n",
    "\n",
    "    Parameters:\n",
    "        data (list): A list of dictionaries to save.\n",
    "        file_path (str): The path to the output JSON Lines file.\n",
    "    \"\"\"\n",
    "    with open(file_path, 'w', encoding='utf-8') as file:\n",
    "        for item in data:\n",
    "            json.dump(item, file)\n",
    "            file.write('\\n')\n",
    "            \n",
    "def display_dict_keys_and_items(dictionary):\n",
    "    \"\"\"\n",
    "    Display the keys and items of a dictionary.\n",
    "\n",
    "    Parameters:\n",
    "        dictionary (dict): The dictionary to display.\n",
    "\n",
    "    Returns:\n",
    "        None\n",
    "    \"\"\"\n",
    "    for key, value in dictionary.items():\n",
    "        print(f\"Key: {key}, Value: {value}\")\n",
    "        \n"
   ]
  },
  {
   "cell_type": "code",
   "execution_count": 6,
   "id": "03439b14",
   "metadata": {},
   "outputs": [],
   "source": [
    "path = \"/data_ssd/MMAD/MMAD_for_llava-onevision.json\"\n",
    "data = load_json(path)"
   ]
  },
  {
   "cell_type": "code",
   "execution_count": 7,
   "id": "46ac0c5a",
   "metadata": {},
   "outputs": [
    {
     "name": "stdout",
     "output_type": "stream",
     "text": [
      "Loaded 39672 items from /data_ssd/MMAD/MMAD_for_llava-onevision.json\n",
      "Key: id, Value: Anomaly Detection_DS-MVTec/bottle/image/broken_large/000.png\n",
      "Key: image, Value: DS-MVTec/bottle/image/broken_large/000.png\n",
      "Key: conversations, Value: [{'from': 'human', 'value': \"Test image:\\n<image>\\nIs there any defect in the object?\\nA. Yes.\\nB. No.\\nAnswer with the option's letter from the given choices directly.\"}, {'from': 'gpt', 'value': 'A'}]\n",
      "Key: Answer, Value: A\n",
      "Key: Question, Value: Is there any defect in the object?\n",
      "Key: Options, Value: {'A': 'Yes.', 'B': 'No.'}\n",
      "Key: type, Value: Anomaly Detection\n",
      "Key: annotation, Value: True\n",
      "Key: mask_path, Value: rbg_mask/broken_large/000_rbg_mask.png\n",
      "Key: similar_templates, Value: ['MVTec-AD/bottle/train/good/001.png', 'MVTec-AD/bottle/train/good/061.png', 'MVTec-AD/bottle/train/good/199.png', 'MVTec-AD/bottle/train/good/124.png', 'MVTec-AD/bottle/train/good/149.png', 'MVTec-AD/bottle/train/good/147.png', 'MVTec-AD/bottle/train/good/089.png', 'MVTec-AD/bottle/train/good/066.png']\n",
      "Key: random_templates, Value: ['MVTec-AD/bottle/train/good/004.png', 'MVTec-AD/bottle/train/good/032.png', 'MVTec-AD/bottle/train/good/093.png', 'MVTec-AD/bottle/train/good/095.png', 'MVTec-AD/bottle/train/good/104.png', 'MVTec-AD/bottle/train/good/121.png', 'MVTec-AD/bottle/train/good/177.png', 'MVTec-AD/bottle/train/good/191.png']\n"
     ]
    }
   ],
   "source": [
    "print(f\"Loaded {len(data)} items from {path}\")\n",
    "display_dict_keys_and_items(data[0])  # Display keys and items of the first dictionary"
   ]
  },
  {
   "cell_type": "code",
   "execution_count": null,
   "id": "d41dfc83",
   "metadata": {},
   "outputs": [
    {
     "name": "stderr",
     "output_type": "stream",
     "text": [
      "100%|██████████| 39672/39672 [00:00<00:00, 132738.25it/s]"
     ]
    },
    {
     "name": "stdout",
     "output_type": "stream",
     "text": [
      "Key: image, Value: DS-MVTec/bottle/image/broken_large/000.png\n",
      "Key: question, Value: Is there any defect in the object?\n",
      "Key: question_type, Value: Anomaly Detection\n",
      "Key: gpt_answer, Value: A\n",
      "Key: correct_answer, Value: A\n"
     ]
    },
    {
     "name": "stderr",
     "output_type": "stream",
     "text": [
      "\n"
     ]
    }
   ],
   "source": [
    "save_jsonl_data = []\n",
    "for i in tqdm(range(len(data))):\n",
    "    item = data[i]\n",
    "    result_entry = {\n",
    "        \"image\": item[\"image\"],\n",
    "        \"question\": item[\"Question\"],\n",
    "        \"question_type\": item[\"type\"],\n",
    "        \"gpt_answer\": item[\"conversations\"][-1][\"value\"],\n",
    "        \"correct_answer\": item[\"Answer\"],\n",
    "    }\n",
    "    save_jsonl_data.append(result_entry)\n",
    "display_dict_keys_and_items(save_jsonl_data[0])  # Display keys and items of the first result entry"
   ]
  },
  {
   "cell_type": "code",
   "execution_count": null,
   "id": "21e32479",
   "metadata": {},
   "outputs": [],
   "source": [
    "save_jsonl(save_jsonl_data, \"./MMAD_for_helper_eval.jsonl\")"
   ]
  },
  {
   "cell_type": "code",
   "execution_count": 2,
   "id": "7ed2fc79",
   "metadata": {},
   "outputs": [],
   "source": [
    "def sort_list_of_dicts(data, key, reverse=False):\n",
    "    \"\"\"\n",
    "    Sort a list of dictionaries by the specified key.\n",
    "\n",
    "    Args:\n",
    "        data (list): List of dictionaries to sort.\n",
    "        key (str): Key to sort by.\n",
    "        reverse (bool): Sort in descending order if True, ascending if False.\n",
    "\n",
    "    Returns:\n",
    "        list: Sorted list of dictionaries.\n",
    "    \"\"\"\n",
    "    return sorted(data, key=lambda x: x[key], reverse=reverse)"
   ]
  },
  {
   "cell_type": "code",
   "execution_count": 9,
   "id": "500ae236",
   "metadata": {},
   "outputs": [],
   "source": [
    "generated_data = \"/home/omote/omote-data-ssd/iam-llms-finetune/experiment_output/llava-onevision/train_add-natural-60k_proj-llm_2025-06-15T17_43_27/eval_output/MMAD_for_llava-onevision/2025-06-16T02_31_39/eval_output.json\"\n",
    "correct_data = \"/data_ssd/MMAD/MMAD_for_llava-onevision.json\"\n",
    "generated_data = load_json(generated_data)\n",
    "correct_data = load_json(correct_data)\n",
    "assert len(generated_data) == len(correct_data), \"Generated data and correct data must have the same length.\""
   ]
  },
  {
   "cell_type": "code",
   "execution_count": 11,
   "id": "b89b2ef9",
   "metadata": {},
   "outputs": [
    {
     "name": "stdout",
     "output_type": "stream",
     "text": [
      "{'id': 'Anomaly Detection_DS-MVTec/bottle/image/broken_large/000.png', 'image': 'DS-MVTec/bottle/image/broken_large/000.png', 'conversations': [{'from': 'human', 'value': \"Test image:\\n<image>\\nIs there any defect in the object?\\nA. Yes.\\nB. No.\\nAnswer with the option's letter from the given choices directly.\"}, {'from': 'gpt', 'value': 'A'}], 'Answer': 'A', 'Question': 'Is there any defect in the object?', 'Options': {'A': 'Yes.', 'B': 'No.'}, 'type': 'Anomaly Detection', 'annotation': True, 'mask_path': 'rbg_mask/broken_large/000_rbg_mask.png', 'similar_templates': ['MVTec-AD/bottle/train/good/001.png', 'MVTec-AD/bottle/train/good/061.png', 'MVTec-AD/bottle/train/good/199.png', 'MVTec-AD/bottle/train/good/124.png', 'MVTec-AD/bottle/train/good/149.png', 'MVTec-AD/bottle/train/good/147.png', 'MVTec-AD/bottle/train/good/089.png', 'MVTec-AD/bottle/train/good/066.png'], 'random_templates': ['MVTec-AD/bottle/train/good/004.png', 'MVTec-AD/bottle/train/good/032.png', 'MVTec-AD/bottle/train/good/093.png', 'MVTec-AD/bottle/train/good/095.png', 'MVTec-AD/bottle/train/good/104.png', 'MVTec-AD/bottle/train/good/121.png', 'MVTec-AD/bottle/train/good/177.png', 'MVTec-AD/bottle/train/good/191.png']}\n"
     ]
    }
   ],
   "source": [
    "print(generated_data[0])"
   ]
  },
  {
   "cell_type": "code",
   "execution_count": 13,
   "id": "bd0979b7",
   "metadata": {},
   "outputs": [
    {
     "name": "stderr",
     "output_type": "stream",
     "text": [
      "  0%|          | 0/39672 [00:00<?, ?it/s]"
     ]
    },
    {
     "name": "stderr",
     "output_type": "stream",
     "text": [
      "100%|██████████| 39672/39672 [00:00<00:00, 521677.77it/s]\n"
     ]
    }
   ],
   "source": [
    "for i in tqdm(range(len(generated_data))):\n",
    "        assert correct_data[i][\"id\"] == generated_data[i][\"id\"], f\"ID mismatch at index {i}.\""
   ]
  },
  {
   "cell_type": "code",
   "execution_count": null,
   "id": "f51ad197",
   "metadata": {},
   "outputs": [],
   "source": []
  }
 ],
 "metadata": {
  "kernelspec": {
   "display_name": ".venv",
   "language": "python",
   "name": "python3"
  },
  "language_info": {
   "codemirror_mode": {
    "name": "ipython",
    "version": 3
   },
   "file_extension": ".py",
   "mimetype": "text/x-python",
   "name": "python",
   "nbconvert_exporter": "python",
   "pygments_lexer": "ipython3",
   "version": "3.12.10"
  }
 },
 "nbformat": 4,
 "nbformat_minor": 5
}
