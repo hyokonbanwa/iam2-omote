{
 "cells": [
  {
   "cell_type": "code",
   "execution_count": 2,
   "id": "f15f2659",
   "metadata": {},
   "outputs": [],
   "source": [
    "import wandb"
   ]
  },
  {
   "cell_type": "code",
   "execution_count": 3,
   "id": "de656191",
   "metadata": {},
   "outputs": [],
   "source": [
    "# \n",
    "# run = wandb.init(\n",
    "#     project=\"kosmos-2\",\n",
    "#     name=\"refcoco-pulus_train-and-eval_proj-llm_distance-forward-kl-loss_2025-06-28\")\n",
    "# run.finish()"
   ]
  },
  {
   "cell_type": "code",
   "execution_count": 4,
   "id": "7840ecd0",
   "metadata": {},
   "outputs": [
    {
     "name": "stdout",
     "output_type": "stream",
     "text": [
      "Run name: with-delim_train-vision-proj-llm_cross-entropy_2025-07-14T16_51_39, Run ID: n1uvlcwx\n",
      "Run name: with-delim_train-vision-proj-llm_distance-loss_2025-07-14T16_51_46, Run ID: xcvwhh54\n",
      "Run name: with-delim_train-vision-proj-llm_distance-forward-kl-loss_2025-07-14T19_31_11, Run ID: kkad0uqj\n",
      "Run name: with-delim_include-input-tokens_train-vision-proj-llm_cross-entropy_2025-07-14T19_34_57, Run ID: v0236zmr\n",
      "Run name: with-delim_include-input-tokens_train-vision-proj-llm_distance-loss_2025-07-14T22_13_22, Run ID: qtx1osvn\n",
      "Run name: with-delim_include-input-tokens_train-vision-proj-llm_distance-forward-kl-loss_2025-07-14T22_13_27, Run ID: 5t17al1y\n",
      "Run name: without-delim_train-vision-proj-llm_distance-loss_2025-07-15T08_17_05, Run ID: byemj96x\n",
      "Run name: without-delim_train-vision-proj-llm_cross-entropy_2025-07-15T08_16_57, Run ID: cwghmfsf\n",
      "Run name: without-delim_train-vision-proj-llm_distance-forward-kl-loss_2025-07-15T10_17_56, Run ID: 7kh4tow9\n",
      "Run name: without-delim_include-input-tokens_train-vision-proj-llm_cross-entropy_2025-07-15T10_24_45, Run ID: 5yjolnwr\n",
      "Run name: without-delim_include-input-tokens_train-vision-proj-llm_distance-loss_2025-07-15T12_24_19, Run ID: 7nshrxb4\n",
      "Run name: without-delim_include-input-tokens_train-vision-proj-llm_distance-forward-kl-loss_2025-07-15T12_25_38, Run ID: s3i56uq6\n",
      "Run name: without-delim-noline_train-vision-proj-llm_cross-entropy_2025-07-15T14_30_42, Run ID: q7sj25cr\n",
      "Run name: without-delim-noline_train-vision-proj-llm_distance-loss_2025-07-15T14_31_53, Run ID: ysqbh5oy\n",
      "Run name: without-delim-noline_train-vision-proj-llm_distance-forward-kl-loss_2025-07-15T16_29_32, Run ID: tw6sizld\n",
      "Run name: without-delim-noline_include-input-tokens_train-vision-proj-llm_cross-entropy_2025-07-15T16_35_34, Run ID: oen55qxk\n",
      "Run name: without-delim-noline_include-input-tokens_train-vision-proj-llm_distance-loss_2025-07-15T18_34_00, Run ID: l3e6zghv\n",
      "Run name: without-delim-noline_include-input-tokens_train-vision-proj-llm_distance-forward-kl-loss_2025-07-15T18_35_46, Run ID: quabwt5z\n"
     ]
    }
   ],
   "source": [
    "# wandb_folder = \"/home/omote/experiment_only_program/iam-lmms-finetune/wandb\"\n",
    "api = wandb.Api()\n",
    "runs = api.runs(\"katlab-gifu/kosmos-2_pascalvoc-one-class\")\n",
    "\n",
    "for run in runs:\n",
    "    print(f\"Run name: {run.name}, Run ID: {run.id}\")"
   ]
  },
  {
   "cell_type": "code",
   "execution_count": null,
   "id": "a8aea05c",
   "metadata": {},
   "outputs": [],
   "source": []
  },
  {
   "cell_type": "code",
   "execution_count": null,
   "id": "e791cfbc",
   "metadata": {},
   "outputs": [],
   "source": []
  }
 ],
 "metadata": {
  "kernelspec": {
   "display_name": ".venv",
   "language": "python",
   "name": "python3"
  },
  "language_info": {
   "codemirror_mode": {
    "name": "ipython",
    "version": 3
   },
   "file_extension": ".py",
   "mimetype": "text/x-python",
   "name": "python",
   "nbconvert_exporter": "python",
   "pygments_lexer": "ipython3",
   "version": "3.12.10"
  }
 },
 "nbformat": 4,
 "nbformat_minor": 5
}
