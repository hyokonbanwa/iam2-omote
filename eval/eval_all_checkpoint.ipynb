{
 "cells": [
  {
   "cell_type": "code",
   "execution_count": 52,
   "id": "71c3106d",
   "metadata": {},
   "outputs": [],
   "source": [
    "import os\n",
    "import glob\n",
    "from pathlib import Path\n",
    "import subprocess\n",
    "import wandb\n",
    "RUN_ID   = \"lf1gmmlz\"          # コピーした ID\n",
    "PROJECT  = \"kosmos-2\"\n",
    "\n",
    "model_path = \"/home/omote/omote-data-ssd/iam-llms-finetune/experiment_output/kosmos-2/refcoco-pulus_train-and-eval_vision-proj-llm_distance-forward-kl-loss_b128acum4_2025-06-25T02_33_21\"\n",
    "dataset_base_name = \"refcoco_plus_kosmos2_validation\"\n",
    "eval_script = \"/home/omote/cluster_project/iam2/eval/refcoco/refcoco_iou_score.py\"\n",
    "other_command = [\"--gt_json\",\"/data_ssd/refcoco_plus/refcoco_plus_kosmos2_validation.json\"]\n",
    "\n"
   ]
  },
  {
   "cell_type": "code",
   "execution_count": 53,
   "id": "e68d7e53",
   "metadata": {},
   "outputs": [],
   "source": [
    "path_list = glob.glob(os.path.join(model_path, \"checkpoint-*\", \"eval_output\",dataset_base_name, \"*\", \"eval_output.json\"), recursive=True)\n",
    "\n",
    "checkpoint_steps = []\n",
    "path_list = sorted(path_list, key=lambda x: int(x.split(\"/\")[-5].split(\"-\")[-1]))\n",
    "\n",
    "for path in path_list:\n",
    "    checkpoint = int(path.split(\"/\")[-5].split(\"-\")[-1])\n",
    "    if checkpoint not in checkpoint_steps:\n",
    "        checkpoint_steps.append(checkpoint)\n",
    "        \n",
    "# checkpoint_list = []\n",
    "# checkpoint_dirs = sorted(\n",
    "#     Path(model_path).glob(\"checkpoint-*\"),\n",
    "#     key=lambda x: int(x.name.split(\"-\")[1]),\n",
    "# )\n",
    "# checkpoint_steps = [int(x.name.split(\"-\")[1]) for x in checkpoint_dirs]\n",
    "# assert len(path_list) == len(checkpoint_steps), \"The number of paths does not match the number of checkpoint steps.\"\n",
    "# for path, step in zip(path_list, checkpoint_steps):\n",
    "#     path_step = path.split(\"/\")[-5]\n",
    "#     assert path_step == f\"checkpoint-{step}\", f\"Path {path} does not match checkpoint step {step}.\""
   ]
  },
  {
   "cell_type": "code",
   "execution_count": null,
   "id": "7a2bd5c4",
   "metadata": {},
   "outputs": [],
   "source": []
  },
  {
   "cell_type": "code",
   "execution_count": 54,
   "id": "92c7a2f6",
   "metadata": {},
   "outputs": [
    {
     "name": "stdout",
     "output_type": "stream",
     "text": [
      "['/home/omote/omote-data-ssd/iam-llms-finetune/experiment_output/kosmos-2/refcoco-pulus_train-and-eval_vision-proj-llm_distance-forward-kl-loss_b128acum4_2025-06-25T02_33_21/checkpoint-939/eval_output/refcoco_plus_kosmos2_validation/2025-06-26T08_19_47/eval_output.json', '/home/omote/omote-data-ssd/iam-llms-finetune/experiment_output/kosmos-2/refcoco-pulus_train-and-eval_vision-proj-llm_distance-forward-kl-loss_b128acum4_2025-06-25T02_33_21/checkpoint-1878/eval_output/refcoco_plus_kosmos2_validation/2025-06-26T08_20_28/eval_output.json', '/home/omote/omote-data-ssd/iam-llms-finetune/experiment_output/kosmos-2/refcoco-pulus_train-and-eval_vision-proj-llm_distance-forward-kl-loss_b128acum4_2025-06-25T02_33_21/checkpoint-2817/eval_output/refcoco_plus_kosmos2_validation/2025-06-26T08_21_04/eval_output.json', '/home/omote/omote-data-ssd/iam-llms-finetune/experiment_output/kosmos-2/refcoco-pulus_train-and-eval_vision-proj-llm_distance-forward-kl-loss_b128acum4_2025-06-25T02_33_21/checkpoint-3756/eval_output/refcoco_plus_kosmos2_validation/2025-06-26T08_21_40/eval_output.json', '/home/omote/omote-data-ssd/iam-llms-finetune/experiment_output/kosmos-2/refcoco-pulus_train-and-eval_vision-proj-llm_distance-forward-kl-loss_b128acum4_2025-06-25T02_33_21/checkpoint-4695/eval_output/refcoco_plus_kosmos2_validation/2025-06-26T08_22_16/eval_output.json']\n",
      "[939, 1878, 2817, 3756, 4695]\n"
     ]
    }
   ],
   "source": [
    "print(path_list)\n",
    "print(checkpoint_steps)"
   ]
  },
  {
   "cell_type": "code",
   "execution_count": 55,
   "id": "40d5c980",
   "metadata": {},
   "outputs": [
    {
     "name": "stdout",
     "output_type": "stream",
     "text": [
      "Loading JSON data...\n"
     ]
    },
    {
     "name": "stderr",
     "output_type": "stream",
     "text": [
      "Using a slow image processor as `use_fast` is unset and a slow processor was saved with this model. `use_fast=True` will be the default behavior in v4.52, even if the model was saved with a slow processor. This will result in minor differences in outputs. You'll still be able to use a slow processor with `use_fast=False`.\n"
     ]
    },
    {
     "name": "stdout",
     "output_type": "stream",
     "text": [
      "--------------------------------------------------\n",
      "Total data number: 3805\n",
      "Matched data number: 2920\n",
      "len all_iou_list: 3805\n",
      "len generated_iou_list: 3805\n",
      "--------------------------------------------------\n",
      "Accuracy: 0.7674113009198423\n",
      "Mean IoU: 0.7105647883428146\n",
      "--------------------------------------------------\n",
      "Saving sorted JSON data to \"/home/omote/omote-data-ssd/iam-llms-finetune/experiment_output/kosmos-2/refcoco-pulus_train-and-eval_vision-proj-llm_distance-forward-kl-loss_b128acum4_2025-06-25T02_33_21/checkpoint-939/eval_output/refcoco_plus_kosmos2_validation/2025-06-26T08_19_47/refcoco_iou_score.json\"...\n",
      "Loading JSON data...\n"
     ]
    },
    {
     "name": "stderr",
     "output_type": "stream",
     "text": [
      "Using a slow image processor as `use_fast` is unset and a slow processor was saved with this model. `use_fast=True` will be the default behavior in v4.52, even if the model was saved with a slow processor. This will result in minor differences in outputs. You'll still be able to use a slow processor with `use_fast=False`.\n"
     ]
    },
    {
     "name": "stdout",
     "output_type": "stream",
     "text": [
      "--------------------------------------------------\n",
      "Total data number: 3805\n",
      "Matched data number: 3139\n",
      "len all_iou_list: 3805\n",
      "len generated_iou_list: 3805\n",
      "--------------------------------------------------\n",
      "Accuracy: 0.8249671484888305\n",
      "Mean IoU: 0.760148260024047\n",
      "--------------------------------------------------\n",
      "Saving sorted JSON data to \"/home/omote/omote-data-ssd/iam-llms-finetune/experiment_output/kosmos-2/refcoco-pulus_train-and-eval_vision-proj-llm_distance-forward-kl-loss_b128acum4_2025-06-25T02_33_21/checkpoint-1878/eval_output/refcoco_plus_kosmos2_validation/2025-06-26T08_20_28/refcoco_iou_score.json\"...\n",
      "Loading JSON data...\n"
     ]
    },
    {
     "name": "stderr",
     "output_type": "stream",
     "text": [
      "Using a slow image processor as `use_fast` is unset and a slow processor was saved with this model. `use_fast=True` will be the default behavior in v4.52, even if the model was saved with a slow processor. This will result in minor differences in outputs. You'll still be able to use a slow processor with `use_fast=False`.\n"
     ]
    },
    {
     "name": "stdout",
     "output_type": "stream",
     "text": [
      "--------------------------------------------------\n",
      "Total data number: 3805\n",
      "Matched data number: 3208\n",
      "len all_iou_list: 3805\n",
      "len generated_iou_list: 3805\n",
      "--------------------------------------------------\n",
      "Accuracy: 0.8431011826544021\n",
      "Mean IoU: 0.7760436532541659\n",
      "--------------------------------------------------\n",
      "Saving sorted JSON data to \"/home/omote/omote-data-ssd/iam-llms-finetune/experiment_output/kosmos-2/refcoco-pulus_train-and-eval_vision-proj-llm_distance-forward-kl-loss_b128acum4_2025-06-25T02_33_21/checkpoint-2817/eval_output/refcoco_plus_kosmos2_validation/2025-06-26T08_21_04/refcoco_iou_score.json\"...\n",
      "Loading JSON data...\n"
     ]
    },
    {
     "name": "stderr",
     "output_type": "stream",
     "text": [
      "Using a slow image processor as `use_fast` is unset and a slow processor was saved with this model. `use_fast=True` will be the default behavior in v4.52, even if the model was saved with a slow processor. This will result in minor differences in outputs. You'll still be able to use a slow processor with `use_fast=False`.\n"
     ]
    },
    {
     "name": "stdout",
     "output_type": "stream",
     "text": [
      "--------------------------------------------------\n",
      "Total data number: 3805\n",
      "Matched data number: 3242\n",
      "len all_iou_list: 3805\n",
      "len generated_iou_list: 3805\n",
      "--------------------------------------------------\n",
      "Accuracy: 0.8520367936925098\n",
      "Mean IoU: 0.7825445631494484\n",
      "--------------------------------------------------\n",
      "Saving sorted JSON data to \"/home/omote/omote-data-ssd/iam-llms-finetune/experiment_output/kosmos-2/refcoco-pulus_train-and-eval_vision-proj-llm_distance-forward-kl-loss_b128acum4_2025-06-25T02_33_21/checkpoint-3756/eval_output/refcoco_plus_kosmos2_validation/2025-06-26T08_21_40/refcoco_iou_score.json\"...\n",
      "Loading JSON data...\n"
     ]
    },
    {
     "name": "stderr",
     "output_type": "stream",
     "text": [
      "Using a slow image processor as `use_fast` is unset and a slow processor was saved with this model. `use_fast=True` will be the default behavior in v4.52, even if the model was saved with a slow processor. This will result in minor differences in outputs. You'll still be able to use a slow processor with `use_fast=False`.\n"
     ]
    },
    {
     "name": "stdout",
     "output_type": "stream",
     "text": [
      "--------------------------------------------------\n",
      "Total data number: 3805\n",
      "Matched data number: 3258\n",
      "len all_iou_list: 3805\n",
      "len generated_iou_list: 3805\n",
      "--------------------------------------------------\n",
      "Accuracy: 0.8562417871222077\n",
      "Mean IoU: 0.7872461899363591\n",
      "--------------------------------------------------\n",
      "Saving sorted JSON data to \"/home/omote/omote-data-ssd/iam-llms-finetune/experiment_output/kosmos-2/refcoco-pulus_train-and-eval_vision-proj-llm_distance-forward-kl-loss_b128acum4_2025-06-25T02_33_21/checkpoint-4695/eval_output/refcoco_plus_kosmos2_validation/2025-06-26T08_22_16/refcoco_iou_score.json\"...\n"
     ]
    }
   ],
   "source": [
    "for path in path_list:\n",
    "    run_command = [\"python\", eval_script, \"--generated_json\", path]\n",
    "    run_command.extend(other_command)\n",
    "    subprocess.run(run_command, check=True)"
   ]
  },
  {
   "cell_type": "code",
   "execution_count": 56,
   "id": "cb8fb2a2",
   "metadata": {},
   "outputs": [],
   "source": [
    "script_base_name = os.path.basename(eval_script).split(\".\")[0]\n",
    "dataset_script_name = script_base_name + \"_\" + dataset_base_name\n",
    "score_path_list = glob.glob(os.path.join(model_path, \"checkpoint-*\", \"eval_output\",dataset_base_name, \"*\", f\"{script_base_name}.json\"), recursive=True)\n",
    "score_path_list = sorted(score_path_list, key=lambda x: int(x.split(\"/\")[-5].split(\"-\")[-1]))"
   ]
  },
  {
   "cell_type": "code",
   "execution_count": 57,
   "id": "edf812e5",
   "metadata": {},
   "outputs": [
    {
     "name": "stdout",
     "output_type": "stream",
     "text": [
      "refcoco_iou_score\n",
      "refcoco_iou_score_refcoco_plus_kosmos2_validation\n",
      "['/home/omote/omote-data-ssd/iam-llms-finetune/experiment_output/kosmos-2/refcoco-pulus_train-and-eval_vision-proj-llm_distance-forward-kl-loss_b128acum4_2025-06-25T02_33_21/checkpoint-939/eval_output/refcoco_plus_kosmos2_validation/2025-06-26T08_19_47/refcoco_iou_score.json', '/home/omote/omote-data-ssd/iam-llms-finetune/experiment_output/kosmos-2/refcoco-pulus_train-and-eval_vision-proj-llm_distance-forward-kl-loss_b128acum4_2025-06-25T02_33_21/checkpoint-1878/eval_output/refcoco_plus_kosmos2_validation/2025-06-26T08_20_28/refcoco_iou_score.json', '/home/omote/omote-data-ssd/iam-llms-finetune/experiment_output/kosmos-2/refcoco-pulus_train-and-eval_vision-proj-llm_distance-forward-kl-loss_b128acum4_2025-06-25T02_33_21/checkpoint-2817/eval_output/refcoco_plus_kosmos2_validation/2025-06-26T08_21_04/refcoco_iou_score.json', '/home/omote/omote-data-ssd/iam-llms-finetune/experiment_output/kosmos-2/refcoco-pulus_train-and-eval_vision-proj-llm_distance-forward-kl-loss_b128acum4_2025-06-25T02_33_21/checkpoint-3756/eval_output/refcoco_plus_kosmos2_validation/2025-06-26T08_21_40/refcoco_iou_score.json', '/home/omote/omote-data-ssd/iam-llms-finetune/experiment_output/kosmos-2/refcoco-pulus_train-and-eval_vision-proj-llm_distance-forward-kl-loss_b128acum4_2025-06-25T02_33_21/checkpoint-4695/eval_output/refcoco_plus_kosmos2_validation/2025-06-26T08_22_16/refcoco_iou_score.json']\n"
     ]
    }
   ],
   "source": [
    "print(script_base_name  )\n",
    "print(dataset_script_name)\n",
    "print(score_path_list)"
   ]
  },
  {
   "cell_type": "code",
   "execution_count": 58,
   "id": "6ec89eac",
   "metadata": {},
   "outputs": [],
   "source": [
    "import json\n",
    "def load_json(file_path):\n",
    "    \"\"\"\n",
    "    Load data from a JSON file.\n",
    "\n",
    "    Args:\n",
    "        file_path (str): Path to the JSON file.\n",
    "\n",
    "    Returns:\n",
    "        dict: Data loaded from the file.\n",
    "    \"\"\"\n",
    "    with open(file_path, 'r') as f:\n",
    "        return json.load(f)\n"
   ]
  },
  {
   "cell_type": "code",
   "execution_count": 59,
   "id": "82fd15f9",
   "metadata": {},
   "outputs": [],
   "source": [
    "def flatten_json(y:dict, prefix: str = ''):\n",
    "    out = {}\n",
    "    for k, v in y.items():\n",
    "        new_key = f\"{prefix}-{k}\" if prefix else k\n",
    "        if isinstance(v, dict):\n",
    "            out.update(flatten_json(v, new_key))\n",
    "        else:\n",
    "            out[new_key] = v\n",
    "    return out\n"
   ]
  },
  {
   "cell_type": "code",
   "execution_count": 60,
   "id": "75675ef5",
   "metadata": {},
   "outputs": [
    {
     "name": "stdout",
     "output_type": "stream",
     "text": [
      "Step: 939\n",
      "Scores: {'refcoco_iou_score_refcoco_plus_kosmos2_validation/accuracy': 0.7674113009198423, 'refcoco_iou_score_refcoco_plus_kosmos2_validation/mean_iou': 0.7105647883428146, 'refcoco_iou_score_refcoco_plus_kosmos2_validation/total_data_num': 3805, 'refcoco_iou_score_refcoco_plus_kosmos2_validation/matched_data_num': 2920, 'refcoco_iou_score_refcoco_plus_kosmos2_validation/gt_iou_num_count': 3805, 'refcoco_iou_score_refcoco_plus_kosmos2_validation/generated_iou_num_count': 3805}\n",
      "Step: 1878\n",
      "Scores: {'refcoco_iou_score_refcoco_plus_kosmos2_validation/accuracy': 0.8249671484888305, 'refcoco_iou_score_refcoco_plus_kosmos2_validation/mean_iou': 0.760148260024047, 'refcoco_iou_score_refcoco_plus_kosmos2_validation/total_data_num': 3805, 'refcoco_iou_score_refcoco_plus_kosmos2_validation/matched_data_num': 3139, 'refcoco_iou_score_refcoco_plus_kosmos2_validation/gt_iou_num_count': 3805, 'refcoco_iou_score_refcoco_plus_kosmos2_validation/generated_iou_num_count': 3805}\n",
      "Step: 2817\n",
      "Scores: {'refcoco_iou_score_refcoco_plus_kosmos2_validation/accuracy': 0.8431011826544021, 'refcoco_iou_score_refcoco_plus_kosmos2_validation/mean_iou': 0.7760436532541659, 'refcoco_iou_score_refcoco_plus_kosmos2_validation/total_data_num': 3805, 'refcoco_iou_score_refcoco_plus_kosmos2_validation/matched_data_num': 3208, 'refcoco_iou_score_refcoco_plus_kosmos2_validation/gt_iou_num_count': 3805, 'refcoco_iou_score_refcoco_plus_kosmos2_validation/generated_iou_num_count': 3805}\n",
      "Step: 3756\n",
      "Scores: {'refcoco_iou_score_refcoco_plus_kosmos2_validation/accuracy': 0.8520367936925098, 'refcoco_iou_score_refcoco_plus_kosmos2_validation/mean_iou': 0.7825445631494484, 'refcoco_iou_score_refcoco_plus_kosmos2_validation/total_data_num': 3805, 'refcoco_iou_score_refcoco_plus_kosmos2_validation/matched_data_num': 3242, 'refcoco_iou_score_refcoco_plus_kosmos2_validation/gt_iou_num_count': 3805, 'refcoco_iou_score_refcoco_plus_kosmos2_validation/generated_iou_num_count': 3805}\n",
      "Step: 4695\n",
      "Scores: {'refcoco_iou_score_refcoco_plus_kosmos2_validation/accuracy': 0.8562417871222077, 'refcoco_iou_score_refcoco_plus_kosmos2_validation/mean_iou': 0.7872461899363591, 'refcoco_iou_score_refcoco_plus_kosmos2_validation/total_data_num': 3805, 'refcoco_iou_score_refcoco_plus_kosmos2_validation/matched_data_num': 3258, 'refcoco_iou_score_refcoco_plus_kosmos2_validation/gt_iou_num_count': 3805, 'refcoco_iou_score_refcoco_plus_kosmos2_validation/generated_iou_num_count': 3805}\n"
     ]
    }
   ],
   "source": [
    "for step, score_path in zip(checkpoint_steps, score_path_list):\n",
    "    print(f\"Step: {step}\")\n",
    "    data = load_json(score_path)\n",
    "    # print(flatten_json(data))\n",
    "    scores = data.get(\"scores\", {})\n",
    "    data_num = data.get(\"data_num\", {})\n",
    "    scores.update(data_num)\n",
    "    tmp_scores = {}\n",
    "    for k, v in scores.items():\n",
    "        tmp_scores[f\"{dataset_script_name}/{k}\"] = v\n",
    "    \n",
    "    scores = tmp_scores\n",
    "    print(f\"Scores: {scores}\")\n",
    "    # print(f\"Data Num: {data_num}\")\n",
    "    # print(\"-\" * 50)"
   ]
  },
  {
   "cell_type": "code",
   "execution_count": 61,
   "id": "4ba2a3bf",
   "metadata": {},
   "outputs": [
    {
     "data": {
      "text/html": [
       "Tracking run with wandb version 0.20.1"
      ],
      "text/plain": [
       "<IPython.core.display.HTML object>"
      ]
     },
     "metadata": {},
     "output_type": "display_data"
    },
    {
     "data": {
      "text/html": [
       "Run data is saved locally in <code>/home/omote/cluster_project/iam2/eval/wandb/run-20250627_140258-lf1gmmlz</code>"
      ],
      "text/plain": [
       "<IPython.core.display.HTML object>"
      ]
     },
     "metadata": {},
     "output_type": "display_data"
    },
    {
     "data": {
      "text/html": [
       "Resuming run <strong><a href='https://wandb.ai/katlab-gifu/kosmos-2/runs/lf1gmmlz' target=\"_blank\">refcoco-pulus_train-and-eval_vision-proj-llm_distance-forward-kl-loss_b128acum4_2025-06-25T02_33_21</a></strong> to <a href='https://wandb.ai/katlab-gifu/kosmos-2' target=\"_blank\">Weights & Biases</a> (<a href='https://wandb.me/developer-guide' target=\"_blank\">docs</a>)<br>"
      ],
      "text/plain": [
       "<IPython.core.display.HTML object>"
      ]
     },
     "metadata": {},
     "output_type": "display_data"
    },
    {
     "data": {
      "text/html": [
       " View project at <a href='https://wandb.ai/katlab-gifu/kosmos-2' target=\"_blank\">https://wandb.ai/katlab-gifu/kosmos-2</a>"
      ],
      "text/plain": [
       "<IPython.core.display.HTML object>"
      ]
     },
     "metadata": {},
     "output_type": "display_data"
    },
    {
     "data": {
      "text/html": [
       " View run at <a href='https://wandb.ai/katlab-gifu/kosmos-2/runs/lf1gmmlz' target=\"_blank\">https://wandb.ai/katlab-gifu/kosmos-2/runs/lf1gmmlz</a>"
      ],
      "text/plain": [
       "<IPython.core.display.HTML object>"
      ]
     },
     "metadata": {},
     "output_type": "display_data"
    },
    {
     "name": "stdout",
     "output_type": "stream",
     "text": [
      "Step: 939\n",
      "Step: 1878\n",
      "Step: 2817\n",
      "Step: 3756\n",
      "Step: 4695\n"
     ]
    },
    {
     "data": {
      "text/html": [],
      "text/plain": [
       "<IPython.core.display.HTML object>"
      ]
     },
     "metadata": {},
     "output_type": "display_data"
    },
    {
     "data": {
      "text/html": [
       "<br>    <style><br>        .wandb-row {<br>            display: flex;<br>            flex-direction: row;<br>            flex-wrap: wrap;<br>            justify-content: flex-start;<br>            width: 100%;<br>        }<br>        .wandb-col {<br>            display: flex;<br>            flex-direction: column;<br>            flex-basis: 100%;<br>            flex: 1;<br>            padding: 10px;<br>        }<br>    </style><br><div class=\"wandb-row\"><div class=\"wandb-col\"><h3>Run history:</h3><br/><table class=\"wandb\"><tr><td>refcoco_iou_score_refcoco_plus_kosmos2_validation/accuracy</td><td>▁▆▇██</td></tr><tr><td>refcoco_iou_score_refcoco_plus_kosmos2_validation/generated_iou_num_count</td><td>▁▁▁▁▁</td></tr><tr><td>refcoco_iou_score_refcoco_plus_kosmos2_validation/gt_iou_num_count</td><td>▁▁▁▁▁</td></tr><tr><td>refcoco_iou_score_refcoco_plus_kosmos2_validation/matched_data_num</td><td>▁▆▇██</td></tr><tr><td>refcoco_iou_score_refcoco_plus_kosmos2_validation/mean_iou</td><td>▁▆▇██</td></tr><tr><td>refcoco_iou_score_refcoco_plus_kosmos2_validation/step</td><td>▁▃▅▆█</td></tr><tr><td>refcoco_iou_score_refcoco_plus_kosmos2_validation/total_data_num</td><td>▁▁▁▁▁</td></tr></table><br/></div><div class=\"wandb-col\"><h3>Run summary:</h3><br/><table class=\"wandb\"><tr><td>eval/loss</td><td>0.30081</td></tr><tr><td>eval/runtime</td><td>28.4055</td></tr><tr><td>eval/samples_per_second</td><td>378.73</td></tr><tr><td>eval/steps_per_second</td><td>2.992</td></tr><tr><td>refcoco_iou_score_refcoco_plus_kosmos2_validation/accuracy</td><td>0.85624</td></tr><tr><td>refcoco_iou_score_refcoco_plus_kosmos2_validation/generated_iou_num_count</td><td>3805</td></tr><tr><td>refcoco_iou_score_refcoco_plus_kosmos2_validation/gt_iou_num_count</td><td>3805</td></tr><tr><td>refcoco_iou_score_refcoco_plus_kosmos2_validation/matched_data_num</td><td>3258</td></tr><tr><td>refcoco_iou_score_refcoco_plus_kosmos2_validation/mean_iou</td><td>0.78725</td></tr><tr><td>refcoco_iou_score_refcoco_plus_kosmos2_validation/step</td><td>4695</td></tr><tr><td>refcoco_iou_score_refcoco_plus_kosmos2_validation/total_data_num</td><td>3805</td></tr><tr><td>total_flos</td><td>1042627610284130400</td></tr><tr><td>train/epoch</td><td>5</td></tr><tr><td>train/global_step</td><td>4695</td></tr><tr><td>train/grad_norm</td><td>2.86251</td></tr><tr><td>train/learning_rate</td><td>0.0</td></tr><tr><td>train/loss</td><td>0.0961</td></tr><tr><td>train_loss</td><td>0.22942</td></tr><tr><td>train_runtime</td><td>18034.365</td></tr><tr><td>train_samples_per_second</td><td>33.323</td></tr><tr><td>train_steps_per_second</td><td>0.26</td></tr></table><br/></div></div>"
      ],
      "text/plain": [
       "<IPython.core.display.HTML object>"
      ]
     },
     "metadata": {},
     "output_type": "display_data"
    },
    {
     "data": {
      "text/html": [
       " View run <strong style=\"color:#cdcd00\">refcoco-pulus_train-and-eval_vision-proj-llm_distance-forward-kl-loss_b128acum4_2025-06-25T02_33_21</strong> at: <a href='https://wandb.ai/katlab-gifu/kosmos-2/runs/lf1gmmlz' target=\"_blank\">https://wandb.ai/katlab-gifu/kosmos-2/runs/lf1gmmlz</a><br> View project at: <a href='https://wandb.ai/katlab-gifu/kosmos-2' target=\"_blank\">https://wandb.ai/katlab-gifu/kosmos-2</a><br>Synced 5 W&B file(s), 0 media file(s), 0 artifact file(s) and 0 other file(s)"
      ],
      "text/plain": [
       "<IPython.core.display.HTML object>"
      ]
     },
     "metadata": {},
     "output_type": "display_data"
    },
    {
     "data": {
      "text/html": [
       "Find logs at: <code>./wandb/run-20250627_140258-lf1gmmlz/logs</code>"
      ],
      "text/plain": [
       "<IPython.core.display.HTML object>"
      ]
     },
     "metadata": {},
     "output_type": "display_data"
    }
   ],
   "source": [
    "\n",
    "run = wandb.init(\n",
    "    project=PROJECT,\n",
    "    id=RUN_ID,\n",
    "    resume=\"allow\")            # 既存 run があれば再開、無ければエラー無し :contentReference[oaicite:0]{index=0}\n",
    "\n",
    "# optional: グラフを学習と同じ軸に重ねたい時\n",
    "\n",
    "max_scores = {}\n",
    "\n",
    "for step, score_path in zip(checkpoint_steps, score_path_list):\n",
    "    print(f\"Step: {step}\")\n",
    "    data = load_json(score_path)\n",
    "    # print(flatten_json(data))\n",
    "    scores = data.get(\"scores\", {})\n",
    "    data_num = data.get(\"data_num\", {})\n",
    "    scores.update(data_num)\n",
    "    tmp_scores = {}\n",
    "    for k, v in scores.items():\n",
    "        tmp_scores[f\"{dataset_script_name}/{k}\"] = v\n",
    "        run.define_metric(f\"{dataset_script_name}/{k}\", step_metric=f\"{dataset_script_name}/step\")\n",
    "        if f\"{dataset_script_name}/{k}\" not in max_scores:\n",
    "            max_scores[f\"{dataset_script_name}/{k}\"] = [v]\n",
    "        else:\n",
    "            max_scores[f\"{dataset_script_name}/{k}\"].append(v)\n",
    "    scores = tmp_scores\n",
    "    # print(f\"Scores: {scores}\")\n",
    "    run.log({                # history に行を追加\n",
    "        **scores,            # スコアを追加\n",
    "        f\"{dataset_script_name}/step\":         step     # or step=step に渡す\n",
    "    })  # step を指定してログする\n",
    "    \n",
    "max_scores = {k: max(v) for k, v in max_scores.items()}  # 各スコアの最大値を取得\n",
    "\n",
    "\n",
    "# 各スコアの最大値を summary に追加\n",
    "run.summary.update(max_scores)\n",
    "# ★run を明示的に閉じる\n",
    "run.finish()"
   ]
  },
  {
   "cell_type": "code",
   "execution_count": null,
   "id": "15f9963c",
   "metadata": {},
   "outputs": [],
   "source": []
  },
  {
   "cell_type": "code",
   "execution_count": null,
   "id": "cccfc5f6",
   "metadata": {},
   "outputs": [],
   "source": []
  }
 ],
 "metadata": {
  "kernelspec": {
   "display_name": ".venv",
   "language": "python",
   "name": "python3"
  },
  "language_info": {
   "codemirror_mode": {
    "name": "ipython",
    "version": 3
   },
   "file_extension": ".py",
   "mimetype": "text/x-python",
   "name": "python",
   "nbconvert_exporter": "python",
   "pygments_lexer": "ipython3",
   "version": "3.12.10"
  }
 },
 "nbformat": 4,
 "nbformat_minor": 5
}
