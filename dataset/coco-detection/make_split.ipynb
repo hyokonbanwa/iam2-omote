{
 "cells": [
  {
   "cell_type": "code",
   "execution_count": 1,
   "id": "c3513ec5",
   "metadata": {},
   "outputs": [],
   "source": [
    "import json\n",
    "\n",
    "def load_json(file_path):\n",
    "    \"\"\"\n",
    "    Load a JSON file and return its content as a Python dictionary.\n",
    "\n",
    "    Parameters:\n",
    "        file_path (str): The path to the JSON file.\n",
    "\n",
    "    Returns:\n",
    "        dict: The content of the JSON file as a dictionary.\n",
    "    \"\"\"\n",
    "    with open(file_path, 'r', encoding='utf-8') as file:\n",
    "        data = json.load(file)\n",
    "    return data\n",
    "def save_json(data, file_path):\n",
    "    \"\"\"\n",
    "    Save a Python dictionary to a JSON file.\n",
    "\n",
    "    Parameters:\n",
    "        data (dict): The data to save.\n",
    "        file_path (str): The path where the JSON file will be saved.\n",
    "    \"\"\"\n",
    "    with open(file_path, 'w', encoding='utf-8') as file:\n",
    "        json.dump(data, file, ensure_ascii=False, indent=4)"
   ]
  },
  {
   "cell_type": "code",
   "execution_count": 3,
   "id": "78557e39",
   "metadata": {},
   "outputs": [],
   "source": [
    "json_path = \"/data_ssd/mscoco-detection/original-split/original-train_bbox-UDLR_for-kosmos2_mscoco2017-detection.json\"\n",
    "json_data = load_json(json_path)"
   ]
  },
  {
   "cell_type": "code",
   "execution_count": 4,
   "id": "7ed7a746",
   "metadata": {},
   "outputs": [
    {
     "name": "stdout",
     "output_type": "stream",
     "text": [
      "117266\n"
     ]
    }
   ],
   "source": [
    "print(len(json_data))"
   ]
  },
  {
   "cell_type": "code",
   "execution_count": 5,
   "id": "b2b60131",
   "metadata": {},
   "outputs": [
    {
     "name": "stdout",
     "output_type": "stream",
     "text": [
      "for_train_num: 112266\n",
      "for_val_num: 5000\n"
     ]
    }
   ],
   "source": [
    "import random\n",
    "from sklearn.model_selection import train_test_split\n",
    "import numpy as np\n",
    "\n",
    "random.seed(42)\n",
    "np.random.seed(42)\n",
    "\n",
    "for_val_num = 5000\n",
    "for_train_num = len(json_data) - for_val_num\n",
    "print(\"for_train_num:\", for_train_num)\n",
    "print(\"for_val_num:\", for_val_num)"
   ]
  },
  {
   "cell_type": "code",
   "execution_count": 6,
   "id": "6ff9a1e6",
   "metadata": {},
   "outputs": [],
   "source": [
    "train_dataset, val_dataset = train_test_split(    json_data,\n",
    "    test_size=for_val_num,)"
   ]
  },
  {
   "cell_type": "code",
   "execution_count": 7,
   "id": "5acf9099",
   "metadata": {},
   "outputs": [
    {
     "name": "stdout",
     "output_type": "stream",
     "text": [
      "train_dataset: 112266\n",
      "val_dataset: 5000\n"
     ]
    }
   ],
   "source": [
    "print(f\"train_dataset: {len(train_dataset)}\")\n",
    "print(f\"val_dataset: {len(val_dataset)}\")\n",
    "assert len(train_dataset) + len(val_dataset) == len(json_data)"
   ]
  },
  {
   "cell_type": "code",
   "execution_count": 8,
   "id": "649a994b",
   "metadata": {},
   "outputs": [],
   "source": [
    "train_json_path = \"/data_ssd/mscoco-detection/train_bbox-UDLR_for-kosmos2_mscoco2017-detection.json\"\n",
    "val_json_path = \"/data_ssd/mscoco-detection/val_bbox-UDLR_for-kosmos2_mscoco2017-detection.json\"\n",
    "save_json(train_dataset, train_json_path)\n",
    "save_json(val_dataset, val_json_path)"
   ]
  },
  {
   "cell_type": "code",
   "execution_count": 9,
   "id": "6420bf16",
   "metadata": {},
   "outputs": [],
   "source": [
    "train_loaded_data = load_json(train_json_path)\n",
    "val_loaded_data = load_json(val_json_path)\n",
    "\n",
    "assert len(train_loaded_data) == len(train_dataset)\n",
    "assert len(val_loaded_data) == len(val_dataset)"
   ]
  },
  {
   "cell_type": "code",
   "execution_count": null,
   "id": "afe52e93",
   "metadata": {},
   "outputs": [],
   "source": []
  }
 ],
 "metadata": {
  "kernelspec": {
   "display_name": ".venv",
   "language": "python",
   "name": "python3"
  },
  "language_info": {
   "codemirror_mode": {
    "name": "ipython",
    "version": 3
   },
   "file_extension": ".py",
   "mimetype": "text/x-python",
   "name": "python",
   "nbconvert_exporter": "python",
   "pygments_lexer": "ipython3",
   "version": "3.12.10"
  }
 },
 "nbformat": 4,
 "nbformat_minor": 5
}
