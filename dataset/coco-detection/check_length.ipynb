{
 "cells": [
  {
   "cell_type": "code",
   "execution_count": 1,
   "id": "8b0261e8",
   "metadata": {},
   "outputs": [],
   "source": [
    "import json\n",
    "def load_json(file_path):\n",
    "    \"\"\"\n",
    "    Load a JSON file and return its content as a Python dictionary.\n",
    "\n",
    "    Parameters:\n",
    "        file_path (str): The path to the JSON file.\n",
    "\n",
    "    Returns:\n",
    "        dict: The content of the JSON file as a dictionary.\n",
    "    \"\"\"\n",
    "    with open(file_path, 'r', encoding='utf-8') as file:\n",
    "        data = json.load(file)\n",
    "    return data\n",
    "def save_json(data, file_path):\n",
    "    \"\"\"\n",
    "    Save a Python dictionary to a JSON file.\n",
    "\n",
    "    Parameters:\n",
    "        data (dict): The data to save.\n",
    "        file_path (str): The path where the JSON file will be saved.\n",
    "    \"\"\"\n",
    "    with open(file_path, 'w', encoding='utf-8') as file:\n",
    "        json.dump(data, file, ensure_ascii=False, indent=4)"
   ]
  },
  {
   "cell_type": "code",
   "execution_count": 29,
   "id": "073238af",
   "metadata": {},
   "outputs": [],
   "source": [
    "val_ppth = \"/data_ssd/mscoco-detection/check_length/check-length_val_for-kosmos2_mscoco2017-detection.json\"\n",
    "test_path = \"/data_ssd/mscoco-detection/check_length/check-length_test_for-kosmos2_mscoco2017-detection.json\""
   ]
  },
  {
   "cell_type": "code",
   "execution_count": 30,
   "id": "e236119d",
   "metadata": {},
   "outputs": [],
   "source": [
    "val_data = load_json(val_ppth)\n",
    "test_data = load_json(test_path)\n",
    "\n",
    "data = val_data + test_data"
   ]
  },
  {
   "cell_type": "code",
   "execution_count": 31,
   "id": "cd2ec23f",
   "metadata": {},
   "outputs": [
    {
     "name": "stdout",
     "output_type": "stream",
     "text": [
      "{'total_ids_length': 334, 'input_ids_length': 260, 'output_ids_length': 74, 'source': {'id': 'mscoco2017-detection_train-402699', 'image': 'mscoco2017/coco/images/train2017/000000402699.jpg', 'conversations': [{'from': 'human', 'value': '<image><grounding> Please carefully check the image and detect the following objects: [person, bicycle, car, motorcycle, airplane, bus, train, truck, boat, traffic light, fire hydrant, stop sign, parking meter, bench, bird, cat, dog, horse, sheep, cow, elephant, bear, zebra, giraffe, backpack, umbrella, handbag, tie, suitcase, frisbee, skis, snowboard, sports ball, kite, baseball bat, baseball glove, skateboard, surfboard, tennis racket, bottle, wine glass, cup, fork, knife, spoon, bowl, banana, apple, sandwich, orange, broccoli, carrot, hot dog, pizza, donut, cake, chair, couch, potted plant, bed, dining table, toilet, tv, laptop, mouse, remote, keyboard, cell phone, microwave, oven, toaster, sink, refrigerator, book, clock, vase, scissors, teddy bear, hair drier, toothbrush].'}, {'from': 'gpt', 'value': '<phrase> person</phrase><object><patch_index_0225><patch_index_1000></delimiter_of_multi_objects/><patch_index_0293><patch_index_1008></delimiter_of_multi_objects/><patch_index_0263><patch_index_1016></delimiter_of_multi_objects/><patch_index_0512><patch_index_0900></delimiter_of_multi_objects/><patch_index_0363><patch_index_0621></delimiter_of_multi_objects/><patch_index_0704><patch_index_0995></delimiter_of_multi_objects/><patch_index_0367><patch_index_0724></delimiter_of_multi_objects/><patch_index_0020><patch_index_1023></delimiter_of_multi_objects/><patch_index_0116><patch_index_1020></object>, <phrase> umbrella</phrase><object><patch_index_0293><patch_index_0907></object>, <phrase> handbag</phrase><object><patch_index_0672><patch_index_0739></delimiter_of_multi_objects/><patch_index_0682><patch_index_0747></delimiter_of_multi_objects/><patch_index_0937><patch_index_1005></object>, <phrase> cell phone</phrase><object><patch_index_0640><patch_index_0673></delimiter_of_multi_objects/><patch_index_0523><patch_index_0556></delimiter_of_multi_objects/><patch_index_0617><patch_index_0649></object>.'}]}}\n"
     ]
    }
   ],
   "source": [
    "print(data[0])"
   ]
  },
  {
   "cell_type": "code",
   "execution_count": null,
   "id": "0259d125",
   "metadata": {},
   "outputs": [],
   "source": []
  },
  {
   "cell_type": "code",
   "execution_count": 34,
   "id": "5c31e4a0",
   "metadata": {},
   "outputs": [
    {
     "name": "stdout",
     "output_type": "stream",
     "text": [
      "max length: 266\n"
     ]
    }
   ],
   "source": [
    "length_list = []\n",
    "for index, item in enumerate(data):\n",
    "    # print(index)\n",
    "    length = item[\"output_ids_length\"]\n",
    "    length_list.append(length)\n",
    "print(f\"max length: {max(length_list)}\")"
   ]
  },
  {
   "cell_type": "code",
   "execution_count": null,
   "id": "86bd7f0f",
   "metadata": {},
   "outputs": [],
   "source": []
  }
 ],
 "metadata": {
  "kernelspec": {
   "display_name": ".venv",
   "language": "python",
   "name": "python3"
  },
  "language_info": {
   "codemirror_mode": {
    "name": "ipython",
    "version": 3
   },
   "file_extension": ".py",
   "mimetype": "text/x-python",
   "name": "python",
   "nbconvert_exporter": "python",
   "pygments_lexer": "ipython3",
   "version": "3.12.10"
  }
 },
 "nbformat": 4,
 "nbformat_minor": 5
}
