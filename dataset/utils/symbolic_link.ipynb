{
 "cells": [
  {
   "cell_type": "code",
   "execution_count": 1,
   "id": "e1702f3b",
   "metadata": {},
   "outputs": [],
   "source": [
    "import os"
   ]
  },
  {
   "cell_type": "code",
   "execution_count": 2,
   "id": "bee85cf3",
   "metadata": {},
   "outputs": [
    {
     "name": "stdout",
     "output_type": "stream",
     "text": [
      "['patch8', 'patch4', 'patch14', 'patch12', 'patch2', 'patch6', 'patch20', 'patch26', 'patch10', 'patch0', 'patch29', 'patch32', 'patch13', 'patch38', 'patch42', 'patch15', 'patch7', 'patch43', 'patch5', 'patch47', 'patch11', 'patch1', 'patch9', 'patch3', 'patch16', 'patch18', 'patch22', 'patch24', 'patch28', 'patch30', 'patch25', 'patch19', 'patch17', 'patch21', 'patch27', 'patch23', 'patch31', 'patch34', 'patch36', 'patch40', 'patch44', 'patch46', 'patch41', 'patch37', 'patch39', 'patch45', 'patch35', 'patch48', 'patch50', 'patch49', 'patch33']\n",
      "['/data_ssd/object365/raw_data/images/train/patch8/patch8', '/data_ssd/object365/raw_data/images/train/patch4/patch4', '/data_ssd/object365/raw_data/images/train/patch14/patch14', '/data_ssd/object365/raw_data/images/train/patch12/patch12', '/data_ssd/object365/raw_data/images/train/patch2/patch2', '/data_ssd/object365/raw_data/images/train/patch6/patch6', '/data_ssd/object365/raw_data/images/train/patch20/patch20', '/data_ssd/object365/raw_data/images/train/patch26/patch26', '/data_ssd/object365/raw_data/images/train/patch10/patch10', '/data_ssd/object365/raw_data/images/train/patch0/patch0', '/data_ssd/object365/raw_data/images/train/patch29/patch29', '/data_ssd/object365/raw_data/images/train/patch32/patch32', '/data_ssd/object365/raw_data/images/train/patch13/patch13', '/data_ssd/object365/raw_data/images/train/patch38/patch38', '/data_ssd/object365/raw_data/images/train/patch42/patch42', '/data_ssd/object365/raw_data/images/train/patch15/patch15', '/data_ssd/object365/raw_data/images/train/patch7/patch7', '/data_ssd/object365/raw_data/images/train/patch43/patch43', '/data_ssd/object365/raw_data/images/train/patch5/patch5', '/data_ssd/object365/raw_data/images/train/patch47/patch47', '/data_ssd/object365/raw_data/images/train/patch11/patch11', '/data_ssd/object365/raw_data/images/train/patch1/patch1', '/data_ssd/object365/raw_data/images/train/patch9/patch9', '/data_ssd/object365/raw_data/images/train/patch3/patch3', '/data_ssd/object365/raw_data/images/train/patch16/patch16', '/data_ssd/object365/raw_data/images/train/patch18/patch18', '/data_ssd/object365/raw_data/images/train/patch22/patch22', '/data_ssd/object365/raw_data/images/train/patch24/patch24', '/data_ssd/object365/raw_data/images/train/patch28/patch28', '/data_ssd/object365/raw_data/images/train/patch30/patch30', '/data_ssd/object365/raw_data/images/train/patch25/patch25', '/data_ssd/object365/raw_data/images/train/patch19/patch19', '/data_ssd/object365/raw_data/images/train/patch17/patch17', '/data_ssd/object365/raw_data/images/train/patch21/patch21', '/data_ssd/object365/raw_data/images/train/patch27/patch27', '/data_ssd/object365/raw_data/images/train/patch23/patch23', '/data_ssd/object365/raw_data/images/train/patch31/patch31', '/data_ssd/object365/raw_data/images/train/patch34/patch34', '/data_ssd/object365/raw_data/images/train/patch36/patch36', '/data_ssd/object365/raw_data/images/train/patch40/patch40', '/data_ssd/object365/raw_data/images/train/patch44/patch44', '/data_ssd/object365/raw_data/images/train/patch46/patch46', '/data_ssd/object365/raw_data/images/train/patch41/patch41', '/data_ssd/object365/raw_data/images/train/patch37/patch37', '/data_ssd/object365/raw_data/images/train/patch39/patch39', '/data_ssd/object365/raw_data/images/train/patch45/patch45', '/data_ssd/object365/raw_data/images/train/patch35/patch35', '/data_ssd/object365/raw_data/images/train/patch48/patch48', '/data_ssd/object365/raw_data/images/train/patch50/patch50', '/data_ssd/object365/raw_data/images/train/patch49/patch49', '/data_ssd/object365/raw_data/images/train/patch33/patch33']\n"
     ]
    }
   ],
   "source": [
    "src_dir =\"/data_ssd/object365/raw_data/images/train\" #\"/data_ssd/huggingface_dataset/lmms-lab/M4-Instruct-Data\"\n",
    "src_dir_list = [tmp for tmp in os.listdir(src_dir) if \".\" not in tmp]\n",
    "print(src_dir_list)\n",
    "\n",
    "src_dir_path_list = []\n",
    "for i in src_dir_list:\n",
    "    src_dir_path = os.path.join(src_dir, i,i)\n",
    "    src_dir_path_list.append(src_dir_path)\n",
    "print(src_dir_path_list)"
   ]
  },
  {
   "cell_type": "code",
   "execution_count": 3,
   "id": "71e1d49d",
   "metadata": {},
   "outputs": [
    {
     "name": "stdout",
     "output_type": "stream",
     "text": [
      "['/data_ssd/llava-onevision-data-symbolic-link/objects365/train/patch8', '/data_ssd/llava-onevision-data-symbolic-link/objects365/train/patch4', '/data_ssd/llava-onevision-data-symbolic-link/objects365/train/patch14', '/data_ssd/llava-onevision-data-symbolic-link/objects365/train/patch12', '/data_ssd/llava-onevision-data-symbolic-link/objects365/train/patch2', '/data_ssd/llava-onevision-data-symbolic-link/objects365/train/patch6', '/data_ssd/llava-onevision-data-symbolic-link/objects365/train/patch20', '/data_ssd/llava-onevision-data-symbolic-link/objects365/train/patch26', '/data_ssd/llava-onevision-data-symbolic-link/objects365/train/patch10', '/data_ssd/llava-onevision-data-symbolic-link/objects365/train/patch0', '/data_ssd/llava-onevision-data-symbolic-link/objects365/train/patch29', '/data_ssd/llava-onevision-data-symbolic-link/objects365/train/patch32', '/data_ssd/llava-onevision-data-symbolic-link/objects365/train/patch13', '/data_ssd/llava-onevision-data-symbolic-link/objects365/train/patch38', '/data_ssd/llava-onevision-data-symbolic-link/objects365/train/patch42', '/data_ssd/llava-onevision-data-symbolic-link/objects365/train/patch15', '/data_ssd/llava-onevision-data-symbolic-link/objects365/train/patch7', '/data_ssd/llava-onevision-data-symbolic-link/objects365/train/patch43', '/data_ssd/llava-onevision-data-symbolic-link/objects365/train/patch5', '/data_ssd/llava-onevision-data-symbolic-link/objects365/train/patch47', '/data_ssd/llava-onevision-data-symbolic-link/objects365/train/patch11', '/data_ssd/llava-onevision-data-symbolic-link/objects365/train/patch1', '/data_ssd/llava-onevision-data-symbolic-link/objects365/train/patch9', '/data_ssd/llava-onevision-data-symbolic-link/objects365/train/patch3', '/data_ssd/llava-onevision-data-symbolic-link/objects365/train/patch16', '/data_ssd/llava-onevision-data-symbolic-link/objects365/train/patch18', '/data_ssd/llava-onevision-data-symbolic-link/objects365/train/patch22', '/data_ssd/llava-onevision-data-symbolic-link/objects365/train/patch24', '/data_ssd/llava-onevision-data-symbolic-link/objects365/train/patch28', '/data_ssd/llava-onevision-data-symbolic-link/objects365/train/patch30', '/data_ssd/llava-onevision-data-symbolic-link/objects365/train/patch25', '/data_ssd/llava-onevision-data-symbolic-link/objects365/train/patch19', '/data_ssd/llava-onevision-data-symbolic-link/objects365/train/patch17', '/data_ssd/llava-onevision-data-symbolic-link/objects365/train/patch21', '/data_ssd/llava-onevision-data-symbolic-link/objects365/train/patch27', '/data_ssd/llava-onevision-data-symbolic-link/objects365/train/patch23', '/data_ssd/llava-onevision-data-symbolic-link/objects365/train/patch31', '/data_ssd/llava-onevision-data-symbolic-link/objects365/train/patch34', '/data_ssd/llava-onevision-data-symbolic-link/objects365/train/patch36', '/data_ssd/llava-onevision-data-symbolic-link/objects365/train/patch40', '/data_ssd/llava-onevision-data-symbolic-link/objects365/train/patch44', '/data_ssd/llava-onevision-data-symbolic-link/objects365/train/patch46', '/data_ssd/llava-onevision-data-symbolic-link/objects365/train/patch41', '/data_ssd/llava-onevision-data-symbolic-link/objects365/train/patch37', '/data_ssd/llava-onevision-data-symbolic-link/objects365/train/patch39', '/data_ssd/llava-onevision-data-symbolic-link/objects365/train/patch45', '/data_ssd/llava-onevision-data-symbolic-link/objects365/train/patch35', '/data_ssd/llava-onevision-data-symbolic-link/objects365/train/patch48', '/data_ssd/llava-onevision-data-symbolic-link/objects365/train/patch50', '/data_ssd/llava-onevision-data-symbolic-link/objects365/train/patch49', '/data_ssd/llava-onevision-data-symbolic-link/objects365/train/patch33']\n"
     ]
    }
   ],
   "source": [
    "# シンボリックリンクの作成\n",
    "dst_dir = \"/data_ssd/llava-onevision-data-symbolic-link/objects365/train\" #\"/data_ssd/llava-onevision-data-symbolic-link\"\n",
    "dst_dir_path_list = []\n",
    "for i in src_dir_list:\n",
    "    dst_dir_path = os.path.join(dst_dir, i)\n",
    "    dst_dir_path_list.append(dst_dir_path)\n",
    "    \n",
    "print(dst_dir_path_list)"
   ]
  },
  {
   "cell_type": "code",
   "execution_count": 5,
   "id": "62b5d997",
   "metadata": {},
   "outputs": [
    {
     "name": "stdout",
     "output_type": "stream",
     "text": [
      "Created symlink: /data_ssd/llava-onevision-data-symbolic-link/objects365/train/patch8 -> /data_ssd/object365/raw_data/images/train/patch8/patch8\n",
      "Created symlink: /data_ssd/llava-onevision-data-symbolic-link/objects365/train/patch4 -> /data_ssd/object365/raw_data/images/train/patch4/patch4\n",
      "Created symlink: /data_ssd/llava-onevision-data-symbolic-link/objects365/train/patch14 -> /data_ssd/object365/raw_data/images/train/patch14/patch14\n",
      "Created symlink: /data_ssd/llava-onevision-data-symbolic-link/objects365/train/patch12 -> /data_ssd/object365/raw_data/images/train/patch12/patch12\n",
      "Created symlink: /data_ssd/llava-onevision-data-symbolic-link/objects365/train/patch2 -> /data_ssd/object365/raw_data/images/train/patch2/patch2\n",
      "Created symlink: /data_ssd/llava-onevision-data-symbolic-link/objects365/train/patch6 -> /data_ssd/object365/raw_data/images/train/patch6/patch6\n",
      "Created symlink: /data_ssd/llava-onevision-data-symbolic-link/objects365/train/patch20 -> /data_ssd/object365/raw_data/images/train/patch20/patch20\n",
      "Created symlink: /data_ssd/llava-onevision-data-symbolic-link/objects365/train/patch26 -> /data_ssd/object365/raw_data/images/train/patch26/patch26\n",
      "Created symlink: /data_ssd/llava-onevision-data-symbolic-link/objects365/train/patch10 -> /data_ssd/object365/raw_data/images/train/patch10/patch10\n",
      "Created symlink: /data_ssd/llava-onevision-data-symbolic-link/objects365/train/patch0 -> /data_ssd/object365/raw_data/images/train/patch0/patch0\n",
      "Created symlink: /data_ssd/llava-onevision-data-symbolic-link/objects365/train/patch29 -> /data_ssd/object365/raw_data/images/train/patch29/patch29\n",
      "Created symlink: /data_ssd/llava-onevision-data-symbolic-link/objects365/train/patch32 -> /data_ssd/object365/raw_data/images/train/patch32/patch32\n",
      "Created symlink: /data_ssd/llava-onevision-data-symbolic-link/objects365/train/patch13 -> /data_ssd/object365/raw_data/images/train/patch13/patch13\n",
      "Created symlink: /data_ssd/llava-onevision-data-symbolic-link/objects365/train/patch38 -> /data_ssd/object365/raw_data/images/train/patch38/patch38\n",
      "Created symlink: /data_ssd/llava-onevision-data-symbolic-link/objects365/train/patch42 -> /data_ssd/object365/raw_data/images/train/patch42/patch42\n",
      "Created symlink: /data_ssd/llava-onevision-data-symbolic-link/objects365/train/patch15 -> /data_ssd/object365/raw_data/images/train/patch15/patch15\n",
      "Created symlink: /data_ssd/llava-onevision-data-symbolic-link/objects365/train/patch7 -> /data_ssd/object365/raw_data/images/train/patch7/patch7\n",
      "Created symlink: /data_ssd/llava-onevision-data-symbolic-link/objects365/train/patch43 -> /data_ssd/object365/raw_data/images/train/patch43/patch43\n",
      "Created symlink: /data_ssd/llava-onevision-data-symbolic-link/objects365/train/patch5 -> /data_ssd/object365/raw_data/images/train/patch5/patch5\n",
      "Created symlink: /data_ssd/llava-onevision-data-symbolic-link/objects365/train/patch47 -> /data_ssd/object365/raw_data/images/train/patch47/patch47\n",
      "Created symlink: /data_ssd/llava-onevision-data-symbolic-link/objects365/train/patch11 -> /data_ssd/object365/raw_data/images/train/patch11/patch11\n",
      "Created symlink: /data_ssd/llava-onevision-data-symbolic-link/objects365/train/patch1 -> /data_ssd/object365/raw_data/images/train/patch1/patch1\n",
      "Created symlink: /data_ssd/llava-onevision-data-symbolic-link/objects365/train/patch9 -> /data_ssd/object365/raw_data/images/train/patch9/patch9\n",
      "Created symlink: /data_ssd/llava-onevision-data-symbolic-link/objects365/train/patch3 -> /data_ssd/object365/raw_data/images/train/patch3/patch3\n",
      "Created symlink: /data_ssd/llava-onevision-data-symbolic-link/objects365/train/patch16 -> /data_ssd/object365/raw_data/images/train/patch16/patch16\n",
      "Created symlink: /data_ssd/llava-onevision-data-symbolic-link/objects365/train/patch18 -> /data_ssd/object365/raw_data/images/train/patch18/patch18\n",
      "Created symlink: /data_ssd/llava-onevision-data-symbolic-link/objects365/train/patch22 -> /data_ssd/object365/raw_data/images/train/patch22/patch22\n",
      "Created symlink: /data_ssd/llava-onevision-data-symbolic-link/objects365/train/patch24 -> /data_ssd/object365/raw_data/images/train/patch24/patch24\n",
      "Created symlink: /data_ssd/llava-onevision-data-symbolic-link/objects365/train/patch28 -> /data_ssd/object365/raw_data/images/train/patch28/patch28\n",
      "Created symlink: /data_ssd/llava-onevision-data-symbolic-link/objects365/train/patch30 -> /data_ssd/object365/raw_data/images/train/patch30/patch30\n",
      "Created symlink: /data_ssd/llava-onevision-data-symbolic-link/objects365/train/patch25 -> /data_ssd/object365/raw_data/images/train/patch25/patch25\n",
      "Created symlink: /data_ssd/llava-onevision-data-symbolic-link/objects365/train/patch19 -> /data_ssd/object365/raw_data/images/train/patch19/patch19\n",
      "Created symlink: /data_ssd/llava-onevision-data-symbolic-link/objects365/train/patch17 -> /data_ssd/object365/raw_data/images/train/patch17/patch17\n",
      "Created symlink: /data_ssd/llava-onevision-data-symbolic-link/objects365/train/patch21 -> /data_ssd/object365/raw_data/images/train/patch21/patch21\n",
      "Created symlink: /data_ssd/llava-onevision-data-symbolic-link/objects365/train/patch27 -> /data_ssd/object365/raw_data/images/train/patch27/patch27\n",
      "Created symlink: /data_ssd/llava-onevision-data-symbolic-link/objects365/train/patch23 -> /data_ssd/object365/raw_data/images/train/patch23/patch23\n",
      "Created symlink: /data_ssd/llava-onevision-data-symbolic-link/objects365/train/patch31 -> /data_ssd/object365/raw_data/images/train/patch31/patch31\n",
      "Created symlink: /data_ssd/llava-onevision-data-symbolic-link/objects365/train/patch34 -> /data_ssd/object365/raw_data/images/train/patch34/patch34\n",
      "Created symlink: /data_ssd/llava-onevision-data-symbolic-link/objects365/train/patch36 -> /data_ssd/object365/raw_data/images/train/patch36/patch36\n",
      "Created symlink: /data_ssd/llava-onevision-data-symbolic-link/objects365/train/patch40 -> /data_ssd/object365/raw_data/images/train/patch40/patch40\n",
      "Created symlink: /data_ssd/llava-onevision-data-symbolic-link/objects365/train/patch44 -> /data_ssd/object365/raw_data/images/train/patch44/patch44\n",
      "Created symlink: /data_ssd/llava-onevision-data-symbolic-link/objects365/train/patch46 -> /data_ssd/object365/raw_data/images/train/patch46/patch46\n",
      "Created symlink: /data_ssd/llava-onevision-data-symbolic-link/objects365/train/patch41 -> /data_ssd/object365/raw_data/images/train/patch41/patch41\n",
      "Created symlink: /data_ssd/llava-onevision-data-symbolic-link/objects365/train/patch37 -> /data_ssd/object365/raw_data/images/train/patch37/patch37\n",
      "Created symlink: /data_ssd/llava-onevision-data-symbolic-link/objects365/train/patch39 -> /data_ssd/object365/raw_data/images/train/patch39/patch39\n",
      "Created symlink: /data_ssd/llava-onevision-data-symbolic-link/objects365/train/patch45 -> /data_ssd/object365/raw_data/images/train/patch45/patch45\n",
      "Created symlink: /data_ssd/llava-onevision-data-symbolic-link/objects365/train/patch35 -> /data_ssd/object365/raw_data/images/train/patch35/patch35\n",
      "Created symlink: /data_ssd/llava-onevision-data-symbolic-link/objects365/train/patch48 -> /data_ssd/object365/raw_data/images/train/patch48/patch48\n",
      "Created symlink: /data_ssd/llava-onevision-data-symbolic-link/objects365/train/patch50 -> /data_ssd/object365/raw_data/images/train/patch50/patch50\n",
      "Created symlink: /data_ssd/llava-onevision-data-symbolic-link/objects365/train/patch49 -> /data_ssd/object365/raw_data/images/train/patch49/patch49\n",
      "Created symlink: /data_ssd/llava-onevision-data-symbolic-link/objects365/train/patch33 -> /data_ssd/object365/raw_data/images/train/patch33/patch33\n"
     ]
    }
   ],
   "source": [
    "# シンボリックリンクの作成\n",
    "import pathlib\n",
    "for src, dst in zip(src_dir_path_list, dst_dir_path_list):\n",
    "    os.makedirs(os.path.dirname(dst), exist_ok=True)  # Create the destination directory if it doesn't exist\n",
    "    try:\n",
    "        os.symlink(src, dst)\n",
    "        print(f\"Created symlink: {dst} -> {src}\")\n",
    "    except FileExistsError:\n",
    "        print(f\"Symlink already exists: {dst}\")\n",
    "        pathlib.Path(dst).unlink()  # Remove the existing symlink"
   ]
  },
  {
   "cell_type": "code",
   "execution_count": null,
   "id": "121ca0f2",
   "metadata": {},
   "outputs": [],
   "source": []
  }
 ],
 "metadata": {
  "kernelspec": {
   "display_name": ".venv",
   "language": "python",
   "name": "python3"
  },
  "language_info": {
   "codemirror_mode": {
    "name": "ipython",
    "version": 3
   },
   "file_extension": ".py",
   "mimetype": "text/x-python",
   "name": "python",
   "nbconvert_exporter": "python",
   "pygments_lexer": "ipython3",
   "version": "3.12.10"
  }
 },
 "nbformat": 4,
 "nbformat_minor": 5
}
