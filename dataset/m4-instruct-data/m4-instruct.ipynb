{
 "cells": [
  {
   "cell_type": "code",
   "execution_count": 1,
   "id": "ee6da7c7",
   "metadata": {},
   "outputs": [],
   "source": [
    "import json\n",
    "\n",
    "def load_json(file_path):\n",
    "    \"\"\"\n",
    "    Load a JSON file and return its content as a Python dictionary.\n",
    "\n",
    "    Parameters:\n",
    "        file_path (str): The path to the JSON file.\n",
    "\n",
    "    Returns:\n",
    "        dict: The content of the JSON file as a dictionary.\n",
    "    \"\"\"\n",
    "    with open(file_path, 'r', encoding='utf-8') as file:\n",
    "        data = json.load(file)\n",
    "    return data"
   ]
  },
  {
   "cell_type": "code",
   "execution_count": 2,
   "id": "3e73a8ee",
   "metadata": {},
   "outputs": [],
   "source": [
    "path = \"/home/omote/local-share-data_ssd/huggingface_dataset/lmms-lab/M4-Instruct-Data/m4_instruct_annotations.json\"\n",
    "data = load_json(path)"
   ]
  },
  {
   "cell_type": "code",
   "execution_count": 3,
   "id": "7328131c",
   "metadata": {},
   "outputs": [
    {
     "name": "stdout",
     "output_type": "stream",
     "text": [
      "615814\n"
     ]
    }
   ],
   "source": [
    "print(len(data))"
   ]
  },
  {
   "cell_type": "code",
   "execution_count": 4,
   "id": "c0842078",
   "metadata": {},
   "outputs": [],
   "source": [
    "def display_dict_keys_and_items(dictionary):\n",
    "    \"\"\"\n",
    "    Display the keys and items of a dictionary.\n",
    "\n",
    "    Parameters:\n",
    "        dictionary (dict): The dictionary to display.\n",
    "\n",
    "    Returns:\n",
    "        None\n",
    "    \"\"\"\n",
    "    for key, value in dictionary.items():\n",
    "        print(f\"Key: {key}, Value: {value}\")\n",
    "        \n"
   ]
  },
  {
   "cell_type": "code",
   "execution_count": 5,
   "id": "db44899e",
   "metadata": {},
   "outputs": [
    {
     "name": "stdout",
     "output_type": "stream",
     "text": [
      "Key: sample_id, Value: 5390\n",
      "Key: conversations, Value: [{'from': 'human', 'value': \"<image><image>\\nWhat's the detailed difference between the 2 images? Please list in detail.\"}, {'from': 'gpt', 'value': 'The differences between the two images are:\\n\\n1. In the second image, there are leaves falling from the sunflowers and the surrounding foliage.\\n2. The ground in the second image is covered with a layer of fallen leaves, adding a carpet-like appearance.'}]\n",
      "Key: image, Value: ['HQ-Edit/images/83425.jpg', 'HQ-Edit/images/83426.jpg']\n",
      "Key: choice_list, Value: None\n",
      "Key: metadata, Value: {'dataset': 'HQ-Edit-Diff', 'split': 'train', 'num_sample': 98675, 'task_instruction': \"What's the difference between 2 images?\", 'question_type': 'open-ended'}\n"
     ]
    }
   ],
   "source": [
    "display_dict_keys_and_items(data[0])"
   ]
  },
  {
   "cell_type": "code",
   "execution_count": 6,
   "id": "18bba1a9",
   "metadata": {},
   "outputs": [
    {
     "name": "stderr",
     "output_type": "stream",
     "text": [
      "  0%|          | 140/601614 [00:00<14:22, 697.65it/s]"
     ]
    },
    {
     "name": "stderr",
     "output_type": "stream",
     "text": [
      "100%|██████████| 601614/601614 [06:06<00:00, 1639.34it/s] \n"
     ]
    }
   ],
   "source": [
    "import os\n",
    "from tqdm import tqdm\n",
    "image_root_dir = \"/home/omote/local-share-data_ssd/huggingface_dataset/lmms-lab/M4-Instruct-Data\"\n",
    "\n",
    "break_flag = False\n",
    "chcek_data = data[14200:]\n",
    "for d in tqdm(chcek_data):\n",
    "    if type(d[\"image\"]) == str:\n",
    "        image_path_list = [d[\"image\"]]\n",
    "    elif type(d[\"image\"]) == list:\n",
    "        image_path_list = d[\"image\"]\n",
    "        \n",
    "    for image_path in image_path_list:\n",
    "        dataset_name = image_path.split(\"/\")[0]\n",
    "        image_name = image_path[len(dataset_name)+1:]\n",
    "        image_path = os.path.join(image_root_dir,dataset_name,dataset_name,image_name)\n",
    "        if not os.path.exists(image_path):\n",
    "            print(f\"Image path does not exist: {image_path}\")\n",
    "            break_flag = True\n",
    "            break\n",
    "    if break_flag:\n",
    "        break\n",
    " "
   ]
  },
  {
   "cell_type": "code",
   "execution_count": null,
   "id": "2feb7544",
   "metadata": {},
   "outputs": [],
   "source": []
  }
 ],
 "metadata": {
  "kernelspec": {
   "display_name": ".venv",
   "language": "python",
   "name": "python3"
  },
  "language_info": {
   "codemirror_mode": {
    "name": "ipython",
    "version": 3
   },
   "file_extension": ".py",
   "mimetype": "text/x-python",
   "name": "python",
   "nbconvert_exporter": "python",
   "pygments_lexer": "ipython3",
   "version": "3.12.10"
  }
 },
 "nbformat": 4,
 "nbformat_minor": 5
}
