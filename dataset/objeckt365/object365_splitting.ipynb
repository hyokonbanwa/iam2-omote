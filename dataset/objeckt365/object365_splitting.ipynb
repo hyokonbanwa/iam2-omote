{
 "cells": [
  {
   "cell_type": "code",
   "execution_count": 1,
   "id": "3d7b061c",
   "metadata": {},
   "outputs": [],
   "source": [
    "import json\n",
    "\n",
    "def load_json(file_path):\n",
    "    \"\"\"\n",
    "    Load a JSON file and return its content as a Python dictionary.\n",
    "\n",
    "    Parameters:\n",
    "        file_path (str): The path to the JSON file.\n",
    "\n",
    "    Returns:\n",
    "        dict: The content of the JSON file as a dictionary.\n",
    "    \"\"\"\n",
    "    with open(file_path, 'r', encoding='utf-8') as file:\n",
    "        data = json.load(file)\n",
    "    return data\n",
    "def save_json(data, file_path):\n",
    "    \"\"\"\n",
    "    Save a Python dictionary to a JSON file.\n",
    "\n",
    "    Parameters:\n",
    "        data (dict): The data to save.\n",
    "        file_path (str): The path where the JSON file will be saved.\n",
    "    \"\"\"\n",
    "    with open(file_path, 'w', encoding='utf-8') as file:\n",
    "        json.dump(data, file, ensure_ascii=False, indent=4)"
   ]
  },
  {
   "cell_type": "code",
   "execution_count": 2,
   "id": "014b12f3",
   "metadata": {},
   "outputs": [],
   "source": [
    "json_path = \"/data_ssd/object365/object365_train_conversation_exist_image.json\"\n",
    "json_data = load_json(json_path)"
   ]
  },
  {
   "cell_type": "code",
   "execution_count": 3,
   "id": "a7199648",
   "metadata": {},
   "outputs": [
    {
     "name": "stdout",
     "output_type": "stream",
     "text": [
      "1742289\n"
     ]
    }
   ],
   "source": [
    "print(len(json_data))"
   ]
  },
  {
   "cell_type": "code",
   "execution_count": 4,
   "id": "eaf06905",
   "metadata": {},
   "outputs": [
    {
     "name": "stdout",
     "output_type": "stream",
     "text": [
      "for_detection_num: 871144\n",
      "for_counting_num: 871145\n"
     ]
    }
   ],
   "source": [
    "import random\n",
    "from sklearn.model_selection import train_test_split\n",
    "import numpy as np\n",
    "\n",
    "random.seed(42)\n",
    "np.random.seed(42)\n",
    "\n",
    "for_detection_num = len(json_data) // 2\n",
    "for_counting_num = len(json_data) - for_detection_num\n",
    "print(\"for_detection_num:\", for_detection_num)\n",
    "print(\"for_counting_num:\", for_counting_num)"
   ]
  },
  {
   "cell_type": "code",
   "execution_count": 5,
   "id": "8e6f9c0c",
   "metadata": {},
   "outputs": [],
   "source": [
    "detection_dataset, counting_dataset = train_test_split(    json_data,\n",
    "    test_size=for_counting_num,)"
   ]
  },
  {
   "cell_type": "code",
   "execution_count": 6,
   "id": "8939a66e",
   "metadata": {},
   "outputs": [
    {
     "name": "stdout",
     "output_type": "stream",
     "text": [
      "len(detection_dataset): 871144\n",
      "len(counting_dataset): 871145\n"
     ]
    }
   ],
   "source": [
    "print(f\"len(detection_dataset): {len(detection_dataset)}\")\n",
    "print(f\"len(counting_dataset): {len(counting_dataset)}\")"
   ]
  },
  {
   "cell_type": "code",
   "execution_count": 7,
   "id": "0b62b078",
   "metadata": {},
   "outputs": [],
   "source": [
    "detection_json_path = \"/data_ssd/object365/detection_object365_for_llava-onevision.json\"\n",
    "counting_json_path = \"/data_ssd/object365/counting_object365_for_llava-onevision.json\"\n",
    "save_json(detection_dataset, detection_json_path)\n",
    "save_json(counting_dataset, counting_json_path)"
   ]
  },
  {
   "cell_type": "code",
   "execution_count": 8,
   "id": "62a8e351",
   "metadata": {},
   "outputs": [
    {
     "name": "stdout",
     "output_type": "stream",
     "text": [
      "Loaded detection dataset length: 871144\n",
      "Loaded counting dataset length: 871145\n"
     ]
    }
   ],
   "source": [
    "detection_loaded_data = load_json(detection_json_path)\n",
    "counting_loaded_data = load_json(counting_json_path)\n",
    "\n",
    "print(f\"Loaded detection dataset length: {len(detection_loaded_data)}\")\n",
    "print(f\"Loaded counting dataset length: {len(counting_loaded_data)}\")"
   ]
  },
  {
   "cell_type": "code",
   "execution_count": 9,
   "id": "ee0afad0",
   "metadata": {},
   "outputs": [
    {
     "name": "stdout",
     "output_type": "stream",
     "text": [
      "{'id': '82adbac3-1246-4eb8-85d9-206418cd3c86', 'image': 'objects365/train/patch23/objects365_v2_01190195.jpg', 'conversations': [{'from': 'human', 'value': '<image>\\nPlease output bbox coordinates and names of every item in this image.'}, {'from': 'gpt', 'value': 'Pickup Truck: [0.000,0.397,0.282,0.682]\\nCar: [0.380,0.518,0.559,0.717]\\nSUV: [0.474,0.460,0.543,0.542]\\nSUV: [0.381,0.431,0.460,0.514]\\nTraffic Light: [0.533,0.354,0.541,0.377]\\nTraffic Light: [0.486,0.342,0.494,0.371]\\nCar: [0.637,0.480,0.681,0.506]\\nTraffic Light: [0.641,0.331,0.649,0.356]\\nStreet Lights: [0.543,0.324,0.580,0.480]\\nCar: [0.359,0.428,0.395,0.457]\\nTraffic Light: [0.302,0.394,0.306,0.411]\\nTraffic Light: [0.208,0.296,0.217,0.330]\\nCar: [0.598,0.450,0.621,0.466]\\nTraffic Light: [0.667,0.430,0.675,0.451]\\nTraffic Light: [0.655,0.415,0.666,0.449]\\nPickup Truck: [0.744,0.513,0.989,0.803]\\nCar: [0.956,0.499,1.000,0.523]\\nCar: [0.461,0.429,0.496,0.475]\\nCar: [0.499,0.441,0.540,0.459]\\nCar: [0.516,0.454,0.538,0.479]\\nPerson: [0.265,0.423,0.272,0.453]\\nPerson: [0.378,0.436,0.385,0.456]\\nPerson: [0.604,0.465,0.614,0.507]\\nPerson: [0.615,0.465,0.625,0.508]\\nChair: [0.494,0.555,0.522,0.588]\\nChair: [0.437,0.544,0.465,0.577]\\nChair: [0.148,0.438,0.166,0.482]\\nHandbag/Satchel: [0.615,0.486,0.620,0.493]'}]}\n"
     ]
    }
   ],
   "source": [
    "print(detection_loaded_data[0])"
   ]
  },
  {
   "cell_type": "code",
   "execution_count": null,
   "id": "6312a461",
   "metadata": {},
   "outputs": [
    {
     "name": "stdout",
     "output_type": "stream",
     "text": [
      "[0 1 2 3 4 5 6 7 8 9]\n",
      "[array([1, 3, 7, 9, 0, 5, 2]), array([6, 4, 8])]\n",
      "<class 'list'>\n",
      "2\n"
     ]
    }
   ],
   "source": [
    "import numpy as np\n",
    "\n",
    "\n",
    "a = np.arange(10)\n",
    "print(a)\n",
    "# [0 1 2 3 4 5 6 7 8 9]\n",
    "\n",
    "print(train_test_split(a))\n",
    "# [array([3, 9, 6, 1, 5, 0, 7]), array([2, 8, 4])]\n",
    "\n",
    "print(type(train_test_split(a)))\n",
    "# <class 'list'>\n",
    "\n",
    "print(len(train_test_split(a)))"
   ]
  },
  {
   "cell_type": "code",
   "execution_count": null,
   "id": "6638cb11",
   "metadata": {},
   "outputs": [],
   "source": []
  }
 ],
 "metadata": {
  "kernelspec": {
   "display_name": ".venv",
   "language": "python",
   "name": "python3"
  },
  "language_info": {
   "codemirror_mode": {
    "name": "ipython",
    "version": 3
   },
   "file_extension": ".py",
   "mimetype": "text/x-python",
   "name": "python",
   "nbconvert_exporter": "python",
   "pygments_lexer": "ipython3",
   "version": "3.12.10"
  }
 },
 "nbformat": 4,
 "nbformat_minor": 5
}
