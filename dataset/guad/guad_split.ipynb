{
 "cells": [
  {
   "cell_type": "code",
   "execution_count": 2,
   "id": "b7f9ae78",
   "metadata": {},
   "outputs": [],
   "source": [
    "import json\n",
    "\n",
    "def save_json(file_path, data):\n",
    "    \"\"\"\n",
    "    Save data to a JSON file.\n",
    "\n",
    "    Args:\n",
    "        file_path (str): Path to the JSON file.\n",
    "        data (dict): Data to save.\n",
    "    \"\"\"\n",
    "    with open(file_path, 'w') as f:\n",
    "        json.dump(data, f, indent=4)\n",
    "\n",
    "def load_json(file_path):\n",
    "    \"\"\"\n",
    "    Load data from a JSON file.\n",
    "\n",
    "    Args:\n",
    "        file_path (str): Path to the JSON file.\n",
    "\n",
    "    Returns:\n",
    "        dict: Data loaded from the file.\n",
    "    \"\"\"\n",
    "    with open(file_path, 'r') as f:\n",
    "        return json.load(f)\n"
   ]
  },
  {
   "cell_type": "code",
   "execution_count": 3,
   "id": "a8adf0b9",
   "metadata": {},
   "outputs": [
    {
     "name": "stdout",
     "output_type": "stream",
     "text": [
      "/data_ssd/GUAD/llava_anomaly_detection_single_train.json\n"
     ]
    }
   ],
   "source": [
    "guad_data_path = \"/data_ssd/GUAD/llava_anomaly_detection_single.json\"\n",
    "print(f\"{guad_data_path.split(\".\")[0]}_train.json\")\n",
    "guad_data = load_json(guad_data_path)"
   ]
  },
  {
   "cell_type": "code",
   "execution_count": 4,
   "id": "0abefa4a",
   "metadata": {},
   "outputs": [
    {
     "name": "stdout",
     "output_type": "stream",
     "text": [
      "16330\n"
     ]
    }
   ],
   "source": [
    "print(len(guad_data))"
   ]
  },
  {
   "cell_type": "code",
   "execution_count": 5,
   "id": "f0acd04a",
   "metadata": {},
   "outputs": [
    {
     "name": "stdout",
     "output_type": "stream",
     "text": [
      "Train: 9798, Val: 3266, Test: 3266\n"
     ]
    }
   ],
   "source": [
    "import numpy as np\n",
    "\n",
    "num_all = len(guad_data)\n",
    "num_train = int(num_all * 0.6)\n",
    "num_test = int(num_all * 0.2)\n",
    "num_val = num_all - num_train - num_test\n",
    "\n",
    "id_all   = np.random.choice(num_all, num_all, replace=False)\n",
    "id_train = id_all[:num_train]\n",
    "id_val   = id_all[num_train:num_train + num_val]\n",
    "id_test  = id_all[num_train + num_val:]\n",
    "\n",
    "guad_train = [guad_data[i] for i in id_train]\n",
    "guad_val = [guad_data[i] for i in id_val]\n",
    "guad_test = [guad_data[i] for i in id_test]\n",
    "\n",
    "print(f\"Train: {len(guad_train)}, Val: {len(guad_val)}, Test: {len(guad_test)}\")\n",
    "\n",
    "assert len(guad_train) + len(guad_val) + len(guad_test) == num_all\n"
   ]
  },
  {
   "cell_type": "code",
   "execution_count": 6,
   "id": "bbd25d03",
   "metadata": {},
   "outputs": [
    {
     "name": "stdout",
     "output_type": "stream",
     "text": [
      "16330\n"
     ]
    }
   ],
   "source": [
    "print(len(np.unique(id_all)))"
   ]
  },
  {
   "cell_type": "code",
   "execution_count": null,
   "id": "5cf7b3f0",
   "metadata": {},
   "outputs": [],
   "source": []
  },
  {
   "cell_type": "code",
   "execution_count": 7,
   "id": "a64fb07e",
   "metadata": {},
   "outputs": [
    {
     "name": "stdout",
     "output_type": "stream",
     "text": [
      "Train: 9798, Val: 3266, Test: 3266\n"
     ]
    }
   ],
   "source": [
    "save_json(f\"{guad_data_path.split(\".\")[0]}_train.json\", guad_train)\n",
    "save_json(f\"{guad_data_path.split(\".\")[0]}_val.json\", guad_val)\n",
    "save_json(f\"{guad_data_path.split(\".\")[0]}_test.json\", guad_test)\n",
    "print(f\"Train: {len(guad_train)}, Val: {len(guad_val)}, Test: {len(guad_test)}\")"
   ]
  },
  {
   "cell_type": "code",
   "execution_count": null,
   "id": "b400d7f4",
   "metadata": {},
   "outputs": [
    {
     "name": "stdout",
     "output_type": "stream",
     "text": [
      "16330\n"
     ]
    }
   ],
   "source": []
  },
  {
   "cell_type": "code",
   "execution_count": null,
   "id": "df045ea6",
   "metadata": {},
   "outputs": [],
   "source": []
  }
 ],
 "metadata": {
  "kernelspec": {
   "display_name": ".venv",
   "language": "python",
   "name": "python3"
  },
  "language_info": {
   "codemirror_mode": {
    "name": "ipython",
    "version": 3
   },
   "file_extension": ".py",
   "mimetype": "text/x-python",
   "name": "python",
   "nbconvert_exporter": "python",
   "pygments_lexer": "ipython3",
   "version": "3.12.10"
  }
 },
 "nbformat": 4,
 "nbformat_minor": 5
}
