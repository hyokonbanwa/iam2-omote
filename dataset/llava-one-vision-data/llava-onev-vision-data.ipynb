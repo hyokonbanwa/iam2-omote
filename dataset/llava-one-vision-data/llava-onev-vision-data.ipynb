{
 "cells": [
  {
   "cell_type": "code",
   "execution_count": 1,
   "id": "c0b558d5",
   "metadata": {},
   "outputs": [
    {
     "name": "stderr",
     "output_type": "stream",
     "text": [
      "/home/omote/cluster_project/iam2/.venv/lib/python3.12/site-packages/tqdm/auto.py:21: TqdmWarning: IProgress not found. Please update jupyter and ipywidgets. See https://ipywidgets.readthedocs.io/en/stable/user_install.html\n",
      "  from .autonotebook import tqdm as notebook_tqdm\n"
     ]
    }
   ],
   "source": [
    "from datasets import load_dataset\n",
    "import os\n",
    "\n",
    "\n"
   ]
  },
  {
   "cell_type": "code",
   "execution_count": 3,
   "id": "fc4102b1",
   "metadata": {},
   "outputs": [
    {
     "name": "stderr",
     "output_type": "stream",
     "text": [
      "Generating train split: 25104 examples [00:07, 3472.45 examples/s]\n"
     ]
    }
   ],
   "source": [
    "dataset_root_dir = \"/home/omote/local-share-data_ssd/huggingface_dataset\"\n",
    "cache_dir = \"/home/omote/local-share-data_ssd/huggingface_cache\"\n",
    "\n",
    "dataset_id = os.path.join(dataset_root_dir,\"jxu124/refcoco\")\n",
    "\n",
    "dataset = load_dataset(\"lmms-lab/LLaVA-OneVision-Data\", cache_dir=cache_dir,data_dir=\"textocr(gpt4v)\")"
   ]
  },
  {
   "cell_type": "code",
   "execution_count": 6,
   "id": "2d2ff673",
   "metadata": {},
   "outputs": [
    {
     "name": "stdout",
     "output_type": "stream",
     "text": [
      "train_dataset: Dataset({\n",
      "    features: ['id', 'image', 'conversations', 'data_source'],\n",
      "    num_rows: 25104\n",
      "})\n",
      "id: 1b96a7e70cf75b79\n",
      "image: <PIL.JpegImagePlugin.JpegImageFile image mode=RGB size=1024x841 at 0x14E822FD5CD0>\n",
      "conversations: [{'from': 'human', 'value': '<image>\\nDescribe this image in detail.'}, {'from': 'gpt', 'value': 'The image showcases a breathtaking landscape with a towering mountain under a vibrant blue sky dotted with clouds, a tranquil body of water, and patches of colorful land. Overlaying the scenic view is a biblical quote from Psalm 119:96 in the N.I.V. version, reading \"To all perfection I see a limit but your commands are boundless.\" In the lower left corner, the photographer\\'s credit, \"Tito Balangue Photography - 2011,\" is displayed, while the lower right corner indicates the photo\\'s subject as \"Landscape Photo - Lao P.D.R.\"'}]\n",
      "data_source: textocr(gpt4v)\n"
     ]
    }
   ],
   "source": [
    "train_dataset = dataset[\"train\"]\n",
    "print(\"train_dataset:\", train_dataset)\n",
    "\n",
    "train_data = train_dataset[0]\n",
    "\n",
    "for key, value in train_data.items():\n",
    "    print(f\"{key}: {value}\")"
   ]
  },
  {
   "cell_type": "code",
   "execution_count": null,
   "id": "c2598eac",
   "metadata": {},
   "outputs": [],
   "source": []
  }
 ],
 "metadata": {
  "kernelspec": {
   "display_name": ".venv",
   "language": "python",
   "name": "python3"
  },
  "language_info": {
   "codemirror_mode": {
    "name": "ipython",
    "version": 3
   },
   "file_extension": ".py",
   "mimetype": "text/x-python",
   "name": "python",
   "nbconvert_exporter": "python",
   "pygments_lexer": "ipython3",
   "version": "3.12.10"
  }
 },
 "nbformat": 4,
 "nbformat_minor": 5
}
