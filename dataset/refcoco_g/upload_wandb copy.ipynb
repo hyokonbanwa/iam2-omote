{
 "cells": [
  {
   "cell_type": "code",
   "execution_count": 6,
   "id": "352559d2",
   "metadata": {},
   "outputs": [],
   "source": [
    "import os\n",
    "import json\n",
    "import shutil"
   ]
  },
  {
   "cell_type": "code",
   "execution_count": 10,
   "id": "f4ff714e",
   "metadata": {},
   "outputs": [],
   "source": [
    "target_json = \"/data_ssd/refcoco_g/refcoco_g_paligemma_test.json\"\n",
    "image_root = \"/data_ssd/\""
   ]
  },
  {
   "cell_type": "code",
   "execution_count": 3,
   "id": "2db96df9",
   "metadata": {},
   "outputs": [],
   "source": [
    "wandb_dataset_path = \"/data_ssd/USER_DATA/omote/wandb_dataset/refcocog_test\"\n",
    "if not os.path.exists(wandb_dataset_path):\n",
    "    os.makedirs(wandb_dataset_path)"
   ]
  },
  {
   "cell_type": "code",
   "execution_count": 4,
   "id": "a97ca922",
   "metadata": {},
   "outputs": [
    {
     "name": "stdout",
     "output_type": "stream",
     "text": [
      "9602\n"
     ]
    }
   ],
   "source": [
    "json_data = json.load(open(target_json, 'r'))\n",
    "print(len(json_data))"
   ]
  },
  {
   "cell_type": "code",
   "execution_count": 5,
   "id": "0384245a",
   "metadata": {},
   "outputs": [
    {
     "name": "stdout",
     "output_type": "stream",
     "text": [
      "dict_keys(['id', 'image', 'conversations', 'gt_entities_quantized_normalized', 'gt_entities_normalized', 'image_width_height', 'ann_id'])\n"
     ]
    }
   ],
   "source": [
    "print(json_data[0].keys())"
   ]
  },
  {
   "cell_type": "code",
   "execution_count": 13,
   "id": "84e70207",
   "metadata": {},
   "outputs": [],
   "source": [
    "import tqdm"
   ]
  },
  {
   "cell_type": "code",
   "execution_count": 14,
   "id": "a9a4e0e1",
   "metadata": {},
   "outputs": [
    {
     "name": "stderr",
     "output_type": "stream",
     "text": [
      "  0%|          | 0/9602 [00:00<?, ?it/s]"
     ]
    },
    {
     "name": "stderr",
     "output_type": "stream",
     "text": [
      "100%|██████████| 9602/9602 [00:18<00:00, 510.41it/s]\n"
     ]
    }
   ],
   "source": [
    "for d in tqdm.tqdm(json_data):\n",
    "    img_path = os.path.join(image_root, d['image'])\n",
    "    shutil.copy(img_path, wandb_dataset_path)"
   ]
  },
  {
   "cell_type": "code",
   "execution_count": 15,
   "id": "bae3f3a4",
   "metadata": {},
   "outputs": [
    {
     "name": "stderr",
     "output_type": "stream",
     "text": [
      "\u001b[34m\u001b[1mwandb\u001b[0m: Currently logged in as: \u001b[33momote-hideaki-s8\u001b[0m (\u001b[33mkatlab-gifu\u001b[0m) to \u001b[32mhttps://api.wandb.ai\u001b[0m. Use \u001b[1m`wandb login --relogin`\u001b[0m to force relogin\n"
     ]
    },
    {
     "data": {
      "text/html": [
       "Tracking run with wandb version 0.20.1"
      ],
      "text/plain": [
       "<IPython.core.display.HTML object>"
      ]
     },
     "metadata": {},
     "output_type": "display_data"
    },
    {
     "data": {
      "text/html": [
       "Run data is saved locally in <code>/home/omote/cluster_project/iam2/dataset/refcoco_g/wandb/run-20251015_125604-3fmycms0</code>"
      ],
      "text/plain": [
       "<IPython.core.display.HTML object>"
      ]
     },
     "metadata": {},
     "output_type": "display_data"
    },
    {
     "data": {
      "text/html": [
       "Syncing run <strong><a href='https://wandb.ai/katlab-gifu/dataset/runs/3fmycms0' target=\"_blank\">stellar-elevator-1</a></strong> to <a href='https://wandb.ai/katlab-gifu/dataset' target=\"_blank\">Weights & Biases</a> (<a href='https://wandb.me/developer-guide' target=\"_blank\">docs</a>)<br>"
      ],
      "text/plain": [
       "<IPython.core.display.HTML object>"
      ]
     },
     "metadata": {},
     "output_type": "display_data"
    },
    {
     "data": {
      "text/html": [
       " View project at <a href='https://wandb.ai/katlab-gifu/dataset' target=\"_blank\">https://wandb.ai/katlab-gifu/dataset</a>"
      ],
      "text/plain": [
       "<IPython.core.display.HTML object>"
      ]
     },
     "metadata": {},
     "output_type": "display_data"
    },
    {
     "data": {
      "text/html": [
       " View run at <a href='https://wandb.ai/katlab-gifu/dataset/runs/3fmycms0' target=\"_blank\">https://wandb.ai/katlab-gifu/dataset/runs/3fmycms0</a>"
      ],
      "text/plain": [
       "<IPython.core.display.HTML object>"
      ]
     },
     "metadata": {},
     "output_type": "display_data"
    },
    {
     "name": "stderr",
     "output_type": "stream",
     "text": [
      "\u001b[34m\u001b[1mwandb\u001b[0m: Adding directory to artifact (/data_ssd/USER_DATA/omote/wandb_dataset/refcocog_test)... Done. 3.9s\n"
     ]
    },
    {
     "data": {
      "text/html": [],
      "text/plain": [
       "<IPython.core.display.HTML object>"
      ]
     },
     "metadata": {},
     "output_type": "display_data"
    },
    {
     "data": {
      "text/html": [
       " View run <strong style=\"color:#cdcd00\">stellar-elevator-1</strong> at: <a href='https://wandb.ai/katlab-gifu/dataset/runs/3fmycms0' target=\"_blank\">https://wandb.ai/katlab-gifu/dataset/runs/3fmycms0</a><br> View project at: <a href='https://wandb.ai/katlab-gifu/dataset' target=\"_blank\">https://wandb.ai/katlab-gifu/dataset</a><br>Synced 5 W&B file(s), 0 media file(s), 2601 artifact file(s) and 0 other file(s)"
      ],
      "text/plain": [
       "<IPython.core.display.HTML object>"
      ]
     },
     "metadata": {},
     "output_type": "display_data"
    },
    {
     "data": {
      "text/html": [
       "Find logs at: <code>./wandb/run-20251015_125604-3fmycms0/logs</code>"
      ],
      "text/plain": [
       "<IPython.core.display.HTML object>"
      ]
     },
     "metadata": {},
     "output_type": "display_data"
    }
   ],
   "source": [
    "# make_image_artifact.py\n",
    "import wandb\n",
    "from pathlib import Path\n",
    "\n",
    "ENTITY = \"katlab-gifu\"\n",
    "PROJECT = \"dataset\"\n",
    "ART_NAME = \"refcocog_test\"          # 例: 画像アーティファクト名\n",
    "IMG_DIR = Path(wandb_dataset_path) # ローカルの画像フォルダ\n",
    "\n",
    "run = wandb.init(entity=ENTITY, project=PROJECT, job_type=\"build_dataset\")\n",
    "\n",
    "art = wandb.Artifact(name=ART_NAME, type=\"dataset\", description=\"refcocog_test images\")\n",
    "# ディレクトリごと追加（中のファイルがアップロードされ、W&B 側に保存されます）\n",
    "art.add_dir(str(IMG_DIR))\n",
    "run.log_artifact(art)\n",
    "run.finish()"
   ]
  },
  {
   "cell_type": "code",
   "execution_count": 16,
   "id": "6caafbf4",
   "metadata": {},
   "outputs": [
    {
     "data": {
      "text/html": [
       "Tracking run with wandb version 0.20.1"
      ],
      "text/plain": [
       "<IPython.core.display.HTML object>"
      ]
     },
     "metadata": {},
     "output_type": "display_data"
    },
    {
     "data": {
      "text/html": [
       "Run data is saved locally in <code>/home/omote/cluster_project/iam2/dataset/refcoco_g/wandb/run-20251015_130126-qbz99n8y</code>"
      ],
      "text/plain": [
       "<IPython.core.display.HTML object>"
      ]
     },
     "metadata": {},
     "output_type": "display_data"
    },
    {
     "data": {
      "text/html": [
       "Syncing run <strong><a href='https://wandb.ai/katlab-gifu/vis_test/runs/qbz99n8y' target=\"_blank\">vis_test_refcocog_test</a></strong> to <a href='https://wandb.ai/katlab-gifu/vis_test' target=\"_blank\">Weights & Biases</a> (<a href='https://wandb.me/developer-guide' target=\"_blank\">docs</a>)<br>"
      ],
      "text/plain": [
       "<IPython.core.display.HTML object>"
      ]
     },
     "metadata": {},
     "output_type": "display_data"
    },
    {
     "data": {
      "text/html": [
       " View project at <a href='https://wandb.ai/katlab-gifu/vis_test' target=\"_blank\">https://wandb.ai/katlab-gifu/vis_test</a>"
      ],
      "text/plain": [
       "<IPython.core.display.HTML object>"
      ]
     },
     "metadata": {},
     "output_type": "display_data"
    },
    {
     "data": {
      "text/html": [
       " View run at <a href='https://wandb.ai/katlab-gifu/vis_test/runs/qbz99n8y' target=\"_blank\">https://wandb.ai/katlab-gifu/vis_test/runs/qbz99n8y</a>"
      ],
      "text/plain": [
       "<IPython.core.display.HTML object>"
      ]
     },
     "metadata": {},
     "output_type": "display_data"
    },
    {
     "data": {
      "text/html": [],
      "text/plain": [
       "<IPython.core.display.HTML object>"
      ]
     },
     "metadata": {},
     "output_type": "display_data"
    },
    {
     "data": {
      "text/html": [
       " View run <strong style=\"color:#cdcd00\">vis_test_refcocog_test</strong> at: <a href='https://wandb.ai/katlab-gifu/vis_test/runs/qbz99n8y' target=\"_blank\">https://wandb.ai/katlab-gifu/vis_test/runs/qbz99n8y</a><br> View project at: <a href='https://wandb.ai/katlab-gifu/vis_test' target=\"_blank\">https://wandb.ai/katlab-gifu/vis_test</a><br>Synced 5 W&B file(s), 0 media file(s), 0 artifact file(s) and 0 other file(s)"
      ],
      "text/plain": [
       "<IPython.core.display.HTML object>"
      ]
     },
     "metadata": {},
     "output_type": "display_data"
    },
    {
     "data": {
      "text/html": [
       "Find logs at: <code>./wandb/run-20251015_130126-qbz99n8y/logs</code>"
      ],
      "text/plain": [
       "<IPython.core.display.HTML object>"
      ]
     },
     "metadata": {},
     "output_type": "display_data"
    }
   ],
   "source": [
    "# make_image_artifact.py\n",
    "import wandb\n",
    "from pathlib import Path\n",
    "\n",
    "ENTITY = \"katlab-gifu\"\n",
    "PROJECT = \"vis_test\"\n",
    "RUN_NAME = \"vis_test_refcocog_test\"          # 例: 画像アーティファクト名\n",
    "IMG_DIR = Path(wandb_dataset_path) # ローカルの画像フォルダ\n",
    "\n",
    "run = wandb.init(entity=ENTITY, project=PROJECT, name=RUN_NAME)\n",
    "run.finish()"
   ]
  },
  {
   "cell_type": "code",
   "execution_count": 17,
   "id": "5158fce6",
   "metadata": {},
   "outputs": [
    {
     "data": {
      "text/html": [
       "Tracking run with wandb version 0.20.1"
      ],
      "text/plain": [
       "<IPython.core.display.HTML object>"
      ]
     },
     "metadata": {},
     "output_type": "display_data"
    },
    {
     "data": {
      "text/html": [
       "Run data is saved locally in <code>/home/omote/cluster_project/iam2/dataset/refcoco_g/wandb/run-20251015_130230-qbz99n8y</code>"
      ],
      "text/plain": [
       "<IPython.core.display.HTML object>"
      ]
     },
     "metadata": {},
     "output_type": "display_data"
    },
    {
     "data": {
      "text/html": [
       "Resuming run <strong><a href='https://wandb.ai/katlab-gifu/vis_test/runs/qbz99n8y' target=\"_blank\">vis_test_refcocog_test</a></strong> to <a href='https://wandb.ai/katlab-gifu/vis_test' target=\"_blank\">Weights & Biases</a> (<a href='https://wandb.me/developer-guide' target=\"_blank\">docs</a>)<br>"
      ],
      "text/plain": [
       "<IPython.core.display.HTML object>"
      ]
     },
     "metadata": {},
     "output_type": "display_data"
    },
    {
     "data": {
      "text/html": [
       " View project at <a href='https://wandb.ai/katlab-gifu/vis_test' target=\"_blank\">https://wandb.ai/katlab-gifu/vis_test</a>"
      ],
      "text/plain": [
       "<IPython.core.display.HTML object>"
      ]
     },
     "metadata": {},
     "output_type": "display_data"
    },
    {
     "data": {
      "text/html": [
       " View run at <a href='https://wandb.ai/katlab-gifu/vis_test/runs/qbz99n8y' target=\"_blank\">https://wandb.ai/katlab-gifu/vis_test/runs/qbz99n8y</a>"
      ],
      "text/plain": [
       "<IPython.core.display.HTML object>"
      ]
     },
     "metadata": {},
     "output_type": "display_data"
    }
   ],
   "source": [
    "run = wandb.init(entity=ENTITY, project=PROJECT, id=\"qbz99n8y\", resume=\"must\")"
   ]
  },
  {
   "cell_type": "code",
   "execution_count": 18,
   "id": "7a745a73",
   "metadata": {},
   "outputs": [],
   "source": [
    "img_art = run.use_artifact(\"katlab-gifu/dataset/refcocog_test:latest\")"
   ]
  },
  {
   "cell_type": "code",
   "execution_count": 19,
   "id": "6ce40d90",
   "metadata": {},
   "outputs": [
    {
     "name": "stderr",
     "output_type": "stream",
     "text": [
      "\u001b[34m\u001b[1mwandb\u001b[0m: Downloading large artifact refcocog_test:latest, 413.21MB. 2600 files... \n",
      "\u001b[34m\u001b[1mwandb\u001b[0m:   2600 of 2600 files downloaded.  \n",
      "Done. 0:0:8.3 (49.9MB/s)\n"
     ]
    }
   ],
   "source": [
    "img_dir = Path(img_art.download())"
   ]
  },
  {
   "cell_type": "code",
   "execution_count": null,
   "id": "b4ab9907",
   "metadata": {},
   "outputs": [],
   "source": [
    "CLASS_LABELS = {0: \"person\", 1: \"car\", 2: \"dog\"}\n"
   ]
  },
  {
   "cell_type": "code",
   "execution_count": null,
   "id": "34233c32",
   "metadata": {},
   "outputs": [],
   "source": [
    "PREDICTIONS = {\n",
    "    \"img_0001.jpg\": [\n",
    "        (50, 40, 200, 260, 0, 0.91),   # person\n",
    "        (250, 100, 420, 300, 1, 0.83), # car\n",
    "    ],\n",
    "    \"img_0002.jpg\": [\n",
    "        (80, 90, 180, 210, 2, 0.77),   # dog\n",
    "    ],\n",
    "    # ...\n",
    "}\n"
   ]
  },
  {
   "cell_type": "code",
   "execution_count": null,
   "id": "b22b3e1b",
   "metadata": {},
   "outputs": [],
   "source": [
    "\n",
    "# テーブル作成（画像＋BBox を行ごとに）\n",
    "table = wandb.Table(columns=[\"image_id\", \"image\", \"n_boxes\"])\n",
    "\n",
    "for image_id, boxes in PREDICTIONS.items():\n",
    "    # 画像ファイルのパス（Artifact 内の相対パスと合わせる）\n",
    "    img_path = img_dir / image_id\n",
    "\n",
    "    # W&B の BBox 仕様に合わせて整形\n",
    "    box_data = []\n",
    "    for (minX, minY, maxX, maxY, cls_id, score) in boxes:\n",
    "        box_data.append({\n",
    "            \"position\": { \"minX\": float(minX), \"minY\": float(minY),\n",
    "                          \"maxX\": float(maxX), \"maxY\": float(maxY) },\n",
    "            \"class_id\": int(cls_id),\n",
    "            \"box_caption\": f\"{CLASS_LABELS[int(cls_id)]} {score:.2f}\",\n",
    "            \"scores\": {\"confidence\": float(score)},\n",
    "            \"domain\": \"pixel\"\n",
    "        })\n",
    "\n",
    "    # 画像＋BBox を 1 セルにまとめる（複数BBox/複数クラスOK）\n",
    "    wb_img = wandb.Image(\n",
    "        str(img_path),\n",
    "        boxes={\n",
    "            \"predictions\": {\n",
    "                \"box_data\": box_data,\n",
    "                \"class_labels\": CLASS_LABELS\n",
    "            }\n",
    "        }\n",
    "    )\n",
    "    table.add_data(image_id, wb_img, len(box_data))\n",
    "\n",
    "# 1 回の log でテーブルを送る（追記）\n",
    "wandb.log({\"detections\": table})\n",
    "\n"
   ]
  },
  {
   "cell_type": "code",
   "execution_count": 20,
   "id": "c040db36",
   "metadata": {},
   "outputs": [
    {
     "data": {
      "text/html": [],
      "text/plain": [
       "<IPython.core.display.HTML object>"
      ]
     },
     "metadata": {},
     "output_type": "display_data"
    },
    {
     "data": {
      "text/html": [
       " View run <strong style=\"color:#cdcd00\">vis_test_refcocog_test</strong> at: <a href='https://wandb.ai/katlab-gifu/vis_test/runs/qbz99n8y' target=\"_blank\">https://wandb.ai/katlab-gifu/vis_test/runs/qbz99n8y</a><br> View project at: <a href='https://wandb.ai/katlab-gifu/vis_test' target=\"_blank\">https://wandb.ai/katlab-gifu/vis_test</a><br>Synced 5 W&B file(s), 0 media file(s), 0 artifact file(s) and 0 other file(s)"
      ],
      "text/plain": [
       "<IPython.core.display.HTML object>"
      ]
     },
     "metadata": {},
     "output_type": "display_data"
    },
    {
     "data": {
      "text/html": [
       "Find logs at: <code>./wandb/run-20251015_130230-qbz99n8y/logs</code>"
      ],
      "text/plain": [
       "<IPython.core.display.HTML object>"
      ]
     },
     "metadata": {},
     "output_type": "display_data"
    }
   ],
   "source": [
    "run.finish()"
   ]
  },
  {
   "cell_type": "code",
   "execution_count": null,
   "id": "3bbd64a8",
   "metadata": {},
   "outputs": [],
   "source": []
  }
 ],
 "metadata": {
  "kernelspec": {
   "display_name": ".venv",
   "language": "python",
   "name": "python3"
  },
  "language_info": {
   "codemirror_mode": {
    "name": "ipython",
    "version": 3
   },
   "file_extension": ".py",
   "mimetype": "text/x-python",
   "name": "python",
   "nbconvert_exporter": "python",
   "pygments_lexer": "ipython3",
   "version": "3.12.10"
  }
 },
 "nbformat": 4,
 "nbformat_minor": 5
}
