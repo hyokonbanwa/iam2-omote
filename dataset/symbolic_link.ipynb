{
 "cells": [
  {
   "cell_type": "code",
   "execution_count": 2,
   "id": "e1702f3b",
   "metadata": {},
   "outputs": [],
   "source": [
    "import os"
   ]
  },
  {
   "cell_type": "code",
   "execution_count": 8,
   "id": "bee85cf3",
   "metadata": {},
   "outputs": [
    {
     "name": "stdout",
     "output_type": "stream",
     "text": [
      "['AESOP', 'IEdit', 'MIT-States_PropertyCoherence', 'MIT-States_StateCoherence', 'CLEVR-Change', 'COMICS_Dialogue', 'OCR-VQA', 'DocVQA', 'Birds-to-Words', 'RAVEN_train_images', 'PororoSV', 'FlintstonesSV', 'RecipeQA_ImageCoherence', 'RecipeQA_VisualCloze', 'MagicBrush', 'Spot-the-Diff', 'ALFRED', 'WebQA', 'VizWiz', 'VISION', 'VIST', 'iconqa', 'coinstruct', 'multi_vqa', 'nextqa', 'TQA', 'mmchat', 'imagecode', 'star', 'nuscenes', 'scannet_frames_25k', 'contrastive_caption', 'nlvr2', 'HQ-Edit', 'dreamsim']\n",
      "['/home/omote/local-share-data_ssd/huggingface_dataset/lmms-lab/M4-Instruct-Data/AESOP/AESOP', '/home/omote/local-share-data_ssd/huggingface_dataset/lmms-lab/M4-Instruct-Data/IEdit/IEdit', '/home/omote/local-share-data_ssd/huggingface_dataset/lmms-lab/M4-Instruct-Data/MIT-States_PropertyCoherence/MIT-States_PropertyCoherence', '/home/omote/local-share-data_ssd/huggingface_dataset/lmms-lab/M4-Instruct-Data/MIT-States_StateCoherence/MIT-States_StateCoherence', '/home/omote/local-share-data_ssd/huggingface_dataset/lmms-lab/M4-Instruct-Data/CLEVR-Change/CLEVR-Change', '/home/omote/local-share-data_ssd/huggingface_dataset/lmms-lab/M4-Instruct-Data/COMICS_Dialogue/COMICS_Dialogue', '/home/omote/local-share-data_ssd/huggingface_dataset/lmms-lab/M4-Instruct-Data/OCR-VQA/OCR-VQA', '/home/omote/local-share-data_ssd/huggingface_dataset/lmms-lab/M4-Instruct-Data/DocVQA/DocVQA', '/home/omote/local-share-data_ssd/huggingface_dataset/lmms-lab/M4-Instruct-Data/Birds-to-Words/Birds-to-Words', '/home/omote/local-share-data_ssd/huggingface_dataset/lmms-lab/M4-Instruct-Data/RAVEN_train_images/RAVEN_train_images', '/home/omote/local-share-data_ssd/huggingface_dataset/lmms-lab/M4-Instruct-Data/PororoSV/PororoSV', '/home/omote/local-share-data_ssd/huggingface_dataset/lmms-lab/M4-Instruct-Data/FlintstonesSV/FlintstonesSV', '/home/omote/local-share-data_ssd/huggingface_dataset/lmms-lab/M4-Instruct-Data/RecipeQA_ImageCoherence/RecipeQA_ImageCoherence', '/home/omote/local-share-data_ssd/huggingface_dataset/lmms-lab/M4-Instruct-Data/RecipeQA_VisualCloze/RecipeQA_VisualCloze', '/home/omote/local-share-data_ssd/huggingface_dataset/lmms-lab/M4-Instruct-Data/MagicBrush/MagicBrush', '/home/omote/local-share-data_ssd/huggingface_dataset/lmms-lab/M4-Instruct-Data/Spot-the-Diff/Spot-the-Diff', '/home/omote/local-share-data_ssd/huggingface_dataset/lmms-lab/M4-Instruct-Data/ALFRED/ALFRED', '/home/omote/local-share-data_ssd/huggingface_dataset/lmms-lab/M4-Instruct-Data/WebQA/WebQA', '/home/omote/local-share-data_ssd/huggingface_dataset/lmms-lab/M4-Instruct-Data/VizWiz/VizWiz', '/home/omote/local-share-data_ssd/huggingface_dataset/lmms-lab/M4-Instruct-Data/VISION/VISION', '/home/omote/local-share-data_ssd/huggingface_dataset/lmms-lab/M4-Instruct-Data/VIST/VIST', '/home/omote/local-share-data_ssd/huggingface_dataset/lmms-lab/M4-Instruct-Data/iconqa/iconqa', '/home/omote/local-share-data_ssd/huggingface_dataset/lmms-lab/M4-Instruct-Data/coinstruct/coinstruct', '/home/omote/local-share-data_ssd/huggingface_dataset/lmms-lab/M4-Instruct-Data/multi_vqa/multi_vqa', '/home/omote/local-share-data_ssd/huggingface_dataset/lmms-lab/M4-Instruct-Data/nextqa/nextqa', '/home/omote/local-share-data_ssd/huggingface_dataset/lmms-lab/M4-Instruct-Data/TQA/TQA', '/home/omote/local-share-data_ssd/huggingface_dataset/lmms-lab/M4-Instruct-Data/mmchat/mmchat', '/home/omote/local-share-data_ssd/huggingface_dataset/lmms-lab/M4-Instruct-Data/imagecode/imagecode', '/home/omote/local-share-data_ssd/huggingface_dataset/lmms-lab/M4-Instruct-Data/star/star', '/home/omote/local-share-data_ssd/huggingface_dataset/lmms-lab/M4-Instruct-Data/nuscenes/nuscenes', '/home/omote/local-share-data_ssd/huggingface_dataset/lmms-lab/M4-Instruct-Data/scannet_frames_25k/scannet_frames_25k', '/home/omote/local-share-data_ssd/huggingface_dataset/lmms-lab/M4-Instruct-Data/contrastive_caption/contrastive_caption', '/home/omote/local-share-data_ssd/huggingface_dataset/lmms-lab/M4-Instruct-Data/nlvr2/nlvr2', '/home/omote/local-share-data_ssd/huggingface_dataset/lmms-lab/M4-Instruct-Data/HQ-Edit/HQ-Edit', '/home/omote/local-share-data_ssd/huggingface_dataset/lmms-lab/M4-Instruct-Data/dreamsim/dreamsim']\n"
     ]
    }
   ],
   "source": [
    "src_dir = \"/home/omote/local-share-data_ssd/huggingface_dataset/lmms-lab/M4-Instruct-Data\"\n",
    "src_dir_list = [tmp for tmp in os.listdir(src_dir) if \".\" not in tmp]\n",
    "print(src_dir_list)\n",
    "\n",
    "src_dir_path_list = []\n",
    "for i in src_dir_list:\n",
    "    src_dir_path = os.path.join(src_dir, i,i)\n",
    "    src_dir_path_list.append(src_dir_path)\n",
    "print(src_dir_path_list)"
   ]
  },
  {
   "cell_type": "code",
   "execution_count": 9,
   "id": "b7c666db",
   "metadata": {},
   "outputs": [
    {
     "name": "stdout",
     "output_type": "stream",
     "text": [
      "['/home/omote/local-share-data_ssd/llava-onevision-data-symbolic-link/AESOP', '/home/omote/local-share-data_ssd/llava-onevision-data-symbolic-link/IEdit', '/home/omote/local-share-data_ssd/llava-onevision-data-symbolic-link/MIT-States_PropertyCoherence', '/home/omote/local-share-data_ssd/llava-onevision-data-symbolic-link/MIT-States_StateCoherence', '/home/omote/local-share-data_ssd/llava-onevision-data-symbolic-link/CLEVR-Change', '/home/omote/local-share-data_ssd/llava-onevision-data-symbolic-link/COMICS_Dialogue', '/home/omote/local-share-data_ssd/llava-onevision-data-symbolic-link/OCR-VQA', '/home/omote/local-share-data_ssd/llava-onevision-data-symbolic-link/DocVQA', '/home/omote/local-share-data_ssd/llava-onevision-data-symbolic-link/Birds-to-Words', '/home/omote/local-share-data_ssd/llava-onevision-data-symbolic-link/RAVEN_train_images', '/home/omote/local-share-data_ssd/llava-onevision-data-symbolic-link/PororoSV', '/home/omote/local-share-data_ssd/llava-onevision-data-symbolic-link/FlintstonesSV', '/home/omote/local-share-data_ssd/llava-onevision-data-symbolic-link/RecipeQA_ImageCoherence', '/home/omote/local-share-data_ssd/llava-onevision-data-symbolic-link/RecipeQA_VisualCloze', '/home/omote/local-share-data_ssd/llava-onevision-data-symbolic-link/MagicBrush', '/home/omote/local-share-data_ssd/llava-onevision-data-symbolic-link/Spot-the-Diff', '/home/omote/local-share-data_ssd/llava-onevision-data-symbolic-link/ALFRED', '/home/omote/local-share-data_ssd/llava-onevision-data-symbolic-link/WebQA', '/home/omote/local-share-data_ssd/llava-onevision-data-symbolic-link/VizWiz', '/home/omote/local-share-data_ssd/llava-onevision-data-symbolic-link/VISION', '/home/omote/local-share-data_ssd/llava-onevision-data-symbolic-link/VIST', '/home/omote/local-share-data_ssd/llava-onevision-data-symbolic-link/iconqa', '/home/omote/local-share-data_ssd/llava-onevision-data-symbolic-link/coinstruct', '/home/omote/local-share-data_ssd/llava-onevision-data-symbolic-link/multi_vqa', '/home/omote/local-share-data_ssd/llava-onevision-data-symbolic-link/nextqa', '/home/omote/local-share-data_ssd/llava-onevision-data-symbolic-link/TQA', '/home/omote/local-share-data_ssd/llava-onevision-data-symbolic-link/mmchat', '/home/omote/local-share-data_ssd/llava-onevision-data-symbolic-link/imagecode', '/home/omote/local-share-data_ssd/llava-onevision-data-symbolic-link/star', '/home/omote/local-share-data_ssd/llava-onevision-data-symbolic-link/nuscenes', '/home/omote/local-share-data_ssd/llava-onevision-data-symbolic-link/scannet_frames_25k', '/home/omote/local-share-data_ssd/llava-onevision-data-symbolic-link/contrastive_caption', '/home/omote/local-share-data_ssd/llava-onevision-data-symbolic-link/nlvr2', '/home/omote/local-share-data_ssd/llava-onevision-data-symbolic-link/HQ-Edit', '/home/omote/local-share-data_ssd/llava-onevision-data-symbolic-link/dreamsim']\n"
     ]
    }
   ],
   "source": [
    "# シンボリックリンクの作成\n",
    "dst_dir = \"/home/omote/local-share-data_ssd/llava-onevision-data-symbolic-link\"\n",
    "dst_dir_path_list = []\n",
    "for i in src_dir_list:\n",
    "    dst_dir_path = os.path.join(dst_dir, i)\n",
    "    dst_dir_path_list.append(dst_dir_path)\n",
    "    \n",
    "print(dst_dir_path_list)"
   ]
  },
  {
   "cell_type": "code",
   "execution_count": 10,
   "id": "62b5d997",
   "metadata": {},
   "outputs": [
    {
     "name": "stdout",
     "output_type": "stream",
     "text": [
      "Created symlink: /home/omote/local-share-data_ssd/llava-onevision-data-symbolic-link/AESOP -> /home/omote/local-share-data_ssd/huggingface_dataset/lmms-lab/M4-Instruct-Data/AESOP/AESOP\n",
      "Created symlink: /home/omote/local-share-data_ssd/llava-onevision-data-symbolic-link/IEdit -> /home/omote/local-share-data_ssd/huggingface_dataset/lmms-lab/M4-Instruct-Data/IEdit/IEdit\n",
      "Created symlink: /home/omote/local-share-data_ssd/llava-onevision-data-symbolic-link/MIT-States_PropertyCoherence -> /home/omote/local-share-data_ssd/huggingface_dataset/lmms-lab/M4-Instruct-Data/MIT-States_PropertyCoherence/MIT-States_PropertyCoherence\n",
      "Created symlink: /home/omote/local-share-data_ssd/llava-onevision-data-symbolic-link/MIT-States_StateCoherence -> /home/omote/local-share-data_ssd/huggingface_dataset/lmms-lab/M4-Instruct-Data/MIT-States_StateCoherence/MIT-States_StateCoherence\n",
      "Created symlink: /home/omote/local-share-data_ssd/llava-onevision-data-symbolic-link/CLEVR-Change -> /home/omote/local-share-data_ssd/huggingface_dataset/lmms-lab/M4-Instruct-Data/CLEVR-Change/CLEVR-Change\n",
      "Created symlink: /home/omote/local-share-data_ssd/llava-onevision-data-symbolic-link/COMICS_Dialogue -> /home/omote/local-share-data_ssd/huggingface_dataset/lmms-lab/M4-Instruct-Data/COMICS_Dialogue/COMICS_Dialogue\n",
      "Created symlink: /home/omote/local-share-data_ssd/llava-onevision-data-symbolic-link/OCR-VQA -> /home/omote/local-share-data_ssd/huggingface_dataset/lmms-lab/M4-Instruct-Data/OCR-VQA/OCR-VQA\n",
      "Created symlink: /home/omote/local-share-data_ssd/llava-onevision-data-symbolic-link/DocVQA -> /home/omote/local-share-data_ssd/huggingface_dataset/lmms-lab/M4-Instruct-Data/DocVQA/DocVQA\n",
      "Created symlink: /home/omote/local-share-data_ssd/llava-onevision-data-symbolic-link/Birds-to-Words -> /home/omote/local-share-data_ssd/huggingface_dataset/lmms-lab/M4-Instruct-Data/Birds-to-Words/Birds-to-Words\n",
      "Created symlink: /home/omote/local-share-data_ssd/llava-onevision-data-symbolic-link/RAVEN_train_images -> /home/omote/local-share-data_ssd/huggingface_dataset/lmms-lab/M4-Instruct-Data/RAVEN_train_images/RAVEN_train_images\n",
      "Created symlink: /home/omote/local-share-data_ssd/llava-onevision-data-symbolic-link/PororoSV -> /home/omote/local-share-data_ssd/huggingface_dataset/lmms-lab/M4-Instruct-Data/PororoSV/PororoSV\n",
      "Created symlink: /home/omote/local-share-data_ssd/llava-onevision-data-symbolic-link/FlintstonesSV -> /home/omote/local-share-data_ssd/huggingface_dataset/lmms-lab/M4-Instruct-Data/FlintstonesSV/FlintstonesSV\n",
      "Created symlink: /home/omote/local-share-data_ssd/llava-onevision-data-symbolic-link/RecipeQA_ImageCoherence -> /home/omote/local-share-data_ssd/huggingface_dataset/lmms-lab/M4-Instruct-Data/RecipeQA_ImageCoherence/RecipeQA_ImageCoherence\n",
      "Created symlink: /home/omote/local-share-data_ssd/llava-onevision-data-symbolic-link/RecipeQA_VisualCloze -> /home/omote/local-share-data_ssd/huggingface_dataset/lmms-lab/M4-Instruct-Data/RecipeQA_VisualCloze/RecipeQA_VisualCloze\n",
      "Created symlink: /home/omote/local-share-data_ssd/llava-onevision-data-symbolic-link/MagicBrush -> /home/omote/local-share-data_ssd/huggingface_dataset/lmms-lab/M4-Instruct-Data/MagicBrush/MagicBrush\n",
      "Created symlink: /home/omote/local-share-data_ssd/llava-onevision-data-symbolic-link/Spot-the-Diff -> /home/omote/local-share-data_ssd/huggingface_dataset/lmms-lab/M4-Instruct-Data/Spot-the-Diff/Spot-the-Diff\n",
      "Created symlink: /home/omote/local-share-data_ssd/llava-onevision-data-symbolic-link/ALFRED -> /home/omote/local-share-data_ssd/huggingface_dataset/lmms-lab/M4-Instruct-Data/ALFRED/ALFRED\n",
      "Created symlink: /home/omote/local-share-data_ssd/llava-onevision-data-symbolic-link/WebQA -> /home/omote/local-share-data_ssd/huggingface_dataset/lmms-lab/M4-Instruct-Data/WebQA/WebQA\n",
      "Created symlink: /home/omote/local-share-data_ssd/llava-onevision-data-symbolic-link/VizWiz -> /home/omote/local-share-data_ssd/huggingface_dataset/lmms-lab/M4-Instruct-Data/VizWiz/VizWiz\n",
      "Created symlink: /home/omote/local-share-data_ssd/llava-onevision-data-symbolic-link/VISION -> /home/omote/local-share-data_ssd/huggingface_dataset/lmms-lab/M4-Instruct-Data/VISION/VISION\n",
      "Created symlink: /home/omote/local-share-data_ssd/llava-onevision-data-symbolic-link/VIST -> /home/omote/local-share-data_ssd/huggingface_dataset/lmms-lab/M4-Instruct-Data/VIST/VIST\n",
      "Created symlink: /home/omote/local-share-data_ssd/llava-onevision-data-symbolic-link/iconqa -> /home/omote/local-share-data_ssd/huggingface_dataset/lmms-lab/M4-Instruct-Data/iconqa/iconqa\n",
      "Created symlink: /home/omote/local-share-data_ssd/llava-onevision-data-symbolic-link/coinstruct -> /home/omote/local-share-data_ssd/huggingface_dataset/lmms-lab/M4-Instruct-Data/coinstruct/coinstruct\n",
      "Created symlink: /home/omote/local-share-data_ssd/llava-onevision-data-symbolic-link/multi_vqa -> /home/omote/local-share-data_ssd/huggingface_dataset/lmms-lab/M4-Instruct-Data/multi_vqa/multi_vqa\n",
      "Created symlink: /home/omote/local-share-data_ssd/llava-onevision-data-symbolic-link/nextqa -> /home/omote/local-share-data_ssd/huggingface_dataset/lmms-lab/M4-Instruct-Data/nextqa/nextqa\n",
      "Created symlink: /home/omote/local-share-data_ssd/llava-onevision-data-symbolic-link/TQA -> /home/omote/local-share-data_ssd/huggingface_dataset/lmms-lab/M4-Instruct-Data/TQA/TQA\n",
      "Created symlink: /home/omote/local-share-data_ssd/llava-onevision-data-symbolic-link/mmchat -> /home/omote/local-share-data_ssd/huggingface_dataset/lmms-lab/M4-Instruct-Data/mmchat/mmchat\n",
      "Created symlink: /home/omote/local-share-data_ssd/llava-onevision-data-symbolic-link/imagecode -> /home/omote/local-share-data_ssd/huggingface_dataset/lmms-lab/M4-Instruct-Data/imagecode/imagecode\n",
      "Created symlink: /home/omote/local-share-data_ssd/llava-onevision-data-symbolic-link/star -> /home/omote/local-share-data_ssd/huggingface_dataset/lmms-lab/M4-Instruct-Data/star/star\n",
      "Created symlink: /home/omote/local-share-data_ssd/llava-onevision-data-symbolic-link/nuscenes -> /home/omote/local-share-data_ssd/huggingface_dataset/lmms-lab/M4-Instruct-Data/nuscenes/nuscenes\n",
      "Created symlink: /home/omote/local-share-data_ssd/llava-onevision-data-symbolic-link/scannet_frames_25k -> /home/omote/local-share-data_ssd/huggingface_dataset/lmms-lab/M4-Instruct-Data/scannet_frames_25k/scannet_frames_25k\n",
      "Created symlink: /home/omote/local-share-data_ssd/llava-onevision-data-symbolic-link/contrastive_caption -> /home/omote/local-share-data_ssd/huggingface_dataset/lmms-lab/M4-Instruct-Data/contrastive_caption/contrastive_caption\n",
      "Created symlink: /home/omote/local-share-data_ssd/llava-onevision-data-symbolic-link/nlvr2 -> /home/omote/local-share-data_ssd/huggingface_dataset/lmms-lab/M4-Instruct-Data/nlvr2/nlvr2\n",
      "Created symlink: /home/omote/local-share-data_ssd/llava-onevision-data-symbolic-link/HQ-Edit -> /home/omote/local-share-data_ssd/huggingface_dataset/lmms-lab/M4-Instruct-Data/HQ-Edit/HQ-Edit\n",
      "Created symlink: /home/omote/local-share-data_ssd/llava-onevision-data-symbolic-link/dreamsim -> /home/omote/local-share-data_ssd/huggingface_dataset/lmms-lab/M4-Instruct-Data/dreamsim/dreamsim\n"
     ]
    }
   ],
   "source": [
    "# シンボリックリンクの作成\n",
    "for src, dst in zip(src_dir_path_list, dst_dir_path_list):\n",
    "    os.makedirs(os.path.dirname(dst), exist_ok=True)  # Create the destination directory if it doesn't exist\n",
    "    try:\n",
    "        os.symlink(src, dst)\n",
    "        print(f\"Created symlink: {dst} -> {src}\")\n",
    "    except FileExistsError:\n",
    "        print(f\"Symlink already exists: {dst}\")"
   ]
  },
  {
   "cell_type": "code",
   "execution_count": null,
   "id": "121ca0f2",
   "metadata": {},
   "outputs": [],
   "source": []
  }
 ],
 "metadata": {
  "kernelspec": {
   "display_name": ".venv",
   "language": "python",
   "name": "python3"
  },
  "language_info": {
   "codemirror_mode": {
    "name": "ipython",
    "version": 3
   },
   "file_extension": ".py",
   "mimetype": "text/x-python",
   "name": "python",
   "nbconvert_exporter": "python",
   "pygments_lexer": "ipython3",
   "version": "3.12.10"
  }
 },
 "nbformat": 4,
 "nbformat_minor": 5
}
