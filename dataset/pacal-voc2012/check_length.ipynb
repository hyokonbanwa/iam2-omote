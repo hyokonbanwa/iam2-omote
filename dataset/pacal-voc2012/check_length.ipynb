{
 "cells": [
  {
   "cell_type": "code",
   "execution_count": 1,
   "id": "8b0261e8",
   "metadata": {},
   "outputs": [],
   "source": [
    "import json\n",
    "def load_json(file_path):\n",
    "    \"\"\"\n",
    "    Load a JSON file and return its content as a Python dictionary.\n",
    "\n",
    "    Parameters:\n",
    "        file_path (str): The path to the JSON file.\n",
    "\n",
    "    Returns:\n",
    "        dict: The content of the JSON file as a dictionary.\n",
    "    \"\"\"\n",
    "    with open(file_path, 'r', encoding='utf-8') as file:\n",
    "        data = json.load(file)\n",
    "    return data\n",
    "def save_json(data, file_path):\n",
    "    \"\"\"\n",
    "    Save a Python dictionary to a JSON file.\n",
    "\n",
    "    Parameters:\n",
    "        data (dict): The data to save.\n",
    "        file_path (str): The path where the JSON file will be saved.\n",
    "    \"\"\"\n",
    "    with open(file_path, 'w', encoding='utf-8') as file:\n",
    "        json.dump(data, file, ensure_ascii=False, indent=4)"
   ]
  },
  {
   "cell_type": "code",
   "execution_count": 2,
   "id": "073238af",
   "metadata": {},
   "outputs": [],
   "source": [
    "path_list = [\n",
    "    \"/data_ssd/PASCAL-VOC/check_length/check-length_test_pascal-voc-one-class_for-kosmos2_one_class_with_delim.json\",\n",
    "    \"/data_ssd/PASCAL-VOC/check_length/check-length_test_pascal-voc-one-class_for-kosmos2_one_class_without_delim.json\",\n",
    "    \"/data_ssd/PASCAL-VOC/check_length/check-length_val_pascal-voc-one-class_for-kosmos2_one_class_with_delim.json\",\n",
    "    \"/data_ssd/PASCAL-VOC/check_length/check-length_val_pascal-voc-one-class_for-kosmos2_one_class_without_delim.json\",\n",
    "]"
   ]
  },
  {
   "cell_type": "code",
   "execution_count": 3,
   "id": "e236119d",
   "metadata": {},
   "outputs": [],
   "source": [
    "data = []\n",
    "for path in path_list:\n",
    "    data.extend(load_json(path))"
   ]
  },
  {
   "cell_type": "code",
   "execution_count": 4,
   "id": "cd2ec23f",
   "metadata": {},
   "outputs": [
    {
     "name": "stdout",
     "output_type": "stream",
     "text": [
      "{'total_ids_length': 76, 'input_ids_length': 71, 'output_ids_length': 5, 'source': {'id': '000001_dog', 'image': 'PASCAL-VOC/ultralytics/images/test2007/000001.jpg', 'conversations': [{'from': 'human', 'value': '<image><grounding> <phrase> dog</phrase>'}, {'from': 'gpt', 'value': '<object><patch_index_0484><patch_index_0753></object>'}], 'image_width_height': [353, 500], 'ann_id': '000001'}}\n"
     ]
    }
   ],
   "source": [
    "print(data[0])"
   ]
  },
  {
   "cell_type": "code",
   "execution_count": null,
   "id": "0259d125",
   "metadata": {},
   "outputs": [],
   "source": []
  },
  {
   "cell_type": "code",
   "execution_count": 5,
   "id": "5c31e4a0",
   "metadata": {},
   "outputs": [
    {
     "name": "stdout",
     "output_type": "stream",
     "text": [
      "max length: 296\n"
     ]
    }
   ],
   "source": [
    "length_list = []\n",
    "for index, item in enumerate(data):\n",
    "    # print(index)\n",
    "    length = item[\"output_ids_length\"]\n",
    "    length_list.append(length)\n",
    "print(f\"max length: {max(length_list)}\")"
   ]
  },
  {
   "cell_type": "code",
   "execution_count": null,
   "id": "86bd7f0f",
   "metadata": {},
   "outputs": [],
   "source": []
  }
 ],
 "metadata": {
  "kernelspec": {
   "display_name": ".venv",
   "language": "python",
   "name": "python3"
  },
  "language_info": {
   "codemirror_mode": {
    "name": "ipython",
    "version": 3
   },
   "file_extension": ".py",
   "mimetype": "text/x-python",
   "name": "python",
   "nbconvert_exporter": "python",
   "pygments_lexer": "ipython3",
   "version": "3.12.10"
  }
 },
 "nbformat": 4,
 "nbformat_minor": 5
}
