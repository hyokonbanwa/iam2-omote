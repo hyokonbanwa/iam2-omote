{
 "cells": [
  {
   "cell_type": "code",
   "execution_count": 1,
   "id": "8b0261e8",
   "metadata": {},
   "outputs": [],
   "source": [
    "import json\n",
    "def load_json(file_path):\n",
    "    \"\"\"\n",
    "    Load a JSON file and return its content as a Python dictionary.\n",
    "\n",
    "    Parameters:\n",
    "        file_path (str): The path to the JSON file.\n",
    "\n",
    "    Returns:\n",
    "        dict: The content of the JSON file as a dictionary.\n",
    "    \"\"\"\n",
    "    with open(file_path, 'r', encoding='utf-8') as file:\n",
    "        data = json.load(file)\n",
    "    return data\n",
    "def save_json(data, file_path):\n",
    "    \"\"\"\n",
    "    Save a Python dictionary to a JSON file.\n",
    "\n",
    "    Parameters:\n",
    "        data (dict): The data to save.\n",
    "        file_path (str): The path where the JSON file will be saved.\n",
    "    \"\"\"\n",
    "    with open(file_path, 'w', encoding='utf-8') as file:\n",
    "        json.dump(data, file, ensure_ascii=False, indent=4)"
   ]
  },
  {
   "cell_type": "code",
   "execution_count": 2,
   "id": "073238af",
   "metadata": {},
   "outputs": [],
   "source": [
    "path_list = [\n",
    "\"/data_ssd/PASCAL-VOC/check_length/paligemma_actual_detection/check-length_test_pascal-voc_actual_detection_for_paligemma_sort_size_cat_size.json\",\n",
    "\"/data_ssd/PASCAL-VOC/check_length/paligemma_actual_detection/check-length_train_pascal-voc_actual_detection_for_paligemma_sort_size_cat_size.json\",\n",
    "\"/data_ssd/PASCAL-VOC/check_length/paligemma_actual_detection/check-length_val_pascal-voc_actual_detection_for_paligemma_sort_size_cat_size.json\",\n",
    "]"
   ]
  },
  {
   "cell_type": "code",
   "execution_count": 3,
   "id": "e236119d",
   "metadata": {},
   "outputs": [],
   "source": [
    "data = []\n",
    "for path in path_list:\n",
    "    data.extend(load_json(path))"
   ]
  },
  {
   "cell_type": "code",
   "execution_count": 4,
   "id": "cd2ec23f",
   "metadata": {},
   "outputs": [
    {
     "name": "stdout",
     "output_type": "stream",
     "text": [
      "{'total_ids_length': 331, 'input_ids_length': 318, 'output_ids_length': 13, 'source': {'id': '000001', 'image': 'PASCAL-VOC/ultralytics/images/test2007/000001.jpg', 'conversations': [{'from': 'human', 'value': '<image>Detect objects in this image from the following categories: [aeroplane ; bicycle ; bird ; boat ; bottle ; bus ; car ; cat ; chair ; cow ; diningtable ; dog ; horse ; motorbike ; person ; pottedplant ; sheep ; sofa ; train ; tvmonitor]. List detected categories only.'}, {'from': 'gpt', 'value': '<loc0023><loc0020><loc1017><loc1017> person ; <loc0489><loc0136><loc0757><loc0562> dog'}], 'gt_entities_quantized_normalized': [['person', [[0.019550342130987292, 0.022482893450635387, 0.9941348973607038, 0.9941348973607038]]], ['dog', [[0.13294232649071358, 0.4780058651026393, 0.5493646138807429, 0.739980449657869]]]], 'gt_entities_normalized': [['person', [[0.01983002832861197, 0.02200000000000002, 0.9943342776203967, 0.994]]], ['dog', [[0.1331444759206799, 0.478, 0.5495750708215298, 0.74]]]], 'image_width_height': [353, 500], 'ann_id': '000001'}}\n"
     ]
    }
   ],
   "source": [
    "print(data[0])"
   ]
  },
  {
   "cell_type": "code",
   "execution_count": null,
   "id": "0259d125",
   "metadata": {},
   "outputs": [],
   "source": []
  },
  {
   "cell_type": "code",
   "execution_count": 5,
   "id": "5c31e4a0",
   "metadata": {},
   "outputs": [
    {
     "name": "stdout",
     "output_type": "stream",
     "text": [
      "max length: 629\n"
     ]
    }
   ],
   "source": [
    "length_list = []\n",
    "for index, item in enumerate(data):\n",
    "    # print(index)\n",
    "    length = item[\"total_ids_length\"]\n",
    "    length_list.append(length)\n",
    "print(f\"max length: {max(length_list)}\")"
   ]
  },
  {
   "cell_type": "code",
   "execution_count": 6,
   "id": "86bd7f0f",
   "metadata": {},
   "outputs": [
    {
     "data": {
      "image/png": "[encoded data removed]",
      "text/plain": [
       "<Figure size 640x480 with 1 Axes>"
      ]
     },
     "metadata": {},
     "output_type": "display_data"
    }
   ],
   "source": [
    "import matplotlib.pyplot as plt\n",
    "plt.hist(length_list, bins=50, edgecolor='black')\n",
    "plt.title('Histogram of Lengths')\n",
    "plt.xlabel('Length')\n",
    "plt.ylabel('Frequency')\n",
    "plt.grid(axis='y', alpha=0.75)\n",
    "plt.show()"
   ]
  },
  {
   "cell_type": "code",
   "execution_count": 7,
   "id": "d12bf305",
   "metadata": {},
   "outputs": [
    {
     "name": "stdout",
     "output_type": "stream",
     "text": [
      "max length under 384: 384\n"
     ]
    }
   ],
   "source": [
    "max_output_len = 128 + 256\n",
    "under_max_list = [l for l in length_list if l <= max_output_len]\n",
    "print(f\"max length under {max_output_len}: {max(under_max_list)}\")"
   ]
  },
  {
   "cell_type": "code",
   "execution_count": 8,
   "id": "804b6b25",
   "metadata": {},
   "outputs": [
    {
     "name": "stdout",
     "output_type": "stream",
     "text": [
      "21503\n",
      "21112\n"
     ]
    }
   ],
   "source": [
    "print(len(data))\n",
    "print(len(under_max_list))"
   ]
  },
  {
   "cell_type": "markdown",
   "id": "7de25cb1",
   "metadata": {},
   "source": [
    "# 切り詰めjson作成"
   ]
  },
  {
   "cell_type": "code",
   "execution_count": 9,
   "id": "878231bd",
   "metadata": {},
   "outputs": [
    {
     "name": "stdout",
     "output_type": "stream",
     "text": [
      "train: 14041 -> 13795\n",
      "val: 2510 -> 2450\n"
     ]
    }
   ],
   "source": [
    "max_output_len = 384\n",
    "path_dict = {\n",
    "\"train\": \"/data_ssd/PASCAL-VOC/check_length/paligemma_actual_detection/check-length_train_pascal-voc_actual_detection_for_paligemma_sort_size_cat_size.json\",\n",
    "\"val\": \"/data_ssd/PASCAL-VOC/check_length/paligemma_actual_detection/check-length_val_pascal-voc_actual_detection_for_paligemma_sort_size_cat_size.json\",\n",
    "}\n",
    "\n",
    "save_path_dict = {\n",
    "\"train\": \"/data_ssd/PASCAL-VOC/paligemma_actual_detection/train_pascal-voc_actual_detection_for_paligemma_sort_size_cat_size_under384.json\",\n",
    "\"val\": \"/data_ssd/PASCAL-VOC/paligemma_actual_detection/val_pascal-voc_actual_detection_for_paligemma_sort_size_cat_size_under384.json\",\n",
    "}\n",
    "\n",
    "for key in path_dict.keys():\n",
    "    data = load_json(path_dict[key])\n",
    "    new_data = [item[\"source\"] for item in data if item[\"total_ids_length\"] <= max_output_len]\n",
    "    print(f\"{key}: {len(data)} -> {len(new_data)}\")\n",
    "    save_json(new_data, save_path_dict[key])"
   ]
  },
  {
   "cell_type": "code",
   "execution_count": null,
   "id": "c0b0856a",
   "metadata": {},
   "outputs": [],
   "source": []
  }
 ],
 "metadata": {
  "kernelspec": {
   "display_name": ".venv",
   "language": "python",
   "name": "python3"
  },
  "language_info": {
   "codemirror_mode": {
    "name": "ipython",
    "version": 3
   },
   "file_extension": ".py",
   "mimetype": "text/x-python",
   "name": "python",
   "nbconvert_exporter": "python",
   "pygments_lexer": "ipython3",
   "version": "3.12.10"
  }
 },
 "nbformat": 4,
 "nbformat_minor": 5
}
