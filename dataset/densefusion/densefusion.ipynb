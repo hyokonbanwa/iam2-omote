{
 "cells": [
  {
   "cell_type": "code",
   "execution_count": 10,
   "id": "daac4c5d",
   "metadata": {},
   "outputs": [],
   "source": [
    "from datasets import load_dataset\n",
    "import os\n",
    "from tqdm import tqdm\n",
    "import random\n",
    "\n",
    "random.seed(42)"
   ]
  },
  {
   "cell_type": "code",
   "execution_count": 11,
   "id": "0ba341ba",
   "metadata": {},
   "outputs": [],
   "source": [
    "dataset_root_dir = \"/data_ssd/huggingface_dataset\"\n",
    "cache_dir = \"/data_ssd/huggingface_cache\"\n",
    "\n",
    "dataset_id = os.path.join(dataset_root_dir,\"BAAI/DenseFusion-1M\")"
   ]
  },
  {
   "cell_type": "code",
   "execution_count": 12,
   "id": "aacd7932",
   "metadata": {},
   "outputs": [],
   "source": [
    "dataset = load_dataset(dataset_id, cache_dir=cache_dir,name=\"DenseFusion-1M\",split=\"train\") # ['DenseFusion-4V-100K', 'DenseFusion-1M']"
   ]
  },
  {
   "cell_type": "code",
   "execution_count": 22,
   "id": "def42642",
   "metadata": {},
   "outputs": [
    {
     "name": "stdout",
     "output_type": "stream",
     "text": [
      "dict_keys(['image_id', 'caption', 'url', 'image_path'])\n",
      "Number of samples: 1058790\n",
      "First sample: {'image_id': '3853221003038', 'caption': 'The image is a black and white photograph featuring a collection of firearm parts laid out in rows. The parts are metallic with various textures, including cylindrical shapes, bolts, and other mechanical components. The focus is on the central part of the image, where the parts are densely packed, and the details of each part are less discernible due to the depth of field.\\n\\nOverlaying the photograph is a circular logo with a red border and a black background. The logo contains white text that reads \"Registered International Traffic in Arms Registrations\" and the acronym \"ITAR\" in large, bold red letters. The logo is centered and occupies a significant portion of the image, partially obscuring the view of the firearm parts behind it.\\n\\nThe layout of the image is such that the logo and the parts occupy the entire frame, with no discernible background beyond the parts themselves. The texture of the parts is industrial and utilitarian, with a mix of matte and reflective surfaces. The bolts are distributed throughout the image, with some in the foreground and others in the background, indicating the complexity and variety of the firearm parts.\\n\\nThe image is monochromatic, with varying shades of gray that distinguish the different components and their relative positions. The overall composition is structured and orderly, with the parts arranged in a grid-like fashion that recedes into the distance. The image does not contain any discernible mood or atmosphere, focusing solely on the factual representation of the firearm parts and the logo.', 'url': 'http://www.potomacinstitute.org/steps/images/Slides/Itar.jpg', 'image_path': 'DenseFusion-1M/000000/3853221003038.png'}\n"
     ]
    }
   ],
   "source": [
    "print(dataset[0].keys())\n",
    "print(\"Number of samples:\", len(dataset))\n",
    "print(\"First sample:\", dataset[1])"
   ]
  },
  {
   "cell_type": "code",
   "execution_count": null,
   "id": "ba3a9237",
   "metadata": {},
   "outputs": [],
   "source": [
    "prompt_list_image_textualization = ['<image>\\nWhat do you think is going on in this snapshot?', '<image>\\nCan you describe the main features of this image for me?', '<image>\\nCan you elaborate on the elements of the picture provided?', '<image>\\nWhat are the key elements in this picture?', '<image>\\nDescribe the following image.', \"<image>\\nWhat's happening in the scene?\", '<image>\\nWhat is this photo about?', '<image>\\nAnalyze the image in a comprehensive and detailed manner.', '<image>\\nWrite a detailed description of the given image.', '<image>\\nExplain the visual content of the image in great detail.', '<image>\\nWhat do you see happening in this image?']\n",
    "prompt_list_sharegpt4o = ['<image>\\nPlease describe in depth what this image is about.', '<image>\\nCan you explain in detail what is happening in the picture?', '<image>\\nPlease explain in detail the scene depicted in the picture.', '<image>\\nPlease describe in detail the dynamic and static elements in this image.', '<image>\\nPlease describe what is happening in the image.', '<image>\\nCan you describe all the objects and characters in the picture?', '<image>\\nDescribe this image.', '<image>\\nPlease conduct an in-depth analysis of the scene in the picture.', '<image>\\nPlease elaborate on what this image shows.', '<image>\\nDescribe everything in the image', '<image>\\nProvide a detailed description of the presented image.', '<image>\\nWhat scene is mainly depicted in the picture?', '<image>\\nDescribe the image, paying attention to its inner details.', '<image>\\nWhat items or people are prominent in the picture?', '<image>\\nDescribe the content of a given image in detail', '<image>\\nPlease describe specifically what you observed in the picture and the possible scenes they might form.', '<image>\\nWhat objects and people are shown in the picture?', '<image>\\nPlease use detailed words to describe what the picture is about.', '<image>\\nPlease describe specifically what this image is about.', '<image>\\nPlease explain the scene depicted in the picture.', '<image>\\nWhat scene is this picture depicting?', '<image>\\nDescribe every detail in the picture.', '<image>\\nWhat objects and people are in the picture?', '<image>\\nWhat are the striking details of this image?', '<image>\\nWhat is compelling about this image?', '<image>\\nProvide a detailed description of the image.', '<image>\\nProvide a detailed description of the main elements in the image.', '<image>\\nPlease describe the scene depicted in this picture.', '<image>\\nCan you describe what this image is about?', '<image>\\nDescribe the given image', '<image>\\nWhat elements and people are included in the image?', '<image>\\nPlease explain the visual content of the image in detail.', '<image>\\nPlease describe the content of the picture.', '<image>\\nCan you explain what this image shows?', '<image>\\nCan you analyze and elaborate on all the elements and details shown in this image?', '<image>\\nWrite a detailed and comprehensive description of the image.', '<image>\\nCan you list all the objects and people in the picture?', '<image>\\nDescribe what the picture shows?', '<image>\\nDescribe all the elements in the picture.', '<image>\\nCan you describe the main elements in the image?', '<image>\\nPlease interpret and describe each detail of this image and the overall scene they create.', '<image>\\nPlease describe the situation in the picture as clearly as possible.', '<image>\\nPlease describe the event or scene this image shows.', '<image>\\nAnalyze and describe in detail the visual elements in this image.', '<image>\\nCan you describe this photo in detail?', '<image>\\nPlease describe the scene in the picture.', '<image>\\nWhat details are worth noting in the picture?']\n",
    "prompt_list = list(set(prompt_list_image_textualization + prompt_list_sharegpt4o))\n",
    "prompt_list = \\\n",
    "[\n",
    " '<image>\\nExplain the visual content of the image in great detail.', \n",
    " '<image>\\nPlease explain the visual content of the image in detail.', \n",
    " \n",
    " '<image>\\nPlease describe in depth what this image is about.',\n",
    " '<image>\\nCan you explain in detail what is happening in the picture?',\n",
    " '<image>\\nWrite a detailed description of the given image.', \n",
    " '<image>\\nPlease elaborate on what this image shows.',\n",
    " '<image>\\nWhat items or people are prominent in the picture?',\n",
    " '<image>\\nCan you elaborate on the elements of the picture provided?',\n",
    " '<image>\\nAnalyze the image in a comprehensive and detailed manner.',\n",
    "  '<image>\\nWhat are the striking details of this image?', \n",
    "  '<image>\\nWrite a detailed and comprehensive description of the image.',\n",
    "  \n",
    "  '<image>\\nDescribe the image, paying attention to its inner details.', \n",
    "  '<image>\\nAnalyze and describe in detail the visual elements in this image.', \n",
    "  '<image>\\nDescribe the content of a given image in detail', \n",
    "\n",
    "  '<image>\\nDescribe every detail in the picture.', \n",
    "  '<image>\\nPlease explain in detail the scene depicted in the picture.', \n",
    "  '<image>\\nPlease conduct an in-depth analysis of the scene in the picture.',\n",
    "  '<image>\\nCan you describe all the objects and characters in the picture?',\n",
    "  '<image>\\nProvide a detailed description of the presented image.', \n",
    "  '<image>\\nPlease use detailed words to describe what the picture is about.',\n",
    "\n",
    "   '<image>\\nDescribe everything in the image',\n",
    "   '<image>\\nPlease describe specifically what you observed in the picture and the possible scenes they might form.',\n",
    "\n",
    "   '<image>\\nPlease interpret and describe each detail of this image and the overall scene they create.',\n",
    "   '<image>\\nDescribe all the elements in the picture.',\n",
    "    '<image>\\nProvide a detailed description of the image.',\n",
    "    '<image>\\nCan you describe this photo in detail?',\n",
    "    '<image>\\nCan you analyze and elaborate on all the elements and details shown in this image?',]\n",
    "def make_conversation(id,image_path,question,answer,image_folder_root=None):\n",
    "    if image_folder_root is not None:\n",
    "        image_path = os.path.join(image_folder_root, image_path)\n",
    "    return_data =   {\n",
    "        \"id\": id,\n",
    "        \"image\": image_path,\n",
    "        \"conversations\": [\n",
    "        {\n",
    "            \"from\": \"human\",\n",
    "            \"value\": f\"{question}\"\n",
    "        },\n",
    "        {\n",
    "            \"from\": \"gpt\",\n",
    "            \"value\": answer\n",
    "        },\n",
    "        ],\n",
    "    }\n",
    "    return return_data\n"
   ]
  },
  {
   "cell_type": "code",
   "execution_count": 20,
   "id": "e9ae3da1",
   "metadata": {},
   "outputs": [
    {
     "name": "stdout",
     "output_type": "stream",
     "text": [
      "<image>\n",
      "Please explain the scene depicted in the picture.\n",
      "<image>\n",
      "Describe this image.\n",
      "<image>\n",
      "Provide a detailed description of the main elements in the image.\n",
      "<image>\n",
      "Describe the given image\n",
      "<image>\n",
      "Explain the visual content of the image in great detail.\n",
      "<image>\n",
      "Please explain the visual content of the image in detail.\n",
      "<image>\n",
      "Describe the following image.\n",
      "<image>\n",
      "Can you describe the main features of this image for me?\n",
      "<image>\n",
      "Please describe in depth what this image is about.\n",
      "<image>\n",
      "Can you explain in detail what is happening in the picture?\n",
      "<image>\n",
      "Write a detailed description of the given image.\n",
      "<image>\n",
      "Please elaborate on what this image shows.\n",
      "<image>\n",
      "What items or people are prominent in the picture?\n",
      "<image>\n",
      "Please describe the scene in the picture.\n",
      "<image>\n",
      "Can you elaborate on the elements of the picture provided?\n",
      "<image>\n",
      "Analyze the image in a comprehensive and detailed manner.\n",
      "<image>\n",
      "Please describe what is happening in the image.\n",
      "<image>\n",
      "Can you list all the objects and people in the picture?\n",
      "<image>\n",
      "What are the striking details of this image?\n",
      "<image>\n",
      "Write a detailed and comprehensive description of the image.\n",
      "<image>\n",
      "What details are worth noting in the picture?\n",
      "<image>\n",
      "Can you explain what this image shows?\n",
      "<image>\n",
      "Describe the image, paying attention to its inner details.\n",
      "<image>\n",
      "Analyze and describe in detail the visual elements in this image.\n",
      "<image>\n",
      "Describe the content of a given image in detail\n",
      "<image>\n",
      "What is compelling about this image?\n",
      "<image>\n",
      "What's happening in the scene?\n",
      "<image>\n",
      "What scene is mainly depicted in the picture?\n",
      "<image>\n",
      "Describe every detail in the picture.\n",
      "<image>\n",
      "Please explain in detail the scene depicted in the picture.\n",
      "<image>\n",
      "Please conduct an in-depth analysis of the scene in the picture.\n",
      "<image>\n",
      "Can you describe all the objects and characters in the picture?\n",
      "<image>\n",
      "Provide a detailed description of the presented image.\n",
      "<image>\n",
      "Please use detailed words to describe what the picture is about.\n",
      "<image>\n",
      "Describe what the picture shows?\n",
      "<image>\n",
      "What is this photo about?\n",
      "<image>\n",
      "Describe everything in the image\n",
      "<image>\n",
      "Please describe specifically what you observed in the picture and the possible scenes they might form.\n",
      "<image>\n",
      "Please describe the content of the picture.\n",
      "<image>\n",
      "Please describe the event or scene this image shows.\n",
      "<image>\n",
      "What are the key elements in this picture?\n",
      "<image>\n",
      "Can you describe the main elements in the image?\n",
      "<image>\n",
      "Please describe in detail the dynamic and static elements in this image.\n",
      "<image>\n",
      "Please describe specifically what this image is about.\n",
      "<image>\n",
      "What objects and people are in the picture?\n",
      "<image>\n",
      "What scene is this picture depicting?\n",
      "<image>\n",
      "What elements and people are included in the image?\n",
      "<image>\n",
      "What do you think is going on in this snapshot?\n",
      "<image>\n",
      "What objects and people are shown in the picture?\n",
      "<image>\n",
      "Can you describe what this image is about?\n",
      "<image>\n",
      "Please interpret and describe each detail of this image and the overall scene they create.\n",
      "<image>\n",
      "Describe all the elements in the picture.\n",
      "<image>\n",
      "What do you see happening in this image?\n",
      "<image>\n",
      "Provide a detailed description of the image.\n",
      "<image>\n",
      "Can you describe this photo in detail?\n",
      "<image>\n",
      "Can you analyze and elaborate on all the elements and details shown in this image?\n",
      "<image>\n",
      "Please describe the scene depicted in this picture.\n",
      "<image>\n",
      "Please describe the situation in the picture as clearly as possible.\n"
     ]
    }
   ],
   "source": [
    "for prompt in prompt_list:\n",
    "    print(prompt)"
   ]
  },
  {
   "cell_type": "code",
   "execution_count": 21,
   "id": "ebcf1657",
   "metadata": {},
   "outputs": [
    {
     "name": "stdout",
     "output_type": "stream",
     "text": [
      "['<image>\\nPlease explain the scene depicted in the picture.', '<image>\\nDescribe this image.', '<image>\\nProvide a detailed description of the main elements in the image.', '<image>\\nDescribe the given image', '<image>\\nExplain the visual content of the image in great detail.', '<image>\\nPlease explain the visual content of the image in detail.', '<image>\\nDescribe the following image.', '<image>\\nCan you describe the main features of this image for me?', '<image>\\nPlease describe in depth what this image is about.', '<image>\\nCan you explain in detail what is happening in the picture?', '<image>\\nWrite a detailed description of the given image.', '<image>\\nPlease elaborate on what this image shows.', '<image>\\nWhat items or people are prominent in the picture?', '<image>\\nPlease describe the scene in the picture.', '<image>\\nCan you elaborate on the elements of the picture provided?', '<image>\\nAnalyze the image in a comprehensive and detailed manner.', '<image>\\nPlease describe what is happening in the image.', '<image>\\nCan you list all the objects and people in the picture?', '<image>\\nWhat are the striking details of this image?', '<image>\\nWrite a detailed and comprehensive description of the image.', '<image>\\nWhat details are worth noting in the picture?', '<image>\\nCan you explain what this image shows?', '<image>\\nDescribe the image, paying attention to its inner details.', '<image>\\nAnalyze and describe in detail the visual elements in this image.', '<image>\\nDescribe the content of a given image in detail', '<image>\\nWhat is compelling about this image?', \"<image>\\nWhat's happening in the scene?\", '<image>\\nWhat scene is mainly depicted in the picture?', '<image>\\nDescribe every detail in the picture.', '<image>\\nPlease explain in detail the scene depicted in the picture.', '<image>\\nPlease conduct an in-depth analysis of the scene in the picture.', '<image>\\nCan you describe all the objects and characters in the picture?', '<image>\\nProvide a detailed description of the presented image.', '<image>\\nPlease use detailed words to describe what the picture is about.', '<image>\\nDescribe what the picture shows?', '<image>\\nWhat is this photo about?', '<image>\\nDescribe everything in the image', '<image>\\nPlease describe specifically what you observed in the picture and the possible scenes they might form.', '<image>\\nPlease describe the content of the picture.', '<image>\\nPlease describe the event or scene this image shows.', '<image>\\nWhat are the key elements in this picture?', '<image>\\nCan you describe the main elements in the image?', '<image>\\nPlease describe in detail the dynamic and static elements in this image.', '<image>\\nPlease describe specifically what this image is about.', '<image>\\nWhat objects and people are in the picture?', '<image>\\nWhat scene is this picture depicting?', '<image>\\nWhat elements and people are included in the image?', '<image>\\nWhat do you think is going on in this snapshot?', '<image>\\nWhat objects and people are shown in the picture?', '<image>\\nCan you describe what this image is about?', '<image>\\nPlease interpret and describe each detail of this image and the overall scene they create.', '<image>\\nDescribe all the elements in the picture.', '<image>\\nWhat do you see happening in this image?', '<image>\\nProvide a detailed description of the image.', '<image>\\nCan you describe this photo in detail?', '<image>\\nCan you analyze and elaborate on all the elements and details shown in this image?', '<image>\\nPlease describe the scene depicted in this picture.', '<image>\\nPlease describe the situation in the picture as clearly as possible.']\n"
     ]
    }
   ],
   "source": [
    "print(prompt_list)"
   ]
  },
  {
   "cell_type": "code",
   "execution_count": 16,
   "id": "cc680b09",
   "metadata": {},
   "outputs": [
    {
     "name": "stderr",
     "output_type": "stream",
     "text": [
      "  0%|          | 0/1058790 [00:00<?, ?it/s]\n"
     ]
    }
   ],
   "source": [
    "save_json_data = []\n",
    "\n",
    "for i, sample in tqdm(enumerate(dataset), total=len(dataset)):\n",
    "    image_path = sample[\"image_path\"]\n",
    "    question = random.choice(prompt_list)\n",
    "    answer = sample[\"caption\"]\n",
    "    id = f\"DenseFusion-1M-{sample[\"image_id\"]}\"\n",
    "    \n",
    "    conversation = make_conversation(id=id, image_path=image_path, question=question, answer=answer)\n",
    "    \n",
    "    save_json_data.append(conversation)\n",
    "    break"
   ]
  },
  {
   "cell_type": "code",
   "execution_count": 17,
   "id": "b1131ad7",
   "metadata": {},
   "outputs": [
    {
     "name": "stdout",
     "output_type": "stream",
     "text": [
      "[{'id': 'DenseFusion-1M-3340022002763', 'image': 'DenseFusion-1M/000000/3340022002763.png', 'conversations': [{'from': 'human', 'value': '<image>\\nCan you describe the main features of this image for me?'}, {'from': 'gpt', 'value': 'The image displays four different styles of foldable hard cases designed for sunglasses, each with a unique color and pattern. At the top of the image, there is a logo with the text \"MF SUNNIES\" and the hashtag \"#SE01\" below it. The cases are arranged in a 2x2 grid against a white background.\\n\\nIn the top left, there is a beige case with a smiley face design featuring various expressions such as winking, smiling, and sleepy. The top right case is purple with a pattern of black fish faces and bubbles.\\n\\nThe bottom left case is light blue with a design of black sunglasses and the word \"smile\" in different fonts and orientations. The bottom right case is dark brown with a pattern of cartoonish fish faces and bubbles, similar to the top right case but with a different color scheme.\\n\\nEach case has a zipper on the top edge, and the texture appears to be a smooth, possibly synthetic material. The cases are shown in a folded state, with the zipper partially visible, indicating their functionality as portable storage for sunglasses. The text \"MF SUNNIES #SE01 Foldable Hard Case\" is overlaid on the image, confirming the brand and product type.'}]}]\n"
     ]
    }
   ],
   "source": [
    "print(save_json_data)"
   ]
  },
  {
   "cell_type": "code",
   "execution_count": 10,
   "id": "94c1fe37",
   "metadata": {},
   "outputs": [],
   "source": [
    "import json\n",
    "import tqdm\n",
    "\n",
    "def load_json(file_path):\n",
    "    \"\"\"\n",
    "    Load a JSON file and return its content as a Python dictionary.\n",
    "\n",
    "    Parameters:\n",
    "        file_path (str): The path to the JSON file.\n",
    "\n",
    "    Returns:\n",
    "        dict: The content of the JSON file as a dictionary.\n",
    "    \"\"\"\n",
    "    with open(file_path, 'r', encoding='utf-8') as file:\n",
    "        data = json.load(file)\n",
    "    return data\n",
    "def save_json(data, file_path):\n",
    "    \"\"\"\n",
    "    Save a Python dictionary to a JSON file.\n",
    "\n",
    "    Parameters:\n",
    "        data (dict): The data to save.\n",
    "        file_path (str): The path where the JSON file will be saved.\n",
    "    \"\"\"\n",
    "    with open(file_path, 'w', encoding='utf-8') as file:\n",
    "        json.dump(data, file, ensure_ascii=False, indent=4)"
   ]
  },
  {
   "cell_type": "code",
   "execution_count": 11,
   "id": "7f2ac23e",
   "metadata": {},
   "outputs": [],
   "source": [
    "data = load_json(\"/data_ssd/DenseFusion1M/densefusion1m-train.json\")"
   ]
  },
  {
   "cell_type": "code",
   "execution_count": 12,
   "id": "41fe8a59",
   "metadata": {},
   "outputs": [],
   "source": [
    "image_root_dir = \"/data_ssd/huggingface_dataset/BAAI/DenseFusion-1M/images\""
   ]
  },
  {
   "cell_type": "code",
   "execution_count": null,
   "id": "25fc8705",
   "metadata": {},
   "outputs": [
    {
     "name": "stderr",
     "output_type": "stream",
     "text": [
      "  6%|▌         | 58693/1058790 [00:12<03:55, 4237.78it/s]"
     ]
    },
    {
     "name": "stdout",
     "output_type": "stream",
     "text": [
      "Updated image path: /data_ssd/huggingface_dataset/BAAI/DenseFusion-1M/images/DenseFusion-1M/000072/1278740002463.png\n"
     ]
    },
    {
     "name": "stderr",
     "output_type": "stream",
     "text": [
      "  9%|▉         | 96761/1058790 [00:21<03:25, 4678.88it/s]"
     ]
    },
    {
     "name": "stdout",
     "output_type": "stream",
     "text": [
      "Updated image path: /data_ssd/huggingface_dataset/BAAI/DenseFusion-1M/images/DenseFusion-1M/000099/814546033157.png\n"
     ]
    },
    {
     "name": "stderr",
     "output_type": "stream",
     "text": [
      " 10%|█         | 106598/1058790 [00:23<03:46, 4212.07it/s]"
     ]
    },
    {
     "name": "stdout",
     "output_type": "stream",
     "text": [
      "Updated image path: /data_ssd/huggingface_dataset/BAAI/DenseFusion-1M/images/DenseFusion-1M/000099/1208025008357.png\n"
     ]
    },
    {
     "name": "stderr",
     "output_type": "stream",
     "text": [
      " 12%|█▏        | 124082/1058790 [00:27<03:10, 4900.91it/s]"
     ]
    },
    {
     "name": "stdout",
     "output_type": "stream",
     "text": [
      "Updated image path: /data_ssd/huggingface_dataset/BAAI/DenseFusion-1M/images/DenseFusion-1M/000072/3403520001988.png\n"
     ]
    },
    {
     "name": "stderr",
     "output_type": "stream",
     "text": [
      " 17%|█▋        | 176773/1058790 [00:39<02:55, 5014.09it/s]"
     ]
    },
    {
     "name": "stdout",
     "output_type": "stream",
     "text": [
      "Updated image path: /data_ssd/huggingface_dataset/BAAI/DenseFusion-1M/images/DenseFusion-1M/000099/4219522007278.png\n"
     ]
    },
    {
     "name": "stderr",
     "output_type": "stream",
     "text": [
      " 17%|█▋        | 184984/1058790 [00:41<02:47, 5223.67it/s]"
     ]
    },
    {
     "name": "stdout",
     "output_type": "stream",
     "text": [
      "Updated image path: /data_ssd/huggingface_dataset/BAAI/DenseFusion-1M/images/DenseFusion-1M/000072/3440777010841.png\n"
     ]
    },
    {
     "name": "stderr",
     "output_type": "stream",
     "text": [
      " 20%|██        | 215239/1058790 [00:48<03:18, 4242.47it/s]"
     ]
    },
    {
     "name": "stdout",
     "output_type": "stream",
     "text": [
      "Updated image path: /data_ssd/huggingface_dataset/BAAI/DenseFusion-1M/images/DenseFusion-1M/000099/3180275001959.png\n"
     ]
    },
    {
     "name": "stderr",
     "output_type": "stream",
     "text": [
      " 22%|██▏       | 235683/1058790 [00:53<03:18, 4147.42it/s]"
     ]
    },
    {
     "name": "stdout",
     "output_type": "stream",
     "text": [
      "Updated image path: /data_ssd/huggingface_dataset/BAAI/DenseFusion-1M/images/DenseFusion-1M/000099/3031479017142.png\n"
     ]
    },
    {
     "name": "stderr",
     "output_type": "stream",
     "text": [
      " 24%|██▍       | 257732/1058790 [00:58<03:11, 4190.79it/s]"
     ]
    },
    {
     "name": "stdout",
     "output_type": "stream",
     "text": [
      "Updated image path: /data_ssd/huggingface_dataset/BAAI/DenseFusion-1M/images/DenseFusion-1M/000099/3130788013637.png\n"
     ]
    },
    {
     "name": "stderr",
     "output_type": "stream",
     "text": [
      " 28%|██▊       | 292769/1058790 [01:07<03:25, 3729.53it/s]"
     ]
    },
    {
     "name": "stdout",
     "output_type": "stream",
     "text": [
      "Updated image path: /data_ssd/huggingface_dataset/BAAI/DenseFusion-1M/images/DenseFusion-1M/000099/3195237000530.png\n"
     ]
    },
    {
     "name": "stderr",
     "output_type": "stream",
     "text": [
      " 31%|███       | 326808/1058790 [01:15<02:56, 4156.11it/s]"
     ]
    },
    {
     "name": "stdout",
     "output_type": "stream",
     "text": [
      "Updated image path: /data_ssd/huggingface_dataset/BAAI/DenseFusion-1M/images/DenseFusion-1M/000099/3576407015823.png\n"
     ]
    },
    {
     "name": "stderr",
     "output_type": "stream",
     "text": [
      " 33%|███▎      | 348458/1058790 [01:20<02:34, 4600.33it/s]"
     ]
    },
    {
     "name": "stdout",
     "output_type": "stream",
     "text": [
      "Updated image path: /data_ssd/huggingface_dataset/BAAI/DenseFusion-1M/images/DenseFusion-1M/000099/1046195008567.png\n"
     ]
    },
    {
     "name": "stderr",
     "output_type": "stream",
     "text": [
      " 41%|████      | 436235/1058790 [01:38<02:16, 4560.98it/s]"
     ]
    },
    {
     "name": "stdout",
     "output_type": "stream",
     "text": [
      "Updated image path: /data_ssd/huggingface_dataset/BAAI/DenseFusion-1M/images/DenseFusion-1M/000099/1054033004287.png\n"
     ]
    },
    {
     "name": "stderr",
     "output_type": "stream",
     "text": [
      " 44%|████▎     | 461636/1058790 [01:43<02:08, 4655.39it/s]"
     ]
    },
    {
     "name": "stdout",
     "output_type": "stream",
     "text": [
      "Updated image path: /data_ssd/huggingface_dataset/BAAI/DenseFusion-1M/images/DenseFusion-1M/000099/3731304002782.png\n"
     ]
    },
    {
     "name": "stderr",
     "output_type": "stream",
     "text": [
      " 45%|████▌     | 479297/1058790 [01:47<01:42, 5662.85it/s]"
     ]
    },
    {
     "name": "stdout",
     "output_type": "stream",
     "text": [
      "Updated image path: /data_ssd/huggingface_dataset/BAAI/DenseFusion-1M/images/DenseFusion-1M/000072/2250516010363.png\n"
     ]
    },
    {
     "name": "stderr",
     "output_type": "stream",
     "text": [
      " 47%|████▋     | 501276/1058790 [01:51<01:47, 5200.14it/s]"
     ]
    },
    {
     "name": "stdout",
     "output_type": "stream",
     "text": [
      "Updated image path: /data_ssd/huggingface_dataset/BAAI/DenseFusion-1M/images/DenseFusion-1M/000099/3654951000095.png\n"
     ]
    },
    {
     "name": "stderr",
     "output_type": "stream",
     "text": [
      " 48%|████▊     | 505358/1058790 [01:52<01:53, 4860.93it/s]"
     ]
    },
    {
     "name": "stdout",
     "output_type": "stream",
     "text": [
      "Updated image path: /data_ssd/huggingface_dataset/BAAI/DenseFusion-1M/images/DenseFusion-1M/000099/1209158000628.png\n"
     ]
    },
    {
     "name": "stderr",
     "output_type": "stream",
     "text": [
      " 53%|█████▎    | 556358/1058790 [02:02<01:32, 5439.30it/s]"
     ]
    },
    {
     "name": "stdout",
     "output_type": "stream",
     "text": [
      "Updated image path: /data_ssd/huggingface_dataset/BAAI/DenseFusion-1M/images/DenseFusion-1M/000072/2560328001138.png\n"
     ]
    },
    {
     "name": "stderr",
     "output_type": "stream",
     "text": [
      " 56%|█████▌    | 594685/1058790 [02:09<01:29, 5164.46it/s]"
     ]
    },
    {
     "name": "stdout",
     "output_type": "stream",
     "text": [
      "Updated image path: /data_ssd/huggingface_dataset/BAAI/DenseFusion-1M/images/DenseFusion-1M/000099/4066473001135.png\n"
     ]
    },
    {
     "name": "stderr",
     "output_type": "stream",
     "text": [
      " 58%|█████▊    | 610190/1058790 [02:12<01:23, 5387.33it/s]"
     ]
    },
    {
     "name": "stdout",
     "output_type": "stream",
     "text": [
      "Updated image path: /data_ssd/huggingface_dataset/BAAI/DenseFusion-1M/images/DenseFusion-1M/000099/3703738007827.png\n"
     ]
    },
    {
     "name": "stderr",
     "output_type": "stream",
     "text": [
      " 58%|█████▊    | 616360/1058790 [02:14<01:40, 4410.45it/s]"
     ]
    },
    {
     "name": "stdout",
     "output_type": "stream",
     "text": [
      "Updated image path: /data_ssd/huggingface_dataset/BAAI/DenseFusion-1M/images/DenseFusion-1M/000099/2325364014755.png\n"
     ]
    },
    {
     "name": "stderr",
     "output_type": "stream",
     "text": [
      " 61%|██████    | 642746/1058790 [02:19<01:32, 4495.48it/s]"
     ]
    },
    {
     "name": "stdout",
     "output_type": "stream",
     "text": [
      "Updated image path: /data_ssd/huggingface_dataset/BAAI/DenseFusion-1M/images/DenseFusion-1M/000099/2672118003149.png\n"
     ]
    },
    {
     "name": "stderr",
     "output_type": "stream",
     "text": [
      " 62%|██████▏   | 651991/1058790 [02:21<01:34, 4285.46it/s]"
     ]
    },
    {
     "name": "stdout",
     "output_type": "stream",
     "text": [
      "Updated image path: /data_ssd/huggingface_dataset/BAAI/DenseFusion-1M/images/DenseFusion-1M/000072/4128333009121.png\n"
     ]
    },
    {
     "name": "stderr",
     "output_type": "stream",
     "text": [
      " 63%|██████▎   | 670871/1058790 [02:26<01:35, 4044.23it/s]"
     ]
    },
    {
     "name": "stdout",
     "output_type": "stream",
     "text": [
      "Updated image path: /data_ssd/huggingface_dataset/BAAI/DenseFusion-1M/images/DenseFusion-1M/000099/3467278016467.png\n"
     ]
    },
    {
     "name": "stderr",
     "output_type": "stream",
     "text": [
      " 64%|██████▍   | 676386/1058790 [02:27<01:43, 3706.31it/s]"
     ]
    },
    {
     "name": "stdout",
     "output_type": "stream",
     "text": [
      "Updated image path: /data_ssd/huggingface_dataset/BAAI/DenseFusion-1M/images/DenseFusion-1M/000099/3005392007281.png\n"
     ]
    },
    {
     "name": "stderr",
     "output_type": "stream",
     "text": [
      " 65%|██████▌   | 688541/1058790 [02:30<01:09, 5336.85it/s]"
     ]
    },
    {
     "name": "stdout",
     "output_type": "stream",
     "text": [
      "Updated image path: /data_ssd/huggingface_dataset/BAAI/DenseFusion-1M/images/DenseFusion-1M/000099/4094056000282.png\n"
     ]
    },
    {
     "name": "stderr",
     "output_type": "stream",
     "text": [
      " 65%|██████▌   | 691653/1058790 [02:30<01:21, 4483.48it/s]"
     ]
    },
    {
     "name": "stdout",
     "output_type": "stream",
     "text": [
      "Updated image path: /data_ssd/huggingface_dataset/BAAI/DenseFusion-1M/images/DenseFusion-1M/000099/3047083005407.png\n"
     ]
    },
    {
     "name": "stderr",
     "output_type": "stream",
     "text": [
      " 71%|███████   | 746770/1058790 [02:44<01:10, 4417.34it/s]"
     ]
    },
    {
     "name": "stdout",
     "output_type": "stream",
     "text": [
      "Updated image path: /data_ssd/huggingface_dataset/BAAI/DenseFusion-1M/images/DenseFusion-1M/000099/3874848011357.png\n"
     ]
    },
    {
     "name": "stderr",
     "output_type": "stream",
     "text": [
      " 73%|███████▎  | 767889/1058790 [02:49<01:10, 4146.95it/s]"
     ]
    },
    {
     "name": "stdout",
     "output_type": "stream",
     "text": [
      "Updated image path: /data_ssd/huggingface_dataset/BAAI/DenseFusion-1M/images/DenseFusion-1M/000099/2264345004390.png\n"
     ]
    },
    {
     "name": "stderr",
     "output_type": "stream",
     "text": [
      " 74%|███████▎  | 778645/1058790 [02:51<01:14, 3749.97it/s]"
     ]
    },
    {
     "name": "stdout",
     "output_type": "stream",
     "text": [
      "Updated image path: /data_ssd/huggingface_dataset/BAAI/DenseFusion-1M/images/DenseFusion-1M/000099/1219211016052.png\n"
     ]
    },
    {
     "name": "stderr",
     "output_type": "stream",
     "text": [
      " 80%|████████  | 850388/1058790 [03:07<00:39, 5306.74it/s]"
     ]
    },
    {
     "name": "stdout",
     "output_type": "stream",
     "text": [
      "Updated image path: /data_ssd/huggingface_dataset/BAAI/DenseFusion-1M/images/DenseFusion-1M/000072/3618266013541.png\n"
     ]
    },
    {
     "name": "stderr",
     "output_type": "stream",
     "text": [
      " 84%|████████▍ | 887058/1058790 [03:14<00:31, 5501.76it/s]"
     ]
    },
    {
     "name": "stdout",
     "output_type": "stream",
     "text": [
      "Updated image path: /data_ssd/huggingface_dataset/BAAI/DenseFusion-1M/images/DenseFusion-1M/000072/4234528001636.png\n",
      "Updated image path: /data_ssd/huggingface_dataset/BAAI/DenseFusion-1M/images/DenseFusion-1M/000099/2026819038171.png\n"
     ]
    },
    {
     "name": "stderr",
     "output_type": "stream",
     "text": [
      " 94%|█████████▍| 993608/1058790 [03:34<00:14, 4403.64it/s]"
     ]
    },
    {
     "name": "stdout",
     "output_type": "stream",
     "text": [
      "Updated image path: /data_ssd/huggingface_dataset/BAAI/DenseFusion-1M/images/DenseFusion-1M/000099/1084772004006.png\n"
     ]
    },
    {
     "name": "stderr",
     "output_type": "stream",
     "text": [
      " 99%|█████████▉| 1051398/1058790 [03:46<00:01, 4838.20it/s]"
     ]
    },
    {
     "name": "stdout",
     "output_type": "stream",
     "text": [
      "Updated image path: /data_ssd/huggingface_dataset/BAAI/DenseFusion-1M/images/DenseFusion-1M/000072/3597269006784.png\n"
     ]
    },
    {
     "name": "stderr",
     "output_type": "stream",
     "text": [
      "100%|██████████| 1058790/1058790 [03:48<00:00, 4633.75it/s]\n"
     ]
    }
   ],
   "source": [
    "import os\n",
    "\n",
    "new_json_data = []\n",
    "for item in tqdm.tqdm(data):\n",
    "    image_path = item[\"image\"]\n",
    "    image_path = os.path.join(image_root_dir, image_path)\n",
    "    if not os.path.exists(image_path):\n",
    "        print(f\"Image path does not exist: {image_path}\")\n",
    "    else:\n",
    "        new_json_data.append(item)"
   ]
  },
  {
   "cell_type": "code",
   "execution_count": 14,
   "id": "5602716b",
   "metadata": {},
   "outputs": [],
   "source": [
    "save_json(new_json_data, \"/data_ssd/DenseFusion1M/densefusion1m-train-existed.json\")"
   ]
  },
  {
   "cell_type": "code",
   "execution_count": 15,
   "id": "13cedf7b",
   "metadata": {},
   "outputs": [
    {
     "name": "stdout",
     "output_type": "stream",
     "text": [
      "1058755\n"
     ]
    }
   ],
   "source": [
    "print(len(new_json_data))"
   ]
  },
  {
   "cell_type": "code",
   "execution_count": null,
   "id": "eb6c9624",
   "metadata": {},
   "outputs": [],
   "source": []
  }
 ],
 "metadata": {
  "kernelspec": {
   "display_name": ".venv",
   "language": "python",
   "name": "python3"
  },
  "language_info": {
   "codemirror_mode": {
    "name": "ipython",
    "version": 3
   },
   "file_extension": ".py",
   "mimetype": "text/x-python",
   "name": "python",
   "nbconvert_exporter": "python",
   "pygments_lexer": "ipython3",
   "version": "3.12.10"
  }
 },
 "nbformat": 4,
 "nbformat_minor": 5
}
