{
 "cells": [
  {
   "cell_type": "markdown",
   "id": "6f7759b3",
   "metadata": {},
   "source": [
    "\"value\": \"[^<T]\n",
    "\"value\": \"[^<N]"
   ]
  }
 ],
 "metadata": {
  "language_info": {
   "name": "python"
  }
 },
 "nbformat": 4,
 "nbformat_minor": 5
}
